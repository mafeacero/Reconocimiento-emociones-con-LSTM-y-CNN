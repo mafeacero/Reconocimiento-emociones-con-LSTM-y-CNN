{
  "nbformat": 4,
  "nbformat_minor": 0,
  "metadata": {
    "colab": {
      "name": "3D ConvNet ADAM.ipynb",
      "provenance": [],
      "authorship_tag": "ABX9TyPzsvgOaGW2oi6WvL4BZl8W",
      "include_colab_link": true
    },
    "kernelspec": {
      "name": "python3",
      "display_name": "Python 3"
    }
  },
  "cells": [
    {
      "cell_type": "markdown",
      "metadata": {
        "id": "view-in-github",
        "colab_type": "text"
      },
      "source": [
        "<a href=\"https://colab.research.google.com/github/mafeacero/Reconocimiento-emociones-con-Redes-Neuronales/blob/master/3D_ConvNet%20-%20An%C3%A1lisis%20de%20Emociones%20en%20Videos.ipynb\" target=\"_parent\"><img src=\"https://colab.research.google.com/assets/colab-badge.svg\" alt=\"Open In Colab\"/></a>"
      ]
    },
    {
      "cell_type": "markdown",
      "metadata": {
        "id": "iRmoS10cwF8l",
        "colab_type": "text"
      },
      "source": [
        "#Carga de paquetes"
      ]
    },
    {
      "cell_type": "markdown",
      "metadata": {
        "id": "D3jvArjqwgS0",
        "colab_type": "text"
      },
      "source": [
        "Se cargan todos los paquetes relacionados con las redes neuronales y la carga de los datos desde google. Adicionalmente se cargan los paquetes usuales como son numpy, matplotlib y pues fundamentalmente TensorFlow."
      ]
    },
    {
      "cell_type": "code",
      "metadata": {
        "id": "4tNtZC-0f5ez",
        "colab_type": "code",
        "colab": {
          "base_uri": "https://localhost:8080/",
          "height": 120
        },
        "outputId": "36576225-9790-4417-ddc2-2368063cd816"
      },
      "source": [
        "from google.colab import drive #Conexión con Drive\n",
        "drive.mount('/content/drive')"
      ],
      "execution_count": 1,
      "outputs": [
        {
          "output_type": "stream",
          "text": [
            "Go to this URL in a browser: https://accounts.google.com/o/oauth2/auth?client_id=947318989803-6bn6qk8qdgf4n4g3pfee6491hc0brc4i.apps.googleusercontent.com&redirect_uri=urn%3aietf%3awg%3aoauth%3a2.0%3aoob&response_type=code&scope=email%20https%3a%2f%2fwww.googleapis.com%2fauth%2fdocs.test%20https%3a%2f%2fwww.googleapis.com%2fauth%2fdrive%20https%3a%2f%2fwww.googleapis.com%2fauth%2fdrive.photos.readonly%20https%3a%2f%2fwww.googleapis.com%2fauth%2fpeopleapi.readonly\n",
            "\n",
            "Enter your authorization code:\n",
            "··········\n",
            "Mounted at /content/drive\n"
          ],
          "name": "stdout"
        }
      ]
    },
    {
      "cell_type": "code",
      "metadata": {
        "id": "x8rnjZmDf7JG",
        "colab_type": "code",
        "colab": {
          "base_uri": "https://localhost:8080/",
          "height": 33
        },
        "outputId": "e41d691e-91ab-44d8-da77-d17fb36444f4"
      },
      "source": [
        "import numpy as np\n",
        "from sklearn.preprocessing import LabelEncoder, StandardScaler\n",
        "import keras\n",
        "from keras.models import Sequential\n",
        "from keras.layers import Dense, Dropout, Flatten\n",
        "from keras.layers import Conv2D, MaxPooling2D\n",
        "from keras.utils import to_categorical\n",
        "\n",
        "\n",
        "import tensorflow as tf"
      ],
      "execution_count": 2,
      "outputs": [
        {
          "output_type": "stream",
          "text": [
            "Using TensorFlow backend.\n"
          ],
          "name": "stderr"
        }
      ]
    },
    {
      "cell_type": "code",
      "metadata": {
        "id": "TnnOQl6qi5Zt",
        "colab_type": "code",
        "colab": {}
      },
      "source": [
        "from keras.layers import Conv3D, MaxPool3D, Flatten, Dense\n",
        "from keras.layers import Dropout, Input, BatchNormalization\n",
        "from sklearn.metrics import confusion_matrix, accuracy_score\n",
        "from plotly.offline import iplot, init_notebook_mode\n",
        "from keras.losses import categorical_crossentropy\n",
        "from keras.optimizers import Adadelta, Adam\n",
        "import plotly.graph_objs as go\n",
        "from matplotlib.pyplot import cm\n",
        "from keras.models import Model\n",
        "import numpy as np\n",
        "import keras\n",
        "import h5py"
      ],
      "execution_count": 4,
      "outputs": []
    },
    {
      "cell_type": "markdown",
      "metadata": {
        "id": "cB4imKDcwNpg",
        "colab_type": "text"
      },
      "source": [
        "# Carga de los datos"
      ]
    },
    {
      "cell_type": "markdown",
      "metadata": {
        "id": "rKRfu71Bwum8",
        "colab_type": "text"
      },
      "source": [
        "Se cargan los datos que ya fueron preprocesados previeamente. Los cuales se encuentran en escalas de gris y con el tamaño de 48x48x44 cada uno. Ya que son 48 pixeles de alto y ancho y 44 frames para cada uno de los videos."
      ]
    },
    {
      "cell_type": "code",
      "metadata": {
        "id": "MbkOPNShf-0s",
        "colab_type": "code",
        "colab": {}
      },
      "source": [
        "import joblib\n",
        "x = joblib.load('/content/drive/My Drive/Estadistica/Estadistica/Mineria de datos/Proyecto Minería de datos/Model_video/X_speech.joblib')\n",
        "y = joblib.load('/content/drive/My Drive/Estadistica/Estadistica/Mineria de datos/Proyecto Minería de datos/Model_video/y_speech.joblib')\n",
        "y=y.astype(int)-1"
      ],
      "execution_count": 5,
      "outputs": []
    },
    {
      "cell_type": "markdown",
      "metadata": {
        "id": "lYbZl_rDwQKN",
        "colab_type": "text"
      },
      "source": [
        "# Definición del Modelo"
      ]
    },
    {
      "cell_type": "markdown",
      "metadata": {
        "id": "-ETz8CBKw_J5",
        "colab_type": "text"
      },
      "source": [
        "Se define una red neuronal convolucionada en 3D, la cual tendrá la misma idea de la convolucional usual, pero en este caso se tomará el video como si fuera una imagen en 3D. Las capas que se usan son las usuales como Conv, MaxPool, BatchNormalization, Dense y Dropout."
      ]
    },
    {
      "cell_type": "code",
      "metadata": {
        "id": "NRY4Hn2JjCU2",
        "colab_type": "code",
        "colab": {}
      },
      "source": [
        "input_layer = Input((48, 48, 44, 1))\n",
        "\n",
        "## convolutional layers\n",
        "conv_layer1 = Conv3D(filters=8, kernel_size=(3, 3, 3), activation='relu')(input_layer)\n",
        "conv_layer2 = Conv3D(filters=16, kernel_size=(3, 3, 3), activation='relu')(conv_layer1)\n",
        "\n",
        "## add max pooling to obtain the most imformatic features\n",
        "pooling_layer1 = MaxPool3D(pool_size=(2, 2, 2))(conv_layer2)\n",
        "\n",
        "conv_layer3 = Conv3D(filters=32, kernel_size=(3, 3, 3), activation='relu')(pooling_layer1)\n",
        "conv_layer4 = Conv3D(filters=64, kernel_size=(3, 3, 3), activation='relu')(conv_layer3)\n",
        "pooling_layer2 = MaxPool3D(pool_size=(2, 2, 2))(conv_layer4)\n",
        "\n",
        "## perform batch normalization on the convolution outputs before feeding it to MLP architecture\n",
        "pooling_layer2 = BatchNormalization()(pooling_layer2)\n",
        "flatten_layer = Flatten()(pooling_layer2)\n",
        "\n",
        "## create an MLP architecture with dense layers : 4096 -> 512 -> 10\n",
        "## add dropouts to avoid overfitting / perform regularization\n",
        "dense_layer1 = Dense(units=2048, activation='relu')(flatten_layer)\n",
        "dense_layer1 = Dropout(0.4)(dense_layer1)\n",
        "dense_layer2 = Dense(units=512, activation='relu')(dense_layer1)\n",
        "dense_layer2 = Dropout(0.4)(dense_layer2)\n",
        "output_layer = Dense(units=8, activation='softmax')(dense_layer2)\n",
        "\n",
        "## define the model with input layer and output layer\n",
        "model = Model(inputs=input_layer, outputs=output_layer)"
      ],
      "execution_count": 6,
      "outputs": []
    },
    {
      "cell_type": "code",
      "metadata": {
        "id": "msSjfqJXi1QN",
        "colab_type": "code",
        "colab": {}
      },
      "source": [
        "dic  =  {0:'neutral', 1:'calmado', 2:'feliz', 3:'triste', 4:'enojado', 5:'asustado', 6:'disgustado', 7:'sorpresa'}"
      ],
      "execution_count": 7,
      "outputs": []
    },
    {
      "cell_type": "markdown",
      "metadata": {
        "id": "-CbS5OPmwTkk",
        "colab_type": "text"
      },
      "source": [
        "# Separación de datos en entrenamiento, validación y test"
      ]
    },
    {
      "cell_type": "markdown",
      "metadata": {
        "id": "fVxv9qsTxuoE",
        "colab_type": "text"
      },
      "source": [
        "Se separan los datos de forma balanceada para cada grupo, teniendo el mismo número de datos por categoría para cada uno de estos. "
      ]
    },
    {
      "cell_type": "code",
      "metadata": {
        "id": "b3YFDNynVx7I",
        "colab_type": "code",
        "colab": {}
      },
      "source": [
        "POR_VAL = 15 #entero\n",
        "POR_TEST = 5 #entero\n",
        "seed = 50\n",
        "\n",
        "ind_train = np.array([])\n",
        "ind_val = np.array([])\n",
        "ind_test = np.array([])\n",
        "\n",
        "for i in list(dic.keys()):\n",
        "\n",
        "  np.random.seed(seed)\n",
        "  ind_t = np.array(np.where(y == i)).flatten() #direcciones de esa emoción\n",
        "  l=len(ind_t)\n",
        "  \n",
        "  ind_val_e = np.random.choice(ind_t, int(l // POR_VAL), False) #muestreo\n",
        "  ind_train_e = np.setdiff1d(ind_t, ind_val_e)\n",
        "  ind_test_e = np.random.choice(ind_train_e, int(l // POR_TEST), False) #muestreo\n",
        "\n",
        "  ind_train_e = np.setdiff1d(ind_train_e, ind_test_e)\n",
        "\n",
        "  ind_train = np.concatenate((ind_train, ind_train_e))\n",
        "  ind_val = np.concatenate((ind_val, ind_val_e))\n",
        "  ind_test = np.concatenate((ind_test, ind_test_e))\n",
        "\n",
        "  seed += 1\n",
        "\n"
      ],
      "execution_count": null,
      "outputs": []
    },
    {
      "cell_type": "code",
      "metadata": {
        "id": "BiIn-xoniePQ",
        "colab_type": "code",
        "colab": {}
      },
      "source": [
        "np.random.seed(seed + 1)\n",
        "ind_train = np.random.choice(ind_train, len(ind_train), False)\n",
        "ind_val = np.random.choice(ind_val, len(ind_val), False)\n",
        "ind_test = np.random.choice(ind_test, len(ind_test), False)"
      ],
      "execution_count": null,
      "outputs": []
    },
    {
      "cell_type": "code",
      "metadata": {
        "id": "7tvaQZsiOotx",
        "colab_type": "code",
        "colab": {
          "base_uri": "https://localhost:8080/",
          "height": 34
        },
        "outputId": "23d123f3-d326-4140-d911-374fb6e813e9"
      },
      "source": [
        "len(ind_test)+len(ind_train)+len(ind_val)\n"
      ],
      "execution_count": null,
      "outputs": [
        {
          "output_type": "execute_result",
          "data": {
            "text/plain": [
              "1258"
            ]
          },
          "metadata": {
            "tags": []
          },
          "execution_count": 9
        }
      ]
    },
    {
      "cell_type": "code",
      "metadata": {
        "id": "LS8HeUAvQM06",
        "colab_type": "code",
        "colab": {}
      },
      "source": [
        "ind_train=ind_train.astype(int)\n",
        "ind_val=ind_val.astype(int)\n",
        "ind_test=ind_test.astype(int)"
      ],
      "execution_count": null,
      "outputs": []
    },
    {
      "cell_type": "code",
      "metadata": {
        "id": "L6cvg7lJQBcY",
        "colab_type": "code",
        "colab": {}
      },
      "source": [
        "X_train=x[ind_train, :,:,:, np.newaxis]\n",
        "X_val=x[ind_val, :,:,:, np.newaxis]\n",
        "X_test=x[ind_test, :,:,:, np.newaxis]"
      ],
      "execution_count": null,
      "outputs": []
    },
    {
      "cell_type": "code",
      "metadata": {
        "id": "43ly6R9aab14",
        "colab_type": "code",
        "colab": {}
      },
      "source": [
        "y=to_categorical(y, num_classes=8)"
      ],
      "execution_count": null,
      "outputs": []
    },
    {
      "cell_type": "code",
      "metadata": {
        "id": "nanUyo8YQ14Q",
        "colab_type": "code",
        "colab": {}
      },
      "source": [
        "y_train=y[ind_train]\n",
        "y_val=y[ind_val]\n",
        "y_test=y[ind_test]"
      ],
      "execution_count": null,
      "outputs": []
    },
    {
      "cell_type": "code",
      "metadata": {
        "id": "lE7QeHaxa6LO",
        "colab_type": "code",
        "colab": {
          "base_uri": "https://localhost:8080/",
          "height": 153
        },
        "outputId": "c45e4a10-1cb7-48a8-b533-fcfcdd3fc97a"
      },
      "source": [
        "[sum(y_test) for x in zip(*y_test)]"
      ],
      "execution_count": null,
      "outputs": [
        {
          "output_type": "execute_result",
          "data": {
            "text/plain": [
              "[array([16., 33., 33., 33., 33., 33., 33., 33.], dtype=float32),\n",
              " array([16., 33., 33., 33., 33., 33., 33., 33.], dtype=float32),\n",
              " array([16., 33., 33., 33., 33., 33., 33., 33.], dtype=float32),\n",
              " array([16., 33., 33., 33., 33., 33., 33., 33.], dtype=float32),\n",
              " array([16., 33., 33., 33., 33., 33., 33., 33.], dtype=float32),\n",
              " array([16., 33., 33., 33., 33., 33., 33., 33.], dtype=float32),\n",
              " array([16., 33., 33., 33., 33., 33., 33., 33.], dtype=float32),\n",
              " array([16., 33., 33., 33., 33., 33., 33., 33.], dtype=float32)]"
            ]
          },
          "metadata": {
            "tags": []
          },
          "execution_count": 14
        }
      ]
    },
    {
      "cell_type": "code",
      "metadata": {
        "id": "yiMJicqWQ61T",
        "colab_type": "code",
        "colab": {}
      },
      "source": [
        "import os\n",
        "save_dir = '/content/drive/My Drive/Estadistica/Estadistica/Mineria de datos/Proyecto Minería de datos/Model_audio_img/saved_models/'\n",
        "model_name = 'Emociones_3DCNN_model.{epoch:03d}.h5' \n",
        "filepath = os.path.join(save_dir, model_name)"
      ],
      "execution_count": null,
      "outputs": []
    },
    {
      "cell_type": "code",
      "metadata": {
        "id": "xj5YVFkvSbpA",
        "colab_type": "code",
        "colab": {}
      },
      "source": [
        "def lr_schedule(epoch):\n",
        "    \"\"\"Learning Rate Schedule\n",
        "\n",
        "    Learning rate is scheduled to be reduced after 80, 120, 160, 180 epochs.\n",
        "    Called automatically every epoch as part of callbacks during training.\n",
        "\n",
        "    # Arguments\n",
        "        epoch (int): The number of epochs\n",
        "\n",
        "    # Returns\n",
        "        lr (float32): learning rate\n",
        "    \"\"\"\n",
        "    lr = 1e-3\n",
        "    if epoch > 180:\n",
        "      lr*=0.5e3\n",
        "    elif epoch > 160:\n",
        "        lr *= 1e-3\n",
        "    elif epoch >120:\n",
        "      lr *= 1e-2\n",
        "    elif epoch > 80:\n",
        "        lr *= 1e-1\n",
        "    \n",
        "    print('Learning rate: ', lr)\n",
        "    return lr"
      ],
      "execution_count": null,
      "outputs": []
    },
    {
      "cell_type": "code",
      "metadata": {
        "id": "S3ws898aP8wh",
        "colab_type": "code",
        "colab": {}
      },
      "source": [
        "from keras.callbacks import ModelCheckpoint, LearningRateScheduler\n",
        "from keras.callbacks import ReduceLROnPlateau\n",
        "\n",
        "# prepare callbacks for model saving and for learning rate reducer\n",
        "checkpoint = ModelCheckpoint(filepath=filepath,\n",
        "                             monitor='val_acc',\n",
        "                             verbose=1,\n",
        "                             save_best_only=True)\n",
        "\n",
        "lr_scheduler = LearningRateScheduler(lr_schedule)\n",
        "\n",
        "lr_reducer = ReduceLROnPlateau(factor=np.sqrt(0.1),\n",
        "                               cooldown=0,\n",
        "                               patience=5,\n",
        "                               min_lr=0.5e-8)\n",
        "\n",
        "callbacks = [checkpoint, lr_reducer, lr_scheduler]\n"
      ],
      "execution_count": null,
      "outputs": []
    },
    {
      "cell_type": "code",
      "metadata": {
        "id": "QNe5KLjQTIuc",
        "colab_type": "code",
        "colab": {}
      },
      "source": [
        "model.compile(loss=categorical_crossentropy, optimizer=\"Adam\", metrics=['acc'])"
      ],
      "execution_count": 8,
      "outputs": []
    },
    {
      "cell_type": "markdown",
      "metadata": {
        "id": "ucT4Gl11x_H0",
        "colab_type": "text"
      },
      "source": [
        "Se define el modelo para correr 100 épocas, por medio de callbacks, se irán guardando los resultados y guardando. "
      ]
    },
    {
      "cell_type": "code",
      "metadata": {
        "id": "0GwCMmJDP_EU",
        "colab_type": "code",
        "colab": {
          "base_uri": "https://localhost:8080/",
          "height": 1000
        },
        "outputId": "97478cca-b86e-4249-8679-bd4f01e9797a"
      },
      "source": [
        "history = model.fit(X_train, \n",
        "                    y_train, \n",
        "                    epochs=100, \n",
        "                    validation_data=(X_val, y_val), \n",
        "                    batch_size=32, callbacks=callbacks)\n"
      ],
      "execution_count": null,
      "outputs": [
        {
          "output_type": "stream",
          "text": [
            "Train on 929 samples, validate on 82 samples\n",
            "Epoch 1/100\n",
            "Learning rate:  0.001\n",
            "929/929 [==============================] - 433s 466ms/step - loss: 9.0081 - acc: 0.1421 - val_loss: 73.4139 - val_acc: 0.1220\n",
            "\n",
            "Epoch 00001: val_acc improved from -inf to 0.12195, saving model to /content/drive/My Drive/Estadistica/Estadistica/Mineria de datos/Proyecto Minería de datos/Model_audio_img/saved_models/Emociones_3DCNN_model.001.h5\n",
            "Epoch 2/100\n",
            "Learning rate:  0.001\n",
            "929/929 [==============================] - 435s 468ms/step - loss: 2.2454 - acc: 0.2002 - val_loss: 8.1470 - val_acc: 0.1463\n",
            "\n",
            "Epoch 00002: val_acc improved from 0.12195 to 0.14634, saving model to /content/drive/My Drive/Estadistica/Estadistica/Mineria de datos/Proyecto Minería de datos/Model_audio_img/saved_models/Emociones_3DCNN_model.002.h5\n",
            "Epoch 3/100\n",
            "Learning rate:  0.001\n",
            "929/929 [==============================] - 432s 465ms/step - loss: 2.0074 - acc: 0.2185 - val_loss: 6.0527 - val_acc: 0.1585\n",
            "\n",
            "Epoch 00003: val_acc improved from 0.14634 to 0.15854, saving model to /content/drive/My Drive/Estadistica/Estadistica/Mineria de datos/Proyecto Minería de datos/Model_audio_img/saved_models/Emociones_3DCNN_model.003.h5\n",
            "Epoch 4/100\n",
            "Learning rate:  0.001\n",
            "929/929 [==============================] - 432s 465ms/step - loss: 1.9761 - acc: 0.2626 - val_loss: 11.8976 - val_acc: 0.1341\n",
            "\n",
            "Epoch 00004: val_acc did not improve from 0.15854\n",
            "Epoch 5/100\n",
            "Learning rate:  0.001\n",
            "929/929 [==============================] - 429s 462ms/step - loss: 1.8454 - acc: 0.2842 - val_loss: 19.8766 - val_acc: 0.1341\n",
            "\n",
            "Epoch 00005: val_acc did not improve from 0.15854\n",
            "Epoch 6/100\n",
            "Learning rate:  0.001\n",
            "929/929 [==============================] - 429s 462ms/step - loss: 1.8614 - acc: 0.2971 - val_loss: 7.5766 - val_acc: 0.2073\n",
            "\n",
            "Epoch 00006: val_acc improved from 0.15854 to 0.20732, saving model to /content/drive/My Drive/Estadistica/Estadistica/Mineria de datos/Proyecto Minería de datos/Model_audio_img/saved_models/Emociones_3DCNN_model.006.h5\n",
            "Epoch 7/100\n",
            "Learning rate:  0.001\n",
            "929/929 [==============================] - 430s 463ms/step - loss: 1.7748 - acc: 0.3229 - val_loss: 8.4079 - val_acc: 0.1341\n",
            "\n",
            "Epoch 00007: val_acc did not improve from 0.20732\n",
            "Epoch 8/100\n",
            "Learning rate:  0.001\n",
            "929/929 [==============================] - 429s 462ms/step - loss: 1.6592 - acc: 0.3692 - val_loss: 4.6445 - val_acc: 0.1341\n",
            "\n",
            "Epoch 00008: val_acc did not improve from 0.20732\n",
            "Epoch 9/100\n",
            "Learning rate:  0.001\n",
            "929/929 [==============================] - 429s 462ms/step - loss: 1.6039 - acc: 0.4026 - val_loss: 12.5672 - val_acc: 0.1341\n",
            "\n",
            "Epoch 00009: val_acc did not improve from 0.20732\n",
            "Epoch 10/100\n",
            "Learning rate:  0.001\n",
            "929/929 [==============================] - 428s 460ms/step - loss: 1.5945 - acc: 0.4187 - val_loss: 13.3322 - val_acc: 0.1341\n",
            "\n",
            "Epoch 00010: val_acc did not improve from 0.20732\n",
            "Epoch 11/100\n",
            "Learning rate:  0.001\n",
            "929/929 [==============================] - 429s 462ms/step - loss: 1.5010 - acc: 0.4230 - val_loss: 13.5923 - val_acc: 0.1341\n",
            "\n",
            "Epoch 00011: val_acc did not improve from 0.20732\n",
            "Epoch 12/100\n",
            "Learning rate:  0.001\n",
            "929/929 [==============================] - 431s 463ms/step - loss: 1.4294 - acc: 0.4607 - val_loss: 17.7326 - val_acc: 0.1341\n",
            "\n",
            "Epoch 00012: val_acc did not improve from 0.20732\n",
            "Epoch 13/100\n",
            "Learning rate:  0.001\n",
            "929/929 [==============================] - 430s 463ms/step - loss: 1.3410 - acc: 0.5005 - val_loss: 7.3140 - val_acc: 0.1951\n",
            "\n",
            "Epoch 00013: val_acc did not improve from 0.20732\n",
            "Epoch 14/100\n",
            "Learning rate:  0.001\n",
            "929/929 [==============================] - 433s 466ms/step - loss: 1.1578 - acc: 0.5748 - val_loss: 6.4483 - val_acc: 0.1341\n",
            "\n",
            "Epoch 00014: val_acc did not improve from 0.20732\n",
            "Epoch 15/100\n",
            "Learning rate:  0.001\n",
            "929/929 [==============================] - 439s 472ms/step - loss: 0.9978 - acc: 0.6340 - val_loss: 21.1663 - val_acc: 0.1341\n",
            "\n",
            "Epoch 00015: val_acc did not improve from 0.20732\n",
            "Epoch 16/100\n",
            "Learning rate:  0.001\n",
            "929/929 [==============================] - 430s 463ms/step - loss: 0.8182 - acc: 0.7061 - val_loss: 14.7943 - val_acc: 0.1341\n",
            "\n",
            "Epoch 00016: val_acc did not improve from 0.20732\n",
            "Epoch 17/100\n",
            "Learning rate:  0.001\n",
            "929/929 [==============================] - 428s 461ms/step - loss: 0.7232 - acc: 0.7395 - val_loss: 18.8562 - val_acc: 0.1341\n",
            "\n",
            "Epoch 00017: val_acc did not improve from 0.20732\n",
            "Epoch 18/100\n",
            "Learning rate:  0.001\n",
            "929/929 [==============================] - 429s 462ms/step - loss: 0.6043 - acc: 0.8062 - val_loss: 21.2713 - val_acc: 0.1341\n",
            "\n",
            "Epoch 00018: val_acc did not improve from 0.20732\n",
            "Epoch 19/100\n",
            "Learning rate:  0.001\n",
            "929/929 [==============================] - 430s 463ms/step - loss: 0.8645 - acc: 0.6954 - val_loss: 7.7592 - val_acc: 0.2317\n",
            "\n",
            "Epoch 00019: val_acc improved from 0.20732 to 0.23171, saving model to /content/drive/My Drive/Estadistica/Estadistica/Mineria de datos/Proyecto Minería de datos/Model_audio_img/saved_models/Emociones_3DCNN_model.019.h5\n",
            "Epoch 20/100\n",
            "Learning rate:  0.001\n",
            "929/929 [==============================] - 431s 464ms/step - loss: 0.8166 - acc: 0.7051 - val_loss: 12.2020 - val_acc: 0.1829\n",
            "\n",
            "Epoch 00020: val_acc did not improve from 0.23171\n",
            "Epoch 21/100\n",
            "Learning rate:  0.001\n",
            "929/929 [==============================] - 434s 467ms/step - loss: 0.7318 - acc: 0.7481 - val_loss: 3.9601 - val_acc: 0.3293\n",
            "\n",
            "Epoch 00021: val_acc improved from 0.23171 to 0.32927, saving model to /content/drive/My Drive/Estadistica/Estadistica/Mineria de datos/Proyecto Minería de datos/Model_audio_img/saved_models/Emociones_3DCNN_model.021.h5\n",
            "Epoch 22/100\n",
            "Learning rate:  0.001\n",
            "929/929 [==============================] - 432s 465ms/step - loss: 0.6748 - acc: 0.7686 - val_loss: 2.3746 - val_acc: 0.4268\n",
            "\n",
            "Epoch 00022: val_acc improved from 0.32927 to 0.42683, saving model to /content/drive/My Drive/Estadistica/Estadistica/Mineria de datos/Proyecto Minería de datos/Model_audio_img/saved_models/Emociones_3DCNN_model.022.h5\n",
            "Epoch 23/100\n",
            "Learning rate:  0.001\n",
            "929/929 [==============================] - 437s 470ms/step - loss: 0.4681 - acc: 0.8364 - val_loss: 3.1882 - val_acc: 0.4024\n",
            "\n",
            "Epoch 00023: val_acc did not improve from 0.42683\n",
            "Epoch 24/100\n",
            "Learning rate:  0.001\n",
            "929/929 [==============================] - 429s 462ms/step - loss: 0.2902 - acc: 0.9064 - val_loss: 3.9293 - val_acc: 0.3049\n",
            "\n",
            "Epoch 00024: val_acc did not improve from 0.42683\n",
            "Epoch 25/100\n",
            "Learning rate:  0.001\n",
            "929/929 [==============================] - 432s 465ms/step - loss: 0.2125 - acc: 0.9322 - val_loss: 2.9359 - val_acc: 0.4878\n",
            "\n",
            "Epoch 00025: val_acc improved from 0.42683 to 0.48780, saving model to /content/drive/My Drive/Estadistica/Estadistica/Mineria de datos/Proyecto Minería de datos/Model_audio_img/saved_models/Emociones_3DCNN_model.025.h5\n",
            "Epoch 26/100\n",
            "Learning rate:  0.001\n",
            "929/929 [==============================] - 436s 469ms/step - loss: 0.1939 - acc: 0.9290 - val_loss: 4.0998 - val_acc: 0.5244\n",
            "\n",
            "Epoch 00026: val_acc improved from 0.48780 to 0.52439, saving model to /content/drive/My Drive/Estadistica/Estadistica/Mineria de datos/Proyecto Minería de datos/Model_audio_img/saved_models/Emociones_3DCNN_model.026.h5\n",
            "Epoch 27/100\n",
            "Learning rate:  0.001\n",
            "929/929 [==============================] - 436s 470ms/step - loss: 0.1771 - acc: 0.9386 - val_loss: 6.8121 - val_acc: 0.3659\n",
            "\n",
            "Epoch 00027: val_acc did not improve from 0.52439\n",
            "Epoch 28/100\n",
            "Learning rate:  0.001\n",
            "929/929 [==============================] - 433s 466ms/step - loss: 0.2201 - acc: 0.9343 - val_loss: 4.0962 - val_acc: 0.4878\n",
            "\n",
            "Epoch 00028: val_acc did not improve from 0.52439\n",
            "Epoch 29/100\n",
            "Learning rate:  0.001\n",
            "929/929 [==============================] - 433s 466ms/step - loss: 0.1340 - acc: 0.9634 - val_loss: 3.1628 - val_acc: 0.4024\n",
            "\n",
            "Epoch 00029: val_acc did not improve from 0.52439\n",
            "Epoch 30/100\n",
            "Learning rate:  0.001\n",
            "929/929 [==============================] - 433s 466ms/step - loss: 0.2811 - acc: 0.9150 - val_loss: 8.1639 - val_acc: 0.3415\n",
            "\n",
            "Epoch 00030: val_acc did not improve from 0.52439\n",
            "Epoch 31/100\n",
            "Learning rate:  0.001\n",
            "929/929 [==============================] - 435s 468ms/step - loss: 0.1796 - acc: 0.9473 - val_loss: 3.2272 - val_acc: 0.4390\n",
            "\n",
            "Epoch 00031: val_acc did not improve from 0.52439\n",
            "Epoch 32/100\n",
            "Learning rate:  0.001\n",
            "929/929 [==============================] - 433s 466ms/step - loss: 0.1132 - acc: 0.9623 - val_loss: 3.1218 - val_acc: 0.4634\n",
            "\n",
            "Epoch 00032: val_acc did not improve from 0.52439\n",
            "Epoch 33/100\n",
            "Learning rate:  0.001\n",
            "929/929 [==============================] - 433s 466ms/step - loss: 0.0850 - acc: 0.9709 - val_loss: 5.2563 - val_acc: 0.3293\n",
            "\n",
            "Epoch 00033: val_acc did not improve from 0.52439\n",
            "Epoch 34/100\n",
            "Learning rate:  0.001\n",
            "929/929 [==============================] - 433s 466ms/step - loss: 0.0624 - acc: 0.9795 - val_loss: 9.5402 - val_acc: 0.2439\n",
            "\n",
            "Epoch 00034: val_acc did not improve from 0.52439\n",
            "Epoch 35/100\n",
            "Learning rate:  0.001\n",
            "929/929 [==============================] - 432s 465ms/step - loss: 0.0345 - acc: 0.9914 - val_loss: 3.1806 - val_acc: 0.5122\n",
            "\n",
            "Epoch 00035: val_acc did not improve from 0.52439\n",
            "Epoch 36/100\n",
            "Learning rate:  0.001\n",
            "929/929 [==============================] - 432s 465ms/step - loss: 0.0768 - acc: 0.9763 - val_loss: 4.9586 - val_acc: 0.3537\n",
            "\n",
            "Epoch 00036: val_acc did not improve from 0.52439\n",
            "Epoch 37/100\n",
            "Learning rate:  0.001\n",
            "929/929 [==============================] - 436s 469ms/step - loss: 0.0731 - acc: 0.9731 - val_loss: 5.3637 - val_acc: 0.3780\n",
            "\n",
            "Epoch 00037: val_acc did not improve from 0.52439\n",
            "Epoch 38/100\n",
            "Learning rate:  0.001\n",
            "929/929 [==============================] - 432s 465ms/step - loss: 0.0613 - acc: 0.9828 - val_loss: 2.2780 - val_acc: 0.6098\n",
            "\n",
            "Epoch 00038: val_acc improved from 0.52439 to 0.60976, saving model to /content/drive/My Drive/Estadistica/Estadistica/Mineria de datos/Proyecto Minería de datos/Model_audio_img/saved_models/Emociones_3DCNN_model.038.h5\n",
            "Epoch 39/100\n",
            "Learning rate:  0.001\n",
            "929/929 [==============================] - 435s 468ms/step - loss: 0.0565 - acc: 0.9828 - val_loss: 2.2602 - val_acc: 0.5854\n",
            "\n",
            "Epoch 00039: val_acc did not improve from 0.60976\n",
            "Epoch 40/100\n",
            "Learning rate:  0.001\n",
            "929/929 [==============================] - 432s 465ms/step - loss: 0.1101 - acc: 0.9634 - val_loss: 4.1025 - val_acc: 0.4024\n",
            "\n",
            "Epoch 00040: val_acc did not improve from 0.60976\n",
            "Epoch 41/100\n",
            "Learning rate:  0.001\n",
            "929/929 [==============================] - 431s 464ms/step - loss: 0.0781 - acc: 0.9763 - val_loss: 3.9946 - val_acc: 0.5366\n",
            "\n",
            "Epoch 00041: val_acc did not improve from 0.60976\n",
            "Epoch 42/100\n",
            "Learning rate:  0.001\n",
            "929/929 [==============================] - 432s 465ms/step - loss: 0.0434 - acc: 0.9860 - val_loss: 3.4145 - val_acc: 0.5000\n",
            "\n",
            "Epoch 00042: val_acc did not improve from 0.60976\n",
            "Epoch 43/100\n",
            "Learning rate:  0.001\n",
            "929/929 [==============================] - 432s 465ms/step - loss: 0.0411 - acc: 0.9882 - val_loss: 1.6351 - val_acc: 0.6341\n",
            "\n",
            "Epoch 00043: val_acc improved from 0.60976 to 0.63415, saving model to /content/drive/My Drive/Estadistica/Estadistica/Mineria de datos/Proyecto Minería de datos/Model_audio_img/saved_models/Emociones_3DCNN_model.043.h5\n",
            "Epoch 44/100\n",
            "Learning rate:  0.001\n",
            "929/929 [==============================] - 434s 467ms/step - loss: 0.0294 - acc: 0.9935 - val_loss: 1.7791 - val_acc: 0.5854\n",
            "\n",
            "Epoch 00044: val_acc did not improve from 0.63415\n",
            "Epoch 45/100\n",
            "Learning rate:  0.001\n",
            "929/929 [==============================] - 432s 465ms/step - loss: 0.0112 - acc: 0.9978 - val_loss: 1.8121 - val_acc: 0.6585\n",
            "\n",
            "Epoch 00045: val_acc improved from 0.63415 to 0.65854, saving model to /content/drive/My Drive/Estadistica/Estadistica/Mineria de datos/Proyecto Minería de datos/Model_audio_img/saved_models/Emociones_3DCNN_model.045.h5\n",
            "Epoch 46/100\n",
            "Learning rate:  0.001\n",
            "929/929 [==============================] - 436s 469ms/step - loss: 0.0180 - acc: 0.9957 - val_loss: 2.1000 - val_acc: 0.5976\n",
            "\n",
            "Epoch 00046: val_acc did not improve from 0.65854\n",
            "Epoch 47/100\n",
            "Learning rate:  0.001\n",
            "929/929 [==============================] - 433s 466ms/step - loss: 0.0164 - acc: 0.9957 - val_loss: 2.3045 - val_acc: 0.6098\n",
            "\n",
            "Epoch 00047: val_acc did not improve from 0.65854\n",
            "Epoch 48/100\n",
            "Learning rate:  0.001\n",
            "929/929 [==============================] - 434s 467ms/step - loss: 0.0264 - acc: 0.9892 - val_loss: 5.3499 - val_acc: 0.4512\n",
            "\n",
            "Epoch 00048: val_acc did not improve from 0.65854\n",
            "Epoch 49/100\n",
            "Learning rate:  0.001\n",
            "929/929 [==============================] - 433s 466ms/step - loss: 0.0215 - acc: 0.9957 - val_loss: 2.3157 - val_acc: 0.6829\n",
            "\n",
            "Epoch 00049: val_acc improved from 0.65854 to 0.68293, saving model to /content/drive/My Drive/Estadistica/Estadistica/Mineria de datos/Proyecto Minería de datos/Model_audio_img/saved_models/Emociones_3DCNN_model.049.h5\n",
            "Epoch 50/100\n",
            "Learning rate:  0.001\n",
            "929/929 [==============================] - 436s 469ms/step - loss: 0.0234 - acc: 0.9914 - val_loss: 2.4774 - val_acc: 0.5366\n",
            "\n",
            "Epoch 00050: val_acc did not improve from 0.68293\n",
            "Epoch 51/100\n",
            "Learning rate:  0.001\n",
            "929/929 [==============================] - 434s 467ms/step - loss: 0.1216 - acc: 0.9623 - val_loss: 3.2362 - val_acc: 0.5122\n",
            "\n",
            "Epoch 00051: val_acc did not improve from 0.68293\n",
            "Epoch 52/100\n",
            "Learning rate:  0.001\n",
            "929/929 [==============================] - 435s 468ms/step - loss: 0.0575 - acc: 0.9882 - val_loss: 3.7687 - val_acc: 0.4268\n",
            "\n",
            "Epoch 00052: val_acc did not improve from 0.68293\n",
            "Epoch 53/100\n",
            "Learning rate:  0.001\n",
            "929/929 [==============================] - 432s 465ms/step - loss: 0.0213 - acc: 0.9925 - val_loss: 3.9283 - val_acc: 0.5244\n",
            "\n",
            "Epoch 00053: val_acc did not improve from 0.68293\n",
            "Epoch 54/100\n",
            "Learning rate:  0.001\n",
            "929/929 [==============================] - 436s 469ms/step - loss: 0.0301 - acc: 0.9903 - val_loss: 3.6183 - val_acc: 0.5488\n",
            "\n",
            "Epoch 00054: val_acc did not improve from 0.68293\n",
            "Epoch 55/100\n",
            "Learning rate:  0.001\n",
            "929/929 [==============================] - 433s 466ms/step - loss: 0.0589 - acc: 0.9828 - val_loss: 7.5056 - val_acc: 0.3659\n",
            "\n",
            "Epoch 00055: val_acc did not improve from 0.68293\n",
            "Epoch 56/100\n",
            "Learning rate:  0.001\n",
            "929/929 [==============================] - 433s 466ms/step - loss: 0.4511 - acc: 0.8773 - val_loss: 17.8778 - val_acc: 0.1951\n",
            "\n",
            "Epoch 00056: val_acc did not improve from 0.68293\n",
            "Epoch 57/100\n",
            "Learning rate:  0.001\n",
            "929/929 [==============================] - 433s 466ms/step - loss: 0.2037 - acc: 0.9290 - val_loss: 12.8211 - val_acc: 0.2683\n",
            "\n",
            "Epoch 00057: val_acc did not improve from 0.68293\n",
            "Epoch 58/100\n",
            "Learning rate:  0.001\n",
            "929/929 [==============================] - 433s 466ms/step - loss: 0.1709 - acc: 0.9483 - val_loss: 3.9866 - val_acc: 0.5000\n",
            "\n",
            "Epoch 00058: val_acc did not improve from 0.68293\n",
            "Epoch 59/100\n",
            "Learning rate:  0.001\n",
            "929/929 [==============================] - 435s 468ms/step - loss: 0.1014 - acc: 0.9656 - val_loss: 2.3866 - val_acc: 0.5732\n",
            "\n",
            "Epoch 00059: val_acc did not improve from 0.68293\n",
            "Epoch 60/100\n",
            "Learning rate:  0.001\n",
            "929/929 [==============================] - 433s 467ms/step - loss: 0.1214 - acc: 0.9591 - val_loss: 17.9879 - val_acc: 0.2683\n",
            "\n",
            "Epoch 00060: val_acc did not improve from 0.68293\n",
            "Epoch 61/100\n",
            "Learning rate:  0.001\n",
            "929/929 [==============================] - 433s 466ms/step - loss: 0.0626 - acc: 0.9828 - val_loss: 15.9603 - val_acc: 0.1585\n",
            "\n",
            "Epoch 00061: val_acc did not improve from 0.68293\n",
            "Epoch 62/100\n",
            "Learning rate:  0.001\n",
            "929/929 [==============================] - 433s 466ms/step - loss: 0.0534 - acc: 0.9849 - val_loss: 4.9354 - val_acc: 0.4512\n",
            "\n",
            "Epoch 00062: val_acc did not improve from 0.68293\n",
            "Epoch 63/100\n",
            "Learning rate:  0.001\n",
            "929/929 [==============================] - 436s 469ms/step - loss: 0.0654 - acc: 0.9817 - val_loss: 2.9096 - val_acc: 0.5854\n",
            "\n",
            "Epoch 00063: val_acc did not improve from 0.68293\n",
            "Epoch 64/100\n",
            "Learning rate:  0.001\n",
            "929/929 [==============================] - 434s 467ms/step - loss: 0.0455 - acc: 0.9849 - val_loss: 3.9256 - val_acc: 0.4878\n",
            "\n",
            "Epoch 00064: val_acc did not improve from 0.68293\n",
            "Epoch 65/100\n",
            "Learning rate:  0.001\n",
            "929/929 [==============================] - 433s 466ms/step - loss: 0.0818 - acc: 0.9742 - val_loss: 4.3910 - val_acc: 0.5000\n",
            "\n",
            "Epoch 00065: val_acc did not improve from 0.68293\n",
            "Epoch 66/100\n",
            "Learning rate:  0.001\n",
            "929/929 [==============================] - 435s 468ms/step - loss: 0.0245 - acc: 0.9946 - val_loss: 3.2101 - val_acc: 0.4756\n",
            "\n",
            "Epoch 00066: val_acc did not improve from 0.68293\n",
            "Epoch 67/100\n",
            "Learning rate:  0.001\n",
            "929/929 [==============================] - 434s 467ms/step - loss: 0.0342 - acc: 0.9903 - val_loss: 2.5623 - val_acc: 0.6341\n",
            "\n",
            "Epoch 00067: val_acc did not improve from 0.68293\n",
            "Epoch 68/100\n",
            "Learning rate:  0.001\n",
            "929/929 [==============================] - 434s 468ms/step - loss: 0.0501 - acc: 0.9914 - val_loss: 2.2590 - val_acc: 0.6098\n",
            "\n",
            "Epoch 00068: val_acc did not improve from 0.68293\n",
            "Epoch 69/100\n",
            "Learning rate:  0.001\n",
            "929/929 [==============================] - 434s 468ms/step - loss: 0.0831 - acc: 0.9892 - val_loss: 4.8753 - val_acc: 0.3902\n",
            "\n",
            "Epoch 00069: val_acc did not improve from 0.68293\n",
            "Epoch 70/100\n",
            "Learning rate:  0.001\n",
            "929/929 [==============================] - 434s 467ms/step - loss: 0.0446 - acc: 0.9860 - val_loss: 6.0274 - val_acc: 0.3659\n",
            "\n",
            "Epoch 00070: val_acc did not improve from 0.68293\n",
            "Epoch 71/100\n",
            "Learning rate:  0.001\n",
            "929/929 [==============================] - 434s 467ms/step - loss: 0.0904 - acc: 0.9699 - val_loss: 3.5311 - val_acc: 0.5244\n",
            "\n",
            "Epoch 00071: val_acc did not improve from 0.68293\n",
            "Epoch 72/100\n",
            "Learning rate:  0.001\n",
            "929/929 [==============================] - 433s 466ms/step - loss: 0.6538 - acc: 0.8461 - val_loss: 5.9006 - val_acc: 0.2927\n",
            "\n",
            "Epoch 00072: val_acc did not improve from 0.68293\n",
            "Epoch 73/100\n",
            "Learning rate:  0.001\n",
            "929/929 [==============================] - 434s 468ms/step - loss: 0.3776 - acc: 0.9053 - val_loss: 2.7386 - val_acc: 0.5366\n",
            "\n",
            "Epoch 00073: val_acc did not improve from 0.68293\n",
            "Epoch 74/100\n",
            "Learning rate:  0.001\n",
            "929/929 [==============================] - 434s 467ms/step - loss: 0.1519 - acc: 0.9548 - val_loss: 7.2650 - val_acc: 0.3902\n",
            "\n",
            "Epoch 00074: val_acc did not improve from 0.68293\n",
            "Epoch 75/100\n",
            "Learning rate:  0.001\n",
            "929/929 [==============================] - 434s 467ms/step - loss: 0.0779 - acc: 0.9763 - val_loss: 6.6067 - val_acc: 0.3780\n",
            "\n",
            "Epoch 00075: val_acc did not improve from 0.68293\n",
            "Epoch 76/100\n",
            "Learning rate:  0.001\n",
            "929/929 [==============================] - 433s 467ms/step - loss: 0.0931 - acc: 0.9731 - val_loss: 3.0184 - val_acc: 0.5366\n",
            "\n",
            "Epoch 00076: val_acc did not improve from 0.68293\n",
            "Epoch 77/100\n",
            "Learning rate:  0.001\n",
            "929/929 [==============================] - 434s 467ms/step - loss: 0.1347 - acc: 0.9666 - val_loss: 9.5242 - val_acc: 0.3780\n",
            "\n",
            "Epoch 00077: val_acc did not improve from 0.68293\n",
            "Epoch 78/100\n",
            "Learning rate:  0.001\n",
            "929/929 [==============================] - 435s 468ms/step - loss: 0.0431 - acc: 0.9839 - val_loss: 4.2589 - val_acc: 0.5610\n",
            "\n",
            "Epoch 00078: val_acc did not improve from 0.68293\n",
            "Epoch 79/100\n",
            "Learning rate:  0.001\n",
            "929/929 [==============================] - 434s 467ms/step - loss: 0.0497 - acc: 0.9860 - val_loss: 2.5472 - val_acc: 0.6829\n",
            "\n",
            "Epoch 00079: val_acc did not improve from 0.68293\n",
            "Epoch 80/100\n",
            "Learning rate:  0.001\n",
            "929/929 [==============================] - 435s 468ms/step - loss: 0.0451 - acc: 0.9860 - val_loss: 4.8641 - val_acc: 0.5122\n",
            "\n",
            "Epoch 00080: val_acc did not improve from 0.68293\n",
            "Epoch 81/100\n",
            "Learning rate:  0.001\n",
            "929/929 [==============================] - 434s 467ms/step - loss: 0.0431 - acc: 0.9860 - val_loss: 4.3047 - val_acc: 0.4878\n",
            "\n",
            "Epoch 00081: val_acc did not improve from 0.68293\n",
            "Epoch 82/100\n",
            "Learning rate:  0.0001\n",
            "929/929 [==============================] - 435s 468ms/step - loss: 0.0492 - acc: 0.9882 - val_loss: 2.9097 - val_acc: 0.5854\n",
            "\n",
            "Epoch 00082: val_acc did not improve from 0.68293\n",
            "Epoch 83/100\n",
            "Learning rate:  0.0001\n",
            "929/929 [==============================] - 435s 468ms/step - loss: 0.0186 - acc: 0.9946 - val_loss: 2.6256 - val_acc: 0.5976\n",
            "\n",
            "Epoch 00083: val_acc did not improve from 0.68293\n",
            "Epoch 84/100\n",
            "Learning rate:  0.0001\n",
            "929/929 [==============================] - 435s 468ms/step - loss: 0.0303 - acc: 0.9914 - val_loss: 2.6538 - val_acc: 0.5366\n",
            "\n",
            "Epoch 00084: val_acc did not improve from 0.68293\n",
            "Epoch 85/100\n",
            "Learning rate:  0.0001\n",
            "929/929 [==============================] - 435s 468ms/step - loss: 0.0235 - acc: 0.9925 - val_loss: 2.5909 - val_acc: 0.5488\n",
            "\n",
            "Epoch 00085: val_acc did not improve from 0.68293\n",
            "Epoch 86/100\n",
            "Learning rate:  0.0001\n",
            "929/929 [==============================] - 435s 469ms/step - loss: 0.0152 - acc: 0.9957 - val_loss: 2.6549 - val_acc: 0.5732\n",
            "\n",
            "Epoch 00086: val_acc did not improve from 0.68293\n",
            "Epoch 87/100\n",
            "Learning rate:  0.0001\n",
            "929/929 [==============================] - 435s 468ms/step - loss: 0.0140 - acc: 0.9968 - val_loss: 2.7000 - val_acc: 0.5732\n",
            "\n",
            "Epoch 00087: val_acc did not improve from 0.68293\n",
            "Epoch 88/100\n",
            "Learning rate:  0.0001\n",
            "929/929 [==============================] - 434s 467ms/step - loss: 0.0073 - acc: 0.9978 - val_loss: 2.6401 - val_acc: 0.5610\n",
            "\n",
            "Epoch 00088: val_acc did not improve from 0.68293\n",
            "Epoch 89/100\n",
            "Learning rate:  0.0001\n",
            "929/929 [==============================] - 434s 467ms/step - loss: 0.0168 - acc: 0.9968 - val_loss: 2.6300 - val_acc: 0.5732\n",
            "\n",
            "Epoch 00089: val_acc did not improve from 0.68293\n",
            "Epoch 90/100\n",
            "Learning rate:  0.0001\n",
            "929/929 [==============================] - 436s 469ms/step - loss: 0.0098 - acc: 0.9968 - val_loss: 2.6112 - val_acc: 0.5732\n",
            "\n",
            "Epoch 00090: val_acc did not improve from 0.68293\n",
            "Epoch 91/100\n",
            "Learning rate:  0.0001\n",
            "929/929 [==============================] - 434s 467ms/step - loss: 0.0167 - acc: 0.9946 - val_loss: 2.4043 - val_acc: 0.5732\n",
            "\n",
            "Epoch 00091: val_acc did not improve from 0.68293\n",
            "Epoch 92/100\n",
            "Learning rate:  0.0001\n",
            "929/929 [==============================] - 435s 468ms/step - loss: 0.0034 - acc: 1.0000 - val_loss: 2.3380 - val_acc: 0.5610\n",
            "\n",
            "Epoch 00092: val_acc did not improve from 0.68293\n",
            "Epoch 93/100\n",
            "Learning rate:  0.0001\n",
            "929/929 [==============================] - 435s 468ms/step - loss: 0.0089 - acc: 0.9968 - val_loss: 2.3901 - val_acc: 0.5854\n",
            "\n",
            "Epoch 00093: val_acc did not improve from 0.68293\n",
            "Epoch 94/100\n",
            "Learning rate:  0.0001\n",
            "929/929 [==============================] - 435s 468ms/step - loss: 0.0022 - acc: 1.0000 - val_loss: 2.3875 - val_acc: 0.5854\n",
            "\n",
            "Epoch 00094: val_acc did not improve from 0.68293\n",
            "Epoch 95/100\n",
            "Learning rate:  0.0001\n",
            "929/929 [==============================] - 435s 468ms/step - loss: 0.0089 - acc: 0.9978 - val_loss: 2.3953 - val_acc: 0.5854\n",
            "\n",
            "Epoch 00095: val_acc did not improve from 0.68293\n",
            "Epoch 96/100\n",
            "Learning rate:  0.0001\n",
            "929/929 [==============================] - 435s 468ms/step - loss: 0.0156 - acc: 0.9968 - val_loss: 2.4925 - val_acc: 0.5854\n",
            "\n",
            "Epoch 00096: val_acc did not improve from 0.68293\n",
            "Epoch 97/100\n",
            "Learning rate:  0.0001\n",
            "929/929 [==============================] - 437s 470ms/step - loss: 0.0067 - acc: 0.9968 - val_loss: 2.4420 - val_acc: 0.5976\n",
            "\n",
            "Epoch 00097: val_acc did not improve from 0.68293\n",
            "Epoch 98/100\n",
            "Learning rate:  0.0001\n",
            "929/929 [==============================] - 435s 468ms/step - loss: 0.0081 - acc: 0.9957 - val_loss: 2.5150 - val_acc: 0.6098\n",
            "\n",
            "Epoch 00098: val_acc did not improve from 0.68293\n",
            "Epoch 99/100\n",
            "Learning rate:  0.0001\n",
            "929/929 [==============================] - 436s 469ms/step - loss: 0.0049 - acc: 0.9978 - val_loss: 2.4546 - val_acc: 0.5854\n",
            "\n",
            "Epoch 00099: val_acc did not improve from 0.68293\n",
            "Epoch 100/100\n",
            "Learning rate:  0.0001\n",
            "320/929 [=========>....................] - ETA: 4:39 - loss: 0.0043 - acc: 1.0000"
          ],
          "name": "stdout"
        }
      ]
    },
    {
      "cell_type": "code",
      "metadata": {
        "id": "v3eNMW4bCjWe",
        "colab_type": "code",
        "colab": {}
      },
      "source": [
        "import os\n",
        "indtrain_name = 'ind_train.joblib'\n",
        "indtest_name = 'ind_test.joblib'\n",
        "indval_name='ind_val.joblib'\n",
        "save_dir = '/content/drive/My Drive/Estadistica/Estadistica/Mineria de datos/Proyecto Minería de datos/Model_video'\n",
        "\n",
        "savedindtrain = joblib.dump(ind_train, os.path.join(save_dir, indtrain_name))\n",
        "savedindtest = joblib.dump(ind_test, os.path.join(save_dir, indtest_name))\n",
        "savedindval = joblib.dump(ind_val, os.path.join(save_dir, indval_name))"
      ],
      "execution_count": null,
      "outputs": []
    },
    {
      "cell_type": "code",
      "metadata": {
        "id": "fN4Z3dBFOtPk",
        "colab_type": "code",
        "colab": {}
      },
      "source": [
        "model.load_weights(\"/content/drive/My Drive/Estadistica/Estadistica/Mineria de datos/Proyecto Minería de datos/Model_audio_img/saved_models/Emociones_3DCNN_model.049.h5\")"
      ],
      "execution_count": null,
      "outputs": []
    },
    {
      "cell_type": "code",
      "metadata": {
        "id": "DSgfwRzXD9Yg",
        "colab_type": "code",
        "colab": {}
      },
      "source": [
        "import matplotlib.pyplot as plt\n",
        "acc = history.history['accuracy']\n",
        "val_acc = history.history['val_accuracy']\n",
        "loss = history.history['loss']\n",
        "val_loss = history.history['val_loss']\n",
        "\n",
        "epochs = range(len(acc))\n",
        "\n",
        "n_row = 1\n",
        "n_col = 2\n",
        "fig, ax = plt.subplots(n_row, n_col, sharex = False, sharey = False, figsize=(16,4))\n",
        "\n",
        "\n",
        "ax[0].plot(epochs, acc, 'r', label='Training accuracy')\n",
        "ax[0].plot(epochs, val_acc, 'b', label='Validation accuracy')\n",
        "ax[0].legend(fontsize=12,loc=0)\n",
        "ax[0].set_title('Training and Validation Accuracy',fontsize=16)\n",
        "ax[0].set_ylabel('measure',fontsize=14)\n",
        "ax[0].set_xlabel('epoch', fontsize = 14)\n",
        "ax[0].set_xlim([1, len(acc)])\n",
        "\n",
        "ax[1].plot(epochs, loss, 'r', label='Training Loss')\n",
        "ax[1].plot(epochs, val_loss, 'b', label='Validation Loss')\n",
        "ax[1].legend(fontsize=12)\n",
        "ax[1].set_title('Training and Validation Loss',fontsize=16)\n",
        "ax[1].set_ylabel('measure',fontsize=14)\n",
        "ax[1].set_xlabel('epoch', fontsize = 14)\n",
        "ax[1].set_xlim([1, len(acc)])\n",
        "\n",
        "\n",
        "plt.show()"
      ],
      "execution_count": null,
      "outputs": []
    },
    {
      "cell_type": "markdown",
      "metadata": {
        "id": "wKerK65xUYkF",
        "colab_type": "text"
      },
      "source": [
        "# Predicciones y matriz de confusión\n"
      ]
    },
    {
      "cell_type": "markdown",
      "metadata": {
        "id": "E06DuGomyQdb",
        "colab_type": "text"
      },
      "source": [
        "Se carga el mejor modelo obtenido con 68% de val_accuracy. El cual corresponde a la época 49. "
      ]
    },
    {
      "cell_type": "code",
      "metadata": {
        "id": "E8A2I5HSDQcc",
        "colab_type": "code",
        "colab": {}
      },
      "source": [
        "model.load_weights(\"/content/drive/My Drive/Estadistica/Estadistica/Mineria de datos/Proyecto Minería de datos/Model_audio_img/saved_models/Emociones_3DCNN_model.049.h5\")\n"
      ],
      "execution_count": 9,
      "outputs": []
    },
    {
      "cell_type": "code",
      "metadata": {
        "id": "cvOUcNrJDoaY",
        "colab_type": "code",
        "colab": {}
      },
      "source": [
        "X_test1=np.concatenate((X_test, X_val))\n",
        "y_test1=np.concatenate((y_test, y_val))"
      ],
      "execution_count": null,
      "outputs": []
    },
    {
      "cell_type": "code",
      "metadata": {
        "id": "5ywP1eh-V-mK",
        "colab_type": "code",
        "colab": {
          "base_uri": "https://localhost:8080/",
          "height": 68
        },
        "outputId": "5cec5fee-7ca8-4176-cb6a-360588fd36e7"
      },
      "source": [
        "preds = model.evaluate(X_test1, y_test1)\n",
        "print (\"Loss = \" + str(preds[0]))\n",
        "print (\"Test Accuracy = \" + str(preds[1]))"
      ],
      "execution_count": null,
      "outputs": [
        {
          "output_type": "stream",
          "text": [
            "329/329 [==============================] - 29s 89ms/step\n",
            "Loss = 2.453942145982412\n",
            "Test Accuracy = 0.6382978558540344\n"
          ],
          "name": "stdout"
        }
      ]
    },
    {
      "cell_type": "code",
      "metadata": {
        "id": "fenFjgbjEEuW",
        "colab_type": "code",
        "colab": {}
      },
      "source": [
        "from sklearn.metrics import confusion_matrix #matriz de confusión\n",
        "\n",
        "def plot_confusion_matrix(cm,\n",
        "                          target_names,\n",
        "                          title='Confusion matrix',\n",
        "                          cmap=None,\n",
        "                          normalize=True):\n",
        "    \"\"\"\n",
        "    given a sklearn confusion matrix (cm), make a nice plot\n",
        "\n",
        "    Arguments\n",
        "    ---------\n",
        "    cm:           confusion matrix from sklearn.metrics.confusion_matrix\n",
        "\n",
        "    target_names: given classification classes such as [0, 1, 2]\n",
        "                  the class names, for example: ['high', 'medium', 'low']\n",
        "\n",
        "    title:        the text to display at the top of the matrix\n",
        "\n",
        "    cmap:         the gradient of the values displayed from matplotlib.pyplot.cm\n",
        "                  see http://matplotlib.org/examples/color/colormaps_reference.html\n",
        "                  plt.get_cmap('jet') or plt.cm.Blues\n",
        "\n",
        "    normalize:    If False, plot the raw numbers\n",
        "                  If True, plot the proportions\n",
        "\n",
        "    Usage\n",
        "    -----\n",
        "    plot_confusion_matrix(cm           = cm,                  # confusion matrix created by\n",
        "                                                              # sklearn.metrics.confusion_matrix\n",
        "                          normalize    = True,                # show proportions\n",
        "                          target_names = y_labels_vals,       # list of names of the classes\n",
        "                          title        = best_estimator_name) # title of graph\n",
        "\n",
        "    Citiation\n",
        "    ---------\n",
        "    http://scikit-learn.org/stable/auto_examples/model_selection/plot_confusion_matrix.html\n",
        "\n",
        "    \"\"\"\n",
        "\n",
        "    accuracy = np.trace(cm) / float(np.sum(cm))\n",
        "    misclass = 1 - accuracy\n",
        "\n",
        "    if cmap is None:\n",
        "        cmap = plt.get_cmap('Blues')\n",
        "\n",
        "    plt.figure(figsize=(8, 6))\n",
        "    plt.imshow(cm, interpolation='nearest', cmap=cmap)\n",
        "    plt.title(title)\n",
        "    plt.colorbar()\n",
        "\n",
        "    if target_names is not None:\n",
        "        tick_marks = np.arange(len(target_names))\n",
        "        plt.xticks(tick_marks, target_names, rotation=45)\n",
        "        plt.yticks(tick_marks, target_names)\n",
        "\n",
        "    if normalize:\n",
        "        cm = cm.astype('float') / cm.sum(axis=1)[:, np.newaxis]\n",
        "\n",
        "\n",
        "    thresh = cm.max() / 1.5 if normalize else cm.max() / 2\n",
        "    for i, j in itertools.product(range(cm.shape[0]), range(cm.shape[1])):\n",
        "        if normalize:\n",
        "            plt.text(j, i, \"{:0.4f}\".format(cm[i, j]),\n",
        "                     horizontalalignment=\"center\",\n",
        "                     color=\"white\" if cm[i, j] > thresh else \"black\")\n",
        "        else:\n",
        "            plt.text(j, i, \"{:,}\".format(cm[i, j]),\n",
        "                     horizontalalignment=\"center\",\n",
        "                     color=\"white\" if cm[i, j] > thresh else \"black\")\n",
        "\n",
        "\n",
        "    plt.tight_layout()\n",
        "    plt.ylabel('True label')\n",
        "    plt.xlabel('Predicted label\\naccuracy={:0.4f}; misclass={:0.4f}'.format(accuracy, misclass))\n",
        "    plt.show()"
      ],
      "execution_count": null,
      "outputs": []
    },
    {
      "cell_type": "code",
      "metadata": {
        "id": "9iKMxmK0XPgT",
        "colab_type": "code",
        "colab": {}
      },
      "source": [
        "preds = model.predict(X_test1)"
      ],
      "execution_count": null,
      "outputs": []
    },
    {
      "cell_type": "code",
      "metadata": {
        "id": "0OHajbtnUgJd",
        "colab_type": "code",
        "colab": {}
      },
      "source": [
        "dic  =  {0:'neutral', 1:'calmado', 2:'feliz', 3:'triste', 4:'enojado', 5:'asustado', 6:'disgustado', 7:'sorpresa'}"
      ],
      "execution_count": null,
      "outputs": []
    },
    {
      "cell_type": "code",
      "metadata": {
        "id": "lg0NV-KnQlcq",
        "colab_type": "code",
        "colab": {}
      },
      "source": [
        "l_test=len(y_test1)\n",
        "y_t = [dic[letter] for letter in y_test1.argmax(1)]"
      ],
      "execution_count": null,
      "outputs": []
    },
    {
      "cell_type": "code",
      "metadata": {
        "id": "Hw6f-gfFZ-2W",
        "colab_type": "code",
        "colab": {}
      },
      "source": [
        "y_p = []\n",
        "for i in range(l_test):\n",
        "  y_p.append(dic[np.where(np.max(preds[i]) == preds[i])[0][0]])"
      ],
      "execution_count": null,
      "outputs": []
    },
    {
      "cell_type": "code",
      "metadata": {
        "id": "ci87PbltYFkL",
        "colab_type": "code",
        "colab": {
          "base_uri": "https://localhost:8080/",
          "height": 153
        },
        "outputId": "c1525f46-ed9c-41f5-9df3-139844a60909"
      },
      "source": [
        "confusion_matrix(y_t, y_p)"
      ],
      "execution_count": null,
      "outputs": [
        {
          "output_type": "execute_result",
          "data": {
            "text/plain": [
              "array([[14,  3,  6,  4,  5,  1,  4,  7],\n",
              "       [ 0, 31,  0,  3,  7,  0,  1,  2],\n",
              "       [ 2,  1, 34,  2,  4,  0,  0,  1],\n",
              "       [ 1,  0,  7, 31,  2,  0,  2,  1],\n",
              "       [ 0,  0,  1,  0, 41,  0,  2,  0],\n",
              "       [ 1,  4,  0,  1,  1, 14,  0,  0],\n",
              "       [ 6,  1,  3,  3,  5,  3, 19,  4],\n",
              "       [ 3,  3,  5,  5,  1,  0,  1, 26]])"
            ]
          },
          "metadata": {
            "tags": []
          },
          "execution_count": 26
        }
      ]
    },
    {
      "cell_type": "code",
      "metadata": {
        "id": "7bF59mElXtuz",
        "colab_type": "code",
        "colab": {}
      },
      "source": [
        "cmat = confusion_matrix(y_t, y_p, labels = list(dic.values()))\n"
      ],
      "execution_count": null,
      "outputs": []
    },
    {
      "cell_type": "code",
      "metadata": {
        "id": "H8wPZZmfX1hs",
        "colab_type": "code",
        "colab": {
          "base_uri": "https://localhost:8080/",
          "height": 467
        },
        "outputId": "2f2a7f1d-6215-4912-db1d-df1883b28c45"
      },
      "source": [
        "import matplotlib.pyplot as plt\n",
        "import itertools    \n",
        "\n",
        "plot_confusion_matrix(cm = cmat, \n",
        "normalize = False,\n",
        "target_names = list(dic.values()),\n",
        "title = \"Confusion Matrix\")"
      ],
      "execution_count": null,
      "outputs": [
        {
          "output_type": "display_data",
          "data": {
            "image/png": "[encoded data removed]",
            "text/plain": [
              "<Figure size 576x432 with 2 Axes>"
            ]
          },
          "metadata": {
            "tags": [],
            "needs_background": "light"
          }
        }
      ]
    },
    {
      "cell_type": "code",
      "metadata": {
        "id": "YlSnYfcdTjHK",
        "colab_type": "code",
        "colab": {
          "base_uri": "https://localhost:8080/",
          "height": 467
        },
        "outputId": "8e278f4b-369e-47c6-c80c-2275ed7a7ea4"
      },
      "source": [
        "\n",
        "\n",
        "plot_confusion_matrix(cm = cmat, \n",
        "normalize = True,\n",
        "target_names = list(dic.values()),\n",
        "title = \"Confusion Matrix\")"
      ],
      "execution_count": null,
      "outputs": [
        {
          "output_type": "display_data",
          "data": {
            "image/png": "[encoded data removed]",
            "text/plain": [
              "<Figure size 576x432 with 2 Axes>"
            ]
          },
          "metadata": {
            "tags": [],
            "needs_background": "light"
          }
        }
      ]
    }
  ]
}