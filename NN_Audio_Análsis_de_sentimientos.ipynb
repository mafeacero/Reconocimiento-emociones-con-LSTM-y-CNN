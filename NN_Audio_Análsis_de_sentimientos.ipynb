{
  "nbformat": 4,
  "nbformat_minor": 0,
  "metadata": {
    "colab": {
      "name": "NN Audio: Análsis de sentimientos.ipynb",
      "provenance": [],
      "authorship_tag": "ABX9TyNPJck55HB1DIGYKVmc19Vi",
      "include_colab_link": true
    },
    "kernelspec": {
      "name": "python3",
      "display_name": "Python 3"
    }
  },
  "cells": [
    {
      "cell_type": "markdown",
      "metadata": {
        "id": "view-in-github",
        "colab_type": "text"
      },
      "source": [
        "<a href=\"https://colab.research.google.com/github/mafeacero/Reconocimiento-emociones-con-LSTM-y-CNN/blob/master/NN_Audio_An%C3%A1lsis_de_sentimientos.ipynb\" target=\"_parent\"><img src=\"https://colab.research.google.com/assets/colab-badge.svg\" alt=\"Open In Colab\"/></a>"
      ]
    },
    {
      "cell_type": "markdown",
      "metadata": {
        "id": "8ce1cR5s9NyL",
        "colab_type": "text"
      },
      "source": [
        "# Red Neuronal Audios: Análisis de Sentimientos"
      ]
    },
    {
      "cell_type": "markdown",
      "metadata": {
        "id": "otzAB43H7zyG",
        "colab_type": "text"
      },
      "source": [
        "## Tabla de Contenidos \n",
        "1. [Audios General (Speech y song)](#first-bullet)\n",
        "  \n",
        "  1.1. [Carga de base de datos](#first-bullet1)\n",
        "  \n",
        "  1.2. [Importar paquetes](#first-bullet2)\n",
        "  \n",
        "  1.3. [Lectura de datos](#first-bullet3)\n",
        "  \n",
        "  1.4. [Separación datos en train y test](#first-bullet4)\n",
        "  \n",
        "  1.5. [Definición del modelo](#first-bullet5)\n",
        "  \n",
        "  1.6. [Gráficos de accuracy y loss](#first-bullet6)\n",
        "\n",
        "2. [Solo audios SPEECH](#second-bullet)\n",
        "  \n",
        "  2.1. [Elección de datos](#second-bullet1)\n",
        "  \n",
        "  2.2. [Separación de datos en train y test](#second-bullet2)\n",
        "  \n",
        "  2.3. [Definición del modelo](#second-bullet3)\n",
        "  \n",
        "  2.4. [Gráficos de accuracy y loss](#second-bullet4)\n",
        "\n",
        "\n",
        "3. [Solo audios SONG](#third-bullet)\n",
        "  \n",
        "  3.1. [Elección de datos](#third-bullet1)\n",
        "  \n",
        "  3.2. [Separación de datos en train y test](#third-bullet2)\n",
        "  \n",
        "  3.3. [Definición del modelo](#third-bullet3)\n",
        "  \n",
        "  3.4. [Gráficos de accuracy y loss](#third-bullet4)\n"
      ]
    },
    {
      "cell_type": "markdown",
      "metadata": {
        "id": "RpIzrJePP7rw",
        "colab_type": "text"
      },
      "source": [
        "# General (Speech y song)<a class=\"anchor\" id=\"first-bullet\"></a>"
      ]
    },
    {
      "cell_type": "markdown",
      "metadata": {
        "id": "Bk0z5AXQ6Ta3",
        "colab_type": "text"
      },
      "source": [
        "## Carga de base de datos <a class=\"anchor\" id=\"first-bullet1\"></a>"
      ]
    },
    {
      "cell_type": "code",
      "metadata": {
        "id": "D-f0eFcWBESh",
        "colab_type": "code",
        "colab": {
          "base_uri": "https://localhost:8080/",
          "height": 35
        },
        "outputId": "4ce9578f-5aa1-47a2-bdf0-ef6e15cabf47"
      },
      "source": [
        "from google.colab import drive #Conexión con Drive\n",
        "drive.mount('/content/drive')"
      ],
      "execution_count": 62,
      "outputs": [
        {
          "output_type": "stream",
          "text": [
            "Drive already mounted at /content/drive; to attempt to forcibly remount, call drive.mount(\"/content/drive\", force_remount=True).\n"
          ],
          "name": "stdout"
        }
      ]
    },
    {
      "cell_type": "markdown",
      "metadata": {
        "id": "U89mqoSX6VbP",
        "colab_type": "text"
      },
      "source": [
        "## Importar paquetes <a class=\"anchor\" id=\"first-bullet2\"></a>"
      ]
    },
    {
      "cell_type": "code",
      "metadata": {
        "id": "jFd2iNduEB5x",
        "colab_type": "code",
        "colab": {}
      },
      "source": [
        "import librosa\n",
        "import os, glob, pickle\n",
        "import numpy as np\n",
        "from sklearn.model_selection import train_test_split\n",
        "from sklearn.neural_network import MLPClassifier\n",
        "from sklearn.metrics import accuracy_score\n",
        "import os #para interactuar con las carpetas y archivos\n",
        "import pandas as pd\n",
        "import librosa.display\n",
        "import tensorflow as tf\n",
        "import matplotlib.pyplot as plt\n",
        "import joblib\n",
        "import keras\n",
        "import numpy as np\n",
        "import matplotlib.pyplot as plt\n",
        "import tensorflow as tf\n",
        "from keras.preprocessing import sequence\n",
        "from keras.models import Sequential\n",
        "from keras.layers import Dense, Embedding\n",
        "from keras.utils import to_categorical\n",
        "from keras.layers import Input, Flatten, Dropout, Activation\n",
        "from keras.layers import Conv1D, MaxPooling1D\n",
        "from keras.models import Model\n",
        "from keras.callbacks import ModelCheckpoint\n",
        "from keras import optimizers\n",
        "from tensorflow.keras.optimizers import Adam, SGD\n",
        "from scipy.stats import zscore"
      ],
      "execution_count": 0,
      "outputs": []
    },
    {
      "cell_type": "markdown",
      "metadata": {
        "id": "u7uSKUTv6ZIO",
        "colab_type": "text"
      },
      "source": [
        "## Lectura de datos <a class=\"anchor\" id=\"first-bullet3\"></a>"
      ]
    },
    {
      "cell_type": "code",
      "metadata": {
        "id": "SyWZMZ2oBQfQ",
        "colab_type": "code",
        "colab": {}
      },
      "source": [
        "# Loading saved models\n",
        "import joblib\n",
        "\n",
        "X = joblib.load('/content/drive/My Drive/Estadistica/Estadistica/Mineria de datos/Proyecto Minería de datos/Model_audio/X.joblib')\n",
        "y = joblib.load('/content/drive/My Drive/Estadistica/Estadistica/Mineria de datos/Proyecto Minería de datos/Model_audio/y.joblib')\n",
        "mod = joblib.load('/content/drive/My Drive/Estadistica/Estadistica/Mineria de datos/Proyecto Minería de datos/Model_audio/mod.joblib')\n"
      ],
      "execution_count": 0,
      "outputs": []
    },
    {
      "cell_type": "markdown",
      "metadata": {
        "id": "A3znjYJ76cbX",
        "colab_type": "text"
      },
      "source": [
        "## Separación datos en train y test <a class=\"anchor\" id=\"first-bullet4\"></a>"
      ]
    },
    {
      "cell_type": "code",
      "metadata": {
        "id": "vdS7DmwCBUhO",
        "colab_type": "code",
        "colab": {}
      },
      "source": [
        "from sklearn.model_selection import train_test_split\n",
        "\n",
        "X_train, X_test, y_train, y_test = train_test_split(X, y, test_size=0.2)"
      ],
      "execution_count": 0,
      "outputs": []
    },
    {
      "cell_type": "markdown",
      "metadata": {
        "id": "j3eTFjuJ6gPR",
        "colab_type": "text"
      },
      "source": [
        "## Definición del modelo <a class=\"anchor\" id=\"first-bullet5\"></a>"
      ]
    },
    {
      "cell_type": "code",
      "metadata": {
        "id": "741ThoN5Ba6F",
        "colab_type": "code",
        "colab": {}
      },
      "source": [
        "model = keras.Sequential([\n",
        "    keras.layers.Dense(128, activation='relu'),\n",
        "    keras.layers.Dense(8, activation='softmax')\n",
        "])"
      ],
      "execution_count": 0,
      "outputs": []
    },
    {
      "cell_type": "code",
      "metadata": {
        "id": "94UBChORBcDl",
        "colab_type": "code",
        "colab": {
          "base_uri": "https://localhost:8080/",
          "height": 230
        },
        "outputId": "3277209e-47c5-4b40-e9d6-4bc8a0061e62"
      },
      "source": [
        "model.summary()"
      ],
      "execution_count": 59,
      "outputs": [
        {
          "output_type": "stream",
          "text": [
            "Model: \"sequential_6\"\n",
            "_________________________________________________________________\n",
            "Layer (type)                 Output Shape              Param #   \n",
            "=================================================================\n",
            "dense_11 (Dense)             (None, 128)               5248      \n",
            "_________________________________________________________________\n",
            "dense_12 (Dense)             (None, 8)                 1032      \n",
            "=================================================================\n",
            "Total params: 6,280\n",
            "Trainable params: 6,280\n",
            "Non-trainable params: 0\n",
            "_________________________________________________________________\n"
          ],
          "name": "stdout"
        }
      ]
    },
    {
      "cell_type": "code",
      "metadata": {
        "id": "B8CbUHCuGl8W",
        "colab_type": "code",
        "colab": {
          "base_uri": "https://localhost:8080/",
          "height": 35
        },
        "outputId": "890414b1-7c0e-49eb-a4f0-27bdc954f0a4"
      },
      "source": [
        "y=np.array(y)\n",
        "y"
      ],
      "execution_count": 45,
      "outputs": [
        {
          "output_type": "execute_result",
          "data": {
            "text/plain": [
              "array([0, 0, 0, ..., 5, 5, 5])"
            ]
          },
          "metadata": {
            "tags": []
          },
          "execution_count": 45
        }
      ]
    },
    {
      "cell_type": "code",
      "metadata": {
        "id": "jP_JFMJhBd6t",
        "colab_type": "code",
        "colab": {}
      },
      "source": [
        "model.compile(optimizer='adam',\n",
        "              loss='sparse_categorical_crossentropy',\n",
        "              metrics=['accuracy'])"
      ],
      "execution_count": 0,
      "outputs": []
    },
    {
      "cell_type": "code",
      "metadata": {
        "id": "8xG14Zg7BgKF",
        "colab_type": "code",
        "colab": {
          "base_uri": "https://localhost:8080/",
          "height": 1000
        },
        "outputId": "16a2544c-d1f4-4a32-ec98-72e1c19c4c74"
      },
      "source": [
        "history=model.fit(X_train, y_train, batch_size=5, epochs=100,  validation_data=(X_test, y_test))"
      ],
      "execution_count": 57,
      "outputs": [
        {
          "output_type": "stream",
          "text": [
            "Train on 1961 samples, validate on 491 samples\n",
            "Epoch 1/100\n",
            "1961/1961 [==============================] - 0s 239us/step - loss: 0.7951 - accuracy: 0.7323 - val_loss: 1.3178 - val_accuracy: 0.6436\n",
            "Epoch 2/100\n",
            "1961/1961 [==============================] - 0s 236us/step - loss: 0.6430 - accuracy: 0.7685 - val_loss: 1.0835 - val_accuracy: 0.6802\n",
            "Epoch 3/100\n",
            "1961/1961 [==============================] - 0s 239us/step - loss: 0.4773 - accuracy: 0.8261 - val_loss: 1.2876 - val_accuracy: 0.6395\n",
            "Epoch 4/100\n",
            "1961/1961 [==============================] - 0s 237us/step - loss: 0.5126 - accuracy: 0.8205 - val_loss: 1.2169 - val_accuracy: 0.6660\n",
            "Epoch 5/100\n",
            "1961/1961 [==============================] - 0s 238us/step - loss: 0.4920 - accuracy: 0.8215 - val_loss: 1.1196 - val_accuracy: 0.6802\n",
            "Epoch 6/100\n",
            "1961/1961 [==============================] - 0s 239us/step - loss: 0.4858 - accuracy: 0.8266 - val_loss: 1.2754 - val_accuracy: 0.6538\n",
            "Epoch 7/100\n",
            "1961/1961 [==============================] - 0s 239us/step - loss: 0.4220 - accuracy: 0.8480 - val_loss: 1.0480 - val_accuracy: 0.6904\n",
            "Epoch 8/100\n",
            "1961/1961 [==============================] - 0s 238us/step - loss: 0.4840 - accuracy: 0.8266 - val_loss: 1.1307 - val_accuracy: 0.6721\n",
            "Epoch 9/100\n",
            "1961/1961 [==============================] - 0s 237us/step - loss: 0.4328 - accuracy: 0.8460 - val_loss: 1.2634 - val_accuracy: 0.6375\n",
            "Epoch 10/100\n",
            "1961/1961 [==============================] - 0s 236us/step - loss: 0.4485 - accuracy: 0.8389 - val_loss: 1.1635 - val_accuracy: 0.6864\n",
            "Epoch 11/100\n",
            "1961/1961 [==============================] - 0s 241us/step - loss: 0.4266 - accuracy: 0.8491 - val_loss: 1.3316 - val_accuracy: 0.6334\n",
            "Epoch 12/100\n",
            "1961/1961 [==============================] - 0s 233us/step - loss: 0.4460 - accuracy: 0.8246 - val_loss: 1.2746 - val_accuracy: 0.6884\n",
            "Epoch 13/100\n",
            "1961/1961 [==============================] - 0s 230us/step - loss: 0.3965 - accuracy: 0.8587 - val_loss: 1.2387 - val_accuracy: 0.6741\n",
            "Epoch 14/100\n",
            "1961/1961 [==============================] - 0s 242us/step - loss: 0.4253 - accuracy: 0.8536 - val_loss: 1.0764 - val_accuracy: 0.6925\n",
            "Epoch 15/100\n",
            "1961/1961 [==============================] - 0s 236us/step - loss: 0.4432 - accuracy: 0.8404 - val_loss: 1.5393 - val_accuracy: 0.6538\n",
            "Epoch 16/100\n",
            "1961/1961 [==============================] - 0s 241us/step - loss: 0.4497 - accuracy: 0.8383 - val_loss: 0.9807 - val_accuracy: 0.6843\n",
            "Epoch 17/100\n",
            "1961/1961 [==============================] - 0s 237us/step - loss: 0.4207 - accuracy: 0.8470 - val_loss: 1.1123 - val_accuracy: 0.6904\n",
            "Epoch 18/100\n",
            "1961/1961 [==============================] - 0s 237us/step - loss: 0.3835 - accuracy: 0.8593 - val_loss: 1.2928 - val_accuracy: 0.6558\n",
            "Epoch 19/100\n",
            "1961/1961 [==============================] - 0s 238us/step - loss: 0.3883 - accuracy: 0.8582 - val_loss: 1.1722 - val_accuracy: 0.6823\n",
            "Epoch 20/100\n",
            "1961/1961 [==============================] - 0s 234us/step - loss: 0.4324 - accuracy: 0.8450 - val_loss: 1.7431 - val_accuracy: 0.5703\n",
            "Epoch 21/100\n",
            "1961/1961 [==============================] - 0s 240us/step - loss: 0.3684 - accuracy: 0.8608 - val_loss: 1.0622 - val_accuracy: 0.6680\n",
            "Epoch 22/100\n",
            "1961/1961 [==============================] - 0s 235us/step - loss: 0.3791 - accuracy: 0.8526 - val_loss: 1.0057 - val_accuracy: 0.7128\n",
            "Epoch 23/100\n",
            "1961/1961 [==============================] - 0s 241us/step - loss: 0.3704 - accuracy: 0.8710 - val_loss: 1.1570 - val_accuracy: 0.6945\n",
            "Epoch 24/100\n",
            "1961/1961 [==============================] - 0s 235us/step - loss: 0.3951 - accuracy: 0.8536 - val_loss: 1.1388 - val_accuracy: 0.6517\n",
            "Epoch 25/100\n",
            "1961/1961 [==============================] - 0s 242us/step - loss: 0.3619 - accuracy: 0.8669 - val_loss: 1.2262 - val_accuracy: 0.6701\n",
            "Epoch 26/100\n",
            "1961/1961 [==============================] - 0s 239us/step - loss: 0.3522 - accuracy: 0.8776 - val_loss: 1.1750 - val_accuracy: 0.6762\n",
            "Epoch 27/100\n",
            "1961/1961 [==============================] - 0s 239us/step - loss: 0.3844 - accuracy: 0.8552 - val_loss: 1.0681 - val_accuracy: 0.7088\n",
            "Epoch 28/100\n",
            "1961/1961 [==============================] - 0s 233us/step - loss: 0.3820 - accuracy: 0.8593 - val_loss: 1.4788 - val_accuracy: 0.6517\n",
            "Epoch 29/100\n",
            "1961/1961 [==============================] - 0s 239us/step - loss: 0.3486 - accuracy: 0.8725 - val_loss: 1.3099 - val_accuracy: 0.6721\n",
            "Epoch 30/100\n",
            "1961/1961 [==============================] - 0s 239us/step - loss: 0.3497 - accuracy: 0.8756 - val_loss: 1.5073 - val_accuracy: 0.6436\n",
            "Epoch 31/100\n",
            "1961/1961 [==============================] - 0s 241us/step - loss: 0.3947 - accuracy: 0.8628 - val_loss: 1.0810 - val_accuracy: 0.7128\n",
            "Epoch 32/100\n",
            "1961/1961 [==============================] - 0s 242us/step - loss: 0.3868 - accuracy: 0.8536 - val_loss: 1.2063 - val_accuracy: 0.6864\n",
            "Epoch 33/100\n",
            "1961/1961 [==============================] - 0s 240us/step - loss: 0.3253 - accuracy: 0.8791 - val_loss: 1.2408 - val_accuracy: 0.6782\n",
            "Epoch 34/100\n",
            "1961/1961 [==============================] - 0s 233us/step - loss: 0.3562 - accuracy: 0.8674 - val_loss: 1.1689 - val_accuracy: 0.6619\n",
            "Epoch 35/100\n",
            "1961/1961 [==============================] - 0s 235us/step - loss: 0.3583 - accuracy: 0.8608 - val_loss: 1.1840 - val_accuracy: 0.6843\n",
            "Epoch 36/100\n",
            "1961/1961 [==============================] - 0s 241us/step - loss: 0.3203 - accuracy: 0.8858 - val_loss: 1.3460 - val_accuracy: 0.6721\n",
            "Epoch 37/100\n",
            "1961/1961 [==============================] - 0s 234us/step - loss: 0.3372 - accuracy: 0.8786 - val_loss: 1.0530 - val_accuracy: 0.7108\n",
            "Epoch 38/100\n",
            "1961/1961 [==============================] - 0s 236us/step - loss: 0.3650 - accuracy: 0.8766 - val_loss: 1.4067 - val_accuracy: 0.6864\n",
            "Epoch 39/100\n",
            "1961/1961 [==============================] - 0s 235us/step - loss: 0.3389 - accuracy: 0.8746 - val_loss: 1.3556 - val_accuracy: 0.6782\n",
            "Epoch 40/100\n",
            "1961/1961 [==============================] - 0s 239us/step - loss: 0.3034 - accuracy: 0.8939 - val_loss: 1.3053 - val_accuracy: 0.6640\n",
            "Epoch 41/100\n",
            "1961/1961 [==============================] - 0s 235us/step - loss: 0.3129 - accuracy: 0.8822 - val_loss: 1.1821 - val_accuracy: 0.6965\n",
            "Epoch 42/100\n",
            "1961/1961 [==============================] - 0s 245us/step - loss: 0.3442 - accuracy: 0.8649 - val_loss: 1.3940 - val_accuracy: 0.6741\n",
            "Epoch 43/100\n",
            "1961/1961 [==============================] - 0s 234us/step - loss: 0.3179 - accuracy: 0.8863 - val_loss: 1.3719 - val_accuracy: 0.6680\n",
            "Epoch 44/100\n",
            "1961/1961 [==============================] - 0s 239us/step - loss: 0.3545 - accuracy: 0.8567 - val_loss: 1.2498 - val_accuracy: 0.7088\n",
            "Epoch 45/100\n",
            "1961/1961 [==============================] - 0s 238us/step - loss: 0.3180 - accuracy: 0.8832 - val_loss: 1.2706 - val_accuracy: 0.7108\n",
            "Epoch 46/100\n",
            "1961/1961 [==============================] - 0s 237us/step - loss: 0.3514 - accuracy: 0.8628 - val_loss: 1.2318 - val_accuracy: 0.7026\n",
            "Epoch 47/100\n",
            "1961/1961 [==============================] - 0s 242us/step - loss: 0.3276 - accuracy: 0.8740 - val_loss: 1.3447 - val_accuracy: 0.6762\n",
            "Epoch 48/100\n",
            "1961/1961 [==============================] - 0s 240us/step - loss: 0.3345 - accuracy: 0.8827 - val_loss: 1.1962 - val_accuracy: 0.7006\n",
            "Epoch 49/100\n",
            "1961/1961 [==============================] - 0s 235us/step - loss: 0.3012 - accuracy: 0.8899 - val_loss: 1.2439 - val_accuracy: 0.7067\n",
            "Epoch 50/100\n",
            "1961/1961 [==============================] - 0s 234us/step - loss: 0.2951 - accuracy: 0.8944 - val_loss: 1.2591 - val_accuracy: 0.6680\n",
            "Epoch 51/100\n",
            "1961/1961 [==============================] - 0s 239us/step - loss: 0.2764 - accuracy: 0.9016 - val_loss: 1.0975 - val_accuracy: 0.7271\n",
            "Epoch 52/100\n",
            "1961/1961 [==============================] - 0s 235us/step - loss: 0.3362 - accuracy: 0.8766 - val_loss: 1.3337 - val_accuracy: 0.7067\n",
            "Epoch 53/100\n",
            "1961/1961 [==============================] - 0s 240us/step - loss: 0.3151 - accuracy: 0.8858 - val_loss: 1.3223 - val_accuracy: 0.6945\n",
            "Epoch 54/100\n",
            "1961/1961 [==============================] - 0s 236us/step - loss: 0.2862 - accuracy: 0.8975 - val_loss: 1.1652 - val_accuracy: 0.6904\n",
            "Epoch 55/100\n",
            "1961/1961 [==============================] - 0s 235us/step - loss: 0.2850 - accuracy: 0.8985 - val_loss: 1.1760 - val_accuracy: 0.7067\n",
            "Epoch 56/100\n",
            "1961/1961 [==============================] - 0s 237us/step - loss: 0.2706 - accuracy: 0.8929 - val_loss: 1.2454 - val_accuracy: 0.6843\n",
            "Epoch 57/100\n",
            "1961/1961 [==============================] - 0s 235us/step - loss: 0.3349 - accuracy: 0.8848 - val_loss: 1.3687 - val_accuracy: 0.6741\n",
            "Epoch 58/100\n",
            "1961/1961 [==============================] - 0s 245us/step - loss: 0.2671 - accuracy: 0.8939 - val_loss: 1.3158 - val_accuracy: 0.6925\n",
            "Epoch 59/100\n",
            "1961/1961 [==============================] - 0s 233us/step - loss: 0.2828 - accuracy: 0.9016 - val_loss: 1.4788 - val_accuracy: 0.6925\n",
            "Epoch 60/100\n",
            "1961/1961 [==============================] - 0s 239us/step - loss: 0.3104 - accuracy: 0.8853 - val_loss: 1.1690 - val_accuracy: 0.7047\n",
            "Epoch 61/100\n",
            "1961/1961 [==============================] - 0s 232us/step - loss: 0.3056 - accuracy: 0.8904 - val_loss: 1.2792 - val_accuracy: 0.7006\n",
            "Epoch 62/100\n",
            "1961/1961 [==============================] - 0s 238us/step - loss: 0.2746 - accuracy: 0.8929 - val_loss: 1.2923 - val_accuracy: 0.7006\n",
            "Epoch 63/100\n",
            "1961/1961 [==============================] - 0s 238us/step - loss: 0.2798 - accuracy: 0.9021 - val_loss: 1.3161 - val_accuracy: 0.6965\n",
            "Epoch 64/100\n",
            "1961/1961 [==============================] - 0s 246us/step - loss: 0.2835 - accuracy: 0.8985 - val_loss: 1.2723 - val_accuracy: 0.7169\n",
            "Epoch 65/100\n",
            "1961/1961 [==============================] - 0s 232us/step - loss: 0.2713 - accuracy: 0.9026 - val_loss: 1.3619 - val_accuracy: 0.6945\n",
            "Epoch 66/100\n",
            "1961/1961 [==============================] - 0s 236us/step - loss: 0.3285 - accuracy: 0.8873 - val_loss: 1.1495 - val_accuracy: 0.7108\n",
            "Epoch 67/100\n",
            "1961/1961 [==============================] - 0s 235us/step - loss: 0.2623 - accuracy: 0.8985 - val_loss: 1.2335 - val_accuracy: 0.6925\n",
            "Epoch 68/100\n",
            "1961/1961 [==============================] - 0s 238us/step - loss: 0.2656 - accuracy: 0.9031 - val_loss: 1.3115 - val_accuracy: 0.6823\n",
            "Epoch 69/100\n",
            "1961/1961 [==============================] - 0s 241us/step - loss: 0.2455 - accuracy: 0.9133 - val_loss: 1.2876 - val_accuracy: 0.6986\n",
            "Epoch 70/100\n",
            "1961/1961 [==============================] - 0s 237us/step - loss: 0.2210 - accuracy: 0.9174 - val_loss: 1.3041 - val_accuracy: 0.7230\n",
            "Epoch 71/100\n",
            "1961/1961 [==============================] - 0s 239us/step - loss: 0.2575 - accuracy: 0.8965 - val_loss: 1.4316 - val_accuracy: 0.6741\n",
            "Epoch 72/100\n",
            "1961/1961 [==============================] - 0s 238us/step - loss: 0.2736 - accuracy: 0.9011 - val_loss: 1.3622 - val_accuracy: 0.6884\n",
            "Epoch 73/100\n",
            "1961/1961 [==============================] - 0s 235us/step - loss: 0.2873 - accuracy: 0.8929 - val_loss: 1.2811 - val_accuracy: 0.7006\n",
            "Epoch 74/100\n",
            "1961/1961 [==============================] - 0s 235us/step - loss: 0.3420 - accuracy: 0.8776 - val_loss: 1.1525 - val_accuracy: 0.7189\n",
            "Epoch 75/100\n",
            "1961/1961 [==============================] - 0s 244us/step - loss: 0.2018 - accuracy: 0.9215 - val_loss: 1.2131 - val_accuracy: 0.7352\n",
            "Epoch 76/100\n",
            "1961/1961 [==============================] - 0s 237us/step - loss: 0.2066 - accuracy: 0.9291 - val_loss: 1.5405 - val_accuracy: 0.6660\n",
            "Epoch 77/100\n",
            "1961/1961 [==============================] - 0s 234us/step - loss: 0.2642 - accuracy: 0.8985 - val_loss: 1.2262 - val_accuracy: 0.7210\n",
            "Epoch 78/100\n",
            "1961/1961 [==============================] - 0s 240us/step - loss: 0.2251 - accuracy: 0.9138 - val_loss: 1.3385 - val_accuracy: 0.7108\n",
            "Epoch 79/100\n",
            "1961/1961 [==============================] - 0s 233us/step - loss: 0.2174 - accuracy: 0.9235 - val_loss: 1.3282 - val_accuracy: 0.6986\n",
            "Epoch 80/100\n",
            "1961/1961 [==============================] - 0s 236us/step - loss: 0.2637 - accuracy: 0.9097 - val_loss: 1.6405 - val_accuracy: 0.6864\n",
            "Epoch 81/100\n",
            "1961/1961 [==============================] - 0s 236us/step - loss: 0.2280 - accuracy: 0.9215 - val_loss: 1.3623 - val_accuracy: 0.6986\n",
            "Epoch 82/100\n",
            "1961/1961 [==============================] - 0s 243us/step - loss: 0.2711 - accuracy: 0.9118 - val_loss: 1.4901 - val_accuracy: 0.6782\n",
            "Epoch 83/100\n",
            "1961/1961 [==============================] - 0s 235us/step - loss: 0.1805 - accuracy: 0.9393 - val_loss: 1.2450 - val_accuracy: 0.7026\n",
            "Epoch 84/100\n",
            "1961/1961 [==============================] - 0s 238us/step - loss: 0.2909 - accuracy: 0.8985 - val_loss: 1.2027 - val_accuracy: 0.7393\n",
            "Epoch 85/100\n",
            "1961/1961 [==============================] - 0s 232us/step - loss: 0.2569 - accuracy: 0.9087 - val_loss: 1.4526 - val_accuracy: 0.6843\n",
            "Epoch 86/100\n",
            "1961/1961 [==============================] - 0s 250us/step - loss: 0.2089 - accuracy: 0.9204 - val_loss: 1.3192 - val_accuracy: 0.7169\n",
            "Epoch 87/100\n",
            "1961/1961 [==============================] - 0s 233us/step - loss: 0.2265 - accuracy: 0.9148 - val_loss: 1.2768 - val_accuracy: 0.7108\n",
            "Epoch 88/100\n",
            "1961/1961 [==============================] - 0s 241us/step - loss: 0.2332 - accuracy: 0.9169 - val_loss: 1.5009 - val_accuracy: 0.7026\n",
            "Epoch 89/100\n",
            "1961/1961 [==============================] - 0s 234us/step - loss: 0.2285 - accuracy: 0.9174 - val_loss: 1.2730 - val_accuracy: 0.7271\n",
            "Epoch 90/100\n",
            "1961/1961 [==============================] - 0s 245us/step - loss: 0.2061 - accuracy: 0.9271 - val_loss: 1.4622 - val_accuracy: 0.7026\n",
            "Epoch 91/100\n",
            "1961/1961 [==============================] - 0s 236us/step - loss: 0.1929 - accuracy: 0.9266 - val_loss: 1.4545 - val_accuracy: 0.6965\n",
            "Epoch 92/100\n",
            "1961/1961 [==============================] - 0s 239us/step - loss: 0.2451 - accuracy: 0.9133 - val_loss: 1.2034 - val_accuracy: 0.7149\n",
            "Epoch 93/100\n",
            "1961/1961 [==============================] - 0s 237us/step - loss: 0.2584 - accuracy: 0.9026 - val_loss: 1.4973 - val_accuracy: 0.7189\n",
            "Epoch 94/100\n",
            "1961/1961 [==============================] - 0s 236us/step - loss: 0.2254 - accuracy: 0.9128 - val_loss: 1.3481 - val_accuracy: 0.7169\n",
            "Epoch 95/100\n",
            "1961/1961 [==============================] - 0s 242us/step - loss: 0.2283 - accuracy: 0.9164 - val_loss: 1.3287 - val_accuracy: 0.7169\n",
            "Epoch 96/100\n",
            "1961/1961 [==============================] - 0s 254us/step - loss: 0.2065 - accuracy: 0.9225 - val_loss: 1.5898 - val_accuracy: 0.6986\n",
            "Epoch 97/100\n",
            "1961/1961 [==============================] - 1s 263us/step - loss: 0.1825 - accuracy: 0.9255 - val_loss: 1.5123 - val_accuracy: 0.7047\n",
            "Epoch 98/100\n",
            "1961/1961 [==============================] - 1s 265us/step - loss: 0.2602 - accuracy: 0.9087 - val_loss: 1.3642 - val_accuracy: 0.7047\n",
            "Epoch 99/100\n",
            "1961/1961 [==============================] - 1s 257us/step - loss: 0.1873 - accuracy: 0.9357 - val_loss: 1.3084 - val_accuracy: 0.7169\n",
            "Epoch 100/100\n",
            "1961/1961 [==============================] - 1s 259us/step - loss: 0.1715 - accuracy: 0.9337 - val_loss: 1.2618 - val_accuracy: 0.7413\n"
          ],
          "name": "stdout"
        }
      ]
    },
    {
      "cell_type": "markdown",
      "metadata": {
        "id": "Tx-VKAoO6j8Y",
        "colab_type": "text"
      },
      "source": [
        "## Gráficos de accuracy y loss <a class=\"anchor\" id=\"first-bullet6\"></a>\n"
      ]
    },
    {
      "cell_type": "code",
      "metadata": {
        "id": "8ZBME8mSBiCN",
        "colab_type": "code",
        "colab": {
          "base_uri": "https://localhost:8080/",
          "height": 301
        },
        "outputId": "52e5fd64-d60b-4d7f-c39b-0ba70c118b86"
      },
      "source": [
        "import matplotlib.pyplot as plt\n",
        "acc = history.history['accuracy']\n",
        "val_acc = history.history['val_accuracy']\n",
        "loss = history.history['loss']\n",
        "val_loss = history.history['val_loss']\n",
        "\n",
        "epochs = range(len(acc))\n",
        "\n",
        "n_row = 1\n",
        "n_col = 2\n",
        "fig, ax = plt.subplots(n_row, n_col, sharex = False, sharey = False, figsize=(16,4))\n",
        "\n",
        "\n",
        "ax[0].plot(epochs, acc, 'r', label='Training accuracy')\n",
        "ax[0].plot(epochs, val_acc, 'b', label='Validation accuracy')\n",
        "ax[0].legend(fontsize=12,loc=0)\n",
        "ax[0].set_title('Training and Validation Accuracy',fontsize=16)\n",
        "ax[0].set_ylabel('measure',fontsize=14)\n",
        "ax[0].set_xlabel('epoch', fontsize = 14)\n",
        "ax[0].set_xlim([1, len(acc)])\n",
        "\n",
        "ax[1].plot(epochs, loss, 'r', label='Training Loss')\n",
        "ax[1].plot(epochs, val_loss, 'b', label='Validation Loss')\n",
        "ax[1].legend(fontsize=12)\n",
        "ax[1].set_title('Training and Validation Loss',fontsize=16)\n",
        "ax[1].set_ylabel('measure',fontsize=14)\n",
        "ax[1].set_xlabel('epoch', fontsize = 14)\n",
        "ax[1].set_xlim([1, len(acc)])\n",
        "\n",
        "\n",
        "plt.show()"
      ],
      "execution_count": 58,
      "outputs": [
        {
          "output_type": "display_data",
          "data": {
            "image/png": "[encoded data removed]",
            "text/plain": [
              "<Figure size 1152x288 with 2 Axes>"
            ]
          },
          "metadata": {
            "tags": [],
            "needs_background": "light"
          }
        }
      ]
    },
    {
      "cell_type": "code",
      "metadata": {
        "id": "FhGy1d9bJeJn",
        "colab_type": "code",
        "colab": {
          "base_uri": "https://localhost:8080/",
          "height": 70
        },
        "outputId": "e97503e8-8bcc-46ca-9f0d-b9783e183821"
      },
      "source": [
        "scores = model.evaluate(X_test,\n",
        "                        y_test,\n",
        "                        batch_size=32)\n",
        "print('Test loss:', scores[0])\n",
        "print('Test accuracy:', scores[1])"
      ],
      "execution_count": 60,
      "outputs": [
        {
          "output_type": "stream",
          "text": [
            "491/491 [==============================] - 0s 38us/step\n",
            "Test loss: 1.2618140081766909\n",
            "Test accuracy: 0.7413442134857178\n"
          ],
          "name": "stdout"
        }
      ]
    },
    {
      "cell_type": "markdown",
      "metadata": {
        "id": "0hAO6f2OJqlv",
        "colab_type": "text"
      },
      "source": [
        "# Solo SPEECH <a class=\"anchor\" id=\"second-bullet\"></a>\n",
        "\n"
      ]
    },
    {
      "cell_type": "markdown",
      "metadata": {
        "id": "EIRqLh2b6pYG",
        "colab_type": "text"
      },
      "source": [
        "## Elección de datos <a class=\"anchor\" id=\"second-bullet1\"></a>"
      ]
    },
    {
      "cell_type": "code",
      "metadata": {
        "id": "OpWyoVh9NRwe",
        "colab_type": "code",
        "colab": {
          "base_uri": "https://localhost:8080/",
          "height": 35
        },
        "outputId": "9d771ef5-d503-416f-de8f-ff2ebb60f972"
      },
      "source": [
        "y=np.asarray(y)\n"
      ],
      "execution_count": 99,
      "outputs": [
        {
          "output_type": "execute_result",
          "data": {
            "text/plain": [
              "(1440, 40)"
            ]
          },
          "metadata": {
            "tags": []
          },
          "execution_count": 99
        }
      ]
    },
    {
      "cell_type": "code",
      "metadata": {
        "id": "WOk-kCcrJsjH",
        "colab_type": "code",
        "colab": {}
      },
      "source": [
        "X1=X[mod=='01',:]\n",
        "y1=y[mod=='01']"
      ],
      "execution_count": 0,
      "outputs": []
    },
    {
      "cell_type": "code",
      "metadata": {
        "id": "-cL_eETvM-7I",
        "colab_type": "code",
        "colab": {
          "base_uri": "https://localhost:8080/",
          "height": 52
        },
        "outputId": "51c72839-221b-4684-9e43-a47bfe65eb57"
      },
      "source": [
        "print(X1.shape)\n",
        "print(y1.shape)"
      ],
      "execution_count": 77,
      "outputs": [
        {
          "output_type": "stream",
          "text": [
            "(1440, 40)\n",
            "(1440,)\n"
          ],
          "name": "stdout"
        }
      ]
    },
    {
      "cell_type": "markdown",
      "metadata": {
        "id": "bTab3UAZ6sI1",
        "colab_type": "text"
      },
      "source": [
        "## Separación datos en train y test <a class=\"anchor\" id=\"second-bullet2\"></a>"
      ]
    },
    {
      "cell_type": "code",
      "metadata": {
        "id": "40tITca0NgP2",
        "colab_type": "code",
        "colab": {}
      },
      "source": [
        "from sklearn.model_selection import train_test_split\n",
        "\n",
        "X_train, X_test, y_train, y_test = train_test_split(X1, y1, test_size=0.2)"
      ],
      "execution_count": 0,
      "outputs": []
    },
    {
      "cell_type": "markdown",
      "metadata": {
        "id": "Kc5kdyv46utS",
        "colab_type": "text"
      },
      "source": [
        "## Definición del modelo <a class=\"anchor\" id=\"second-bullet3\"></a>"
      ]
    },
    {
      "cell_type": "code",
      "metadata": {
        "id": "aRhGXZUmNxt_",
        "colab_type": "code",
        "colab": {}
      },
      "source": [
        "model = keras.Sequential([\n",
        "    keras.layers.Dense(128, activation='relu'),\n",
        "    keras.layers.Dense(8, activation='softmax')\n",
        "])"
      ],
      "execution_count": 0,
      "outputs": []
    },
    {
      "cell_type": "code",
      "metadata": {
        "id": "Ty91Wn4uN0aH",
        "colab_type": "code",
        "colab": {}
      },
      "source": [
        "model.compile(optimizer='adam',\n",
        "              loss='sparse_categorical_crossentropy',\n",
        "              metrics=['accuracy'])"
      ],
      "execution_count": 0,
      "outputs": []
    },
    {
      "cell_type": "code",
      "metadata": {
        "id": "_B3tL8CzNjpv",
        "colab_type": "code",
        "colab": {
          "base_uri": "https://localhost:8080/",
          "height": 1000
        },
        "outputId": "32009a89-3edd-4346-d75d-de9d9eb9a5d9"
      },
      "source": [
        "history=model.fit(X_train, y_train, batch_size=1, epochs=100,  validation_data=(X_test, y_test))"
      ],
      "execution_count": 108,
      "outputs": [
        {
          "output_type": "stream",
          "text": [
            "Train on 1152 samples, validate on 288 samples\n",
            "Epoch 1/100\n",
            "1152/1152 [==============================] - 1s 1ms/step - loss: 1.6728 - accuracy: 0.4800 - val_loss: 1.7395 - val_accuracy: 0.4236\n",
            "Epoch 2/100\n",
            "1152/1152 [==============================] - 1s 1ms/step - loss: 1.1637 - accuracy: 0.5955 - val_loss: 1.7495 - val_accuracy: 0.4896\n",
            "Epoch 3/100\n",
            "1152/1152 [==============================] - 1s 1ms/step - loss: 1.0703 - accuracy: 0.6215 - val_loss: 2.2225 - val_accuracy: 0.4618\n",
            "Epoch 4/100\n",
            "1152/1152 [==============================] - 1s 1ms/step - loss: 1.0175 - accuracy: 0.6389 - val_loss: 1.8220 - val_accuracy: 0.4167\n",
            "Epoch 5/100\n",
            "1152/1152 [==============================] - 1s 1ms/step - loss: 1.0167 - accuracy: 0.6380 - val_loss: 1.6778 - val_accuracy: 0.5035\n",
            "Epoch 6/100\n",
            "1152/1152 [==============================] - 1s 1ms/step - loss: 0.9911 - accuracy: 0.6293 - val_loss: 2.0237 - val_accuracy: 0.4653\n",
            "Epoch 7/100\n",
            "1152/1152 [==============================] - 1s 1ms/step - loss: 0.9871 - accuracy: 0.6372 - val_loss: 1.7608 - val_accuracy: 0.4618\n",
            "Epoch 8/100\n",
            "1152/1152 [==============================] - 1s 1ms/step - loss: 0.9445 - accuracy: 0.6450 - val_loss: 1.8701 - val_accuracy: 0.4653\n",
            "Epoch 9/100\n",
            "1152/1152 [==============================] - 1s 1ms/step - loss: 0.9343 - accuracy: 0.6615 - val_loss: 1.6697 - val_accuracy: 0.4931\n",
            "Epoch 10/100\n",
            "1152/1152 [==============================] - 1s 1ms/step - loss: 0.9770 - accuracy: 0.6536 - val_loss: 1.6764 - val_accuracy: 0.5208\n",
            "Epoch 11/100\n",
            "1152/1152 [==============================] - 1s 1ms/step - loss: 0.9260 - accuracy: 0.6693 - val_loss: 1.8744 - val_accuracy: 0.4861\n",
            "Epoch 12/100\n",
            "1152/1152 [==============================] - 1s 1ms/step - loss: 0.9108 - accuracy: 0.6589 - val_loss: 1.7300 - val_accuracy: 0.4583\n",
            "Epoch 13/100\n",
            "1152/1152 [==============================] - 1s 1ms/step - loss: 0.8679 - accuracy: 0.6875 - val_loss: 1.9986 - val_accuracy: 0.4792\n",
            "Epoch 14/100\n",
            "1152/1152 [==============================] - 1s 1ms/step - loss: 0.8598 - accuracy: 0.7005 - val_loss: 1.9908 - val_accuracy: 0.5069\n",
            "Epoch 15/100\n",
            "1152/1152 [==============================] - 1s 1ms/step - loss: 0.8965 - accuracy: 0.6797 - val_loss: 1.6819 - val_accuracy: 0.5104\n",
            "Epoch 16/100\n",
            "1152/1152 [==============================] - 1s 1ms/step - loss: 0.8722 - accuracy: 0.6849 - val_loss: 1.6410 - val_accuracy: 0.4792\n",
            "Epoch 17/100\n",
            "1152/1152 [==============================] - 1s 1ms/step - loss: 0.8395 - accuracy: 0.7049 - val_loss: 1.6604 - val_accuracy: 0.5556\n",
            "Epoch 18/100\n",
            "1152/1152 [==============================] - 1s 1ms/step - loss: 0.8312 - accuracy: 0.6858 - val_loss: 1.6578 - val_accuracy: 0.5278\n",
            "Epoch 19/100\n",
            "1152/1152 [==============================] - 1s 1ms/step - loss: 0.7726 - accuracy: 0.7274 - val_loss: 1.9562 - val_accuracy: 0.5000\n",
            "Epoch 20/100\n",
            "1152/1152 [==============================] - 1s 1ms/step - loss: 0.8199 - accuracy: 0.7118 - val_loss: 1.7642 - val_accuracy: 0.5347\n",
            "Epoch 21/100\n",
            "1152/1152 [==============================] - 1s 1ms/step - loss: 0.8429 - accuracy: 0.6910 - val_loss: 1.9345 - val_accuracy: 0.4375\n",
            "Epoch 22/100\n",
            "1152/1152 [==============================] - 1s 1ms/step - loss: 0.8302 - accuracy: 0.7118 - val_loss: 1.7206 - val_accuracy: 0.5139\n",
            "Epoch 23/100\n",
            "1152/1152 [==============================] - 1s 1ms/step - loss: 0.7856 - accuracy: 0.7144 - val_loss: 1.8488 - val_accuracy: 0.5069\n",
            "Epoch 24/100\n",
            "1152/1152 [==============================] - 1s 1ms/step - loss: 0.8035 - accuracy: 0.7005 - val_loss: 1.6881 - val_accuracy: 0.5139\n",
            "Epoch 25/100\n",
            "1152/1152 [==============================] - 1s 1ms/step - loss: 0.7885 - accuracy: 0.7144 - val_loss: 1.6896 - val_accuracy: 0.5312\n",
            "Epoch 26/100\n",
            "1152/1152 [==============================] - 1s 1ms/step - loss: 0.7422 - accuracy: 0.7214 - val_loss: 1.7150 - val_accuracy: 0.5139\n",
            "Epoch 27/100\n",
            "1152/1152 [==============================] - 1s 1ms/step - loss: 0.7791 - accuracy: 0.7214 - val_loss: 1.7210 - val_accuracy: 0.5139\n",
            "Epoch 28/100\n",
            "1152/1152 [==============================] - 1s 1ms/step - loss: 0.7460 - accuracy: 0.7309 - val_loss: 1.6579 - val_accuracy: 0.5347\n",
            "Epoch 29/100\n",
            "1152/1152 [==============================] - 1s 1ms/step - loss: 0.7448 - accuracy: 0.7240 - val_loss: 1.6974 - val_accuracy: 0.5590\n",
            "Epoch 30/100\n",
            "1152/1152 [==============================] - 1s 1ms/step - loss: 0.7462 - accuracy: 0.7240 - val_loss: 1.8558 - val_accuracy: 0.5139\n",
            "Epoch 31/100\n",
            "1152/1152 [==============================] - 1s 1ms/step - loss: 0.7120 - accuracy: 0.7439 - val_loss: 1.7364 - val_accuracy: 0.5243\n",
            "Epoch 32/100\n",
            "1152/1152 [==============================] - 1s 1ms/step - loss: 0.7062 - accuracy: 0.7578 - val_loss: 2.0507 - val_accuracy: 0.4410\n",
            "Epoch 33/100\n",
            "1152/1152 [==============================] - 1s 1ms/step - loss: 0.7056 - accuracy: 0.7535 - val_loss: 1.8289 - val_accuracy: 0.5174\n",
            "Epoch 34/100\n",
            "1152/1152 [==============================] - 1s 1ms/step - loss: 0.7431 - accuracy: 0.7465 - val_loss: 1.7742 - val_accuracy: 0.5243\n",
            "Epoch 35/100\n",
            "1152/1152 [==============================] - 1s 1ms/step - loss: 0.6918 - accuracy: 0.7509 - val_loss: 2.0584 - val_accuracy: 0.4896\n",
            "Epoch 36/100\n",
            "1152/1152 [==============================] - 1s 1ms/step - loss: 0.7007 - accuracy: 0.7543 - val_loss: 2.0112 - val_accuracy: 0.5139\n",
            "Epoch 37/100\n",
            "1152/1152 [==============================] - 1s 1ms/step - loss: 0.6606 - accuracy: 0.7604 - val_loss: 2.2069 - val_accuracy: 0.4722\n",
            "Epoch 38/100\n",
            "1152/1152 [==============================] - 1s 1ms/step - loss: 0.7662 - accuracy: 0.7196 - val_loss: 1.9349 - val_accuracy: 0.4896\n",
            "Epoch 39/100\n",
            "1152/1152 [==============================] - 1s 1ms/step - loss: 0.6806 - accuracy: 0.7561 - val_loss: 1.7572 - val_accuracy: 0.5208\n",
            "Epoch 40/100\n",
            "1152/1152 [==============================] - 1s 1ms/step - loss: 0.6225 - accuracy: 0.7778 - val_loss: 1.9245 - val_accuracy: 0.5208\n",
            "Epoch 41/100\n",
            "1152/1152 [==============================] - 1s 1ms/step - loss: 0.6613 - accuracy: 0.7778 - val_loss: 1.8581 - val_accuracy: 0.5417\n",
            "Epoch 42/100\n",
            "1152/1152 [==============================] - 1s 1ms/step - loss: 0.6857 - accuracy: 0.7604 - val_loss: 1.9566 - val_accuracy: 0.5278\n",
            "Epoch 43/100\n",
            "1152/1152 [==============================] - 1s 1ms/step - loss: 0.6704 - accuracy: 0.7630 - val_loss: 2.0481 - val_accuracy: 0.5243\n",
            "Epoch 44/100\n",
            "1152/1152 [==============================] - 1s 1ms/step - loss: 0.6044 - accuracy: 0.7743 - val_loss: 1.8316 - val_accuracy: 0.5208\n",
            "Epoch 45/100\n",
            "1152/1152 [==============================] - 1s 1ms/step - loss: 0.6555 - accuracy: 0.7604 - val_loss: 2.0668 - val_accuracy: 0.5069\n",
            "Epoch 46/100\n",
            "1152/1152 [==============================] - 1s 1ms/step - loss: 0.6174 - accuracy: 0.7743 - val_loss: 1.8790 - val_accuracy: 0.4896\n",
            "Epoch 47/100\n",
            "1152/1152 [==============================] - 1s 1ms/step - loss: 0.6270 - accuracy: 0.7760 - val_loss: 2.2751 - val_accuracy: 0.5035\n",
            "Epoch 48/100\n",
            "1152/1152 [==============================] - 1s 1ms/step - loss: 0.6421 - accuracy: 0.7760 - val_loss: 2.0744 - val_accuracy: 0.5521\n",
            "Epoch 49/100\n",
            "1152/1152 [==============================] - 1s 1ms/step - loss: 0.6088 - accuracy: 0.7830 - val_loss: 2.1912 - val_accuracy: 0.4965\n",
            "Epoch 50/100\n",
            "1152/1152 [==============================] - 1s 1ms/step - loss: 0.5892 - accuracy: 0.7995 - val_loss: 2.0075 - val_accuracy: 0.5208\n",
            "Epoch 51/100\n",
            "1152/1152 [==============================] - 1s 1ms/step - loss: 0.5878 - accuracy: 0.7865 - val_loss: 2.2887 - val_accuracy: 0.5000\n",
            "Epoch 52/100\n",
            "1152/1152 [==============================] - 1s 1ms/step - loss: 0.6148 - accuracy: 0.7891 - val_loss: 2.0012 - val_accuracy: 0.5451\n",
            "Epoch 53/100\n",
            "1152/1152 [==============================] - 1s 1ms/step - loss: 0.6899 - accuracy: 0.7595 - val_loss: 2.0715 - val_accuracy: 0.5174\n",
            "Epoch 54/100\n",
            "1152/1152 [==============================] - 1s 1ms/step - loss: 0.5764 - accuracy: 0.7882 - val_loss: 2.1492 - val_accuracy: 0.4965\n",
            "Epoch 55/100\n",
            "1152/1152 [==============================] - 1s 1ms/step - loss: 0.5890 - accuracy: 0.7873 - val_loss: 2.1389 - val_accuracy: 0.5347\n",
            "Epoch 56/100\n",
            "1152/1152 [==============================] - 1s 1ms/step - loss: 0.6077 - accuracy: 0.8038 - val_loss: 2.0963 - val_accuracy: 0.5000\n",
            "Epoch 57/100\n",
            "1152/1152 [==============================] - 1s 1ms/step - loss: 0.5657 - accuracy: 0.8030 - val_loss: 2.5760 - val_accuracy: 0.4653\n",
            "Epoch 58/100\n",
            "1152/1152 [==============================] - 1s 1ms/step - loss: 0.5980 - accuracy: 0.7873 - val_loss: 2.1550 - val_accuracy: 0.5417\n",
            "Epoch 59/100\n",
            "1152/1152 [==============================] - 1s 1ms/step - loss: 0.5710 - accuracy: 0.8073 - val_loss: 2.7001 - val_accuracy: 0.5208\n",
            "Epoch 60/100\n",
            "1152/1152 [==============================] - 1s 1ms/step - loss: 0.5681 - accuracy: 0.7934 - val_loss: 2.2512 - val_accuracy: 0.5104\n",
            "Epoch 61/100\n",
            "1152/1152 [==============================] - 1s 1ms/step - loss: 0.5233 - accuracy: 0.8151 - val_loss: 2.9142 - val_accuracy: 0.4653\n",
            "Epoch 62/100\n",
            "1152/1152 [==============================] - 1s 1ms/step - loss: 0.6034 - accuracy: 0.7865 - val_loss: 2.3837 - val_accuracy: 0.5000\n",
            "Epoch 63/100\n",
            "1152/1152 [==============================] - 1s 1ms/step - loss: 0.5442 - accuracy: 0.8030 - val_loss: 2.3968 - val_accuracy: 0.5174\n",
            "Epoch 64/100\n",
            "1152/1152 [==============================] - 1s 1ms/step - loss: 0.5190 - accuracy: 0.8220 - val_loss: 2.3451 - val_accuracy: 0.5035\n",
            "Epoch 65/100\n",
            "1152/1152 [==============================] - 1s 1ms/step - loss: 0.5735 - accuracy: 0.8021 - val_loss: 2.3240 - val_accuracy: 0.5799\n",
            "Epoch 66/100\n",
            "1152/1152 [==============================] - 1s 1ms/step - loss: 0.5990 - accuracy: 0.7873 - val_loss: 2.2661 - val_accuracy: 0.5312\n",
            "Epoch 67/100\n",
            "1152/1152 [==============================] - 1s 1ms/step - loss: 0.4914 - accuracy: 0.8229 - val_loss: 2.2860 - val_accuracy: 0.5174\n",
            "Epoch 68/100\n",
            "1152/1152 [==============================] - 1s 1ms/step - loss: 0.5051 - accuracy: 0.8082 - val_loss: 2.3605 - val_accuracy: 0.5382\n",
            "Epoch 69/100\n",
            "1152/1152 [==============================] - 1s 1ms/step - loss: 0.5506 - accuracy: 0.8116 - val_loss: 2.3150 - val_accuracy: 0.5312\n",
            "Epoch 70/100\n",
            "1152/1152 [==============================] - 1s 1ms/step - loss: 0.5167 - accuracy: 0.8090 - val_loss: 2.0169 - val_accuracy: 0.5729\n",
            "Epoch 71/100\n",
            "1152/1152 [==============================] - 1s 1ms/step - loss: 0.5657 - accuracy: 0.8056 - val_loss: 2.2866 - val_accuracy: 0.5208\n",
            "Epoch 72/100\n",
            "1152/1152 [==============================] - 1s 1ms/step - loss: 0.4896 - accuracy: 0.8299 - val_loss: 2.1029 - val_accuracy: 0.5833\n",
            "Epoch 73/100\n",
            "1152/1152 [==============================] - 1s 1ms/step - loss: 0.4915 - accuracy: 0.8151 - val_loss: 2.4013 - val_accuracy: 0.5000\n",
            "Epoch 74/100\n",
            "1152/1152 [==============================] - 1s 1ms/step - loss: 0.5218 - accuracy: 0.8151 - val_loss: 2.3271 - val_accuracy: 0.5104\n",
            "Epoch 75/100\n",
            "1152/1152 [==============================] - 1s 1ms/step - loss: 0.5018 - accuracy: 0.8351 - val_loss: 2.4650 - val_accuracy: 0.5243\n",
            "Epoch 76/100\n",
            "1152/1152 [==============================] - 1s 1ms/step - loss: 0.4867 - accuracy: 0.8281 - val_loss: 2.4194 - val_accuracy: 0.5278\n",
            "Epoch 77/100\n",
            "1152/1152 [==============================] - 1s 1ms/step - loss: 0.4758 - accuracy: 0.8281 - val_loss: 2.1568 - val_accuracy: 0.5521\n",
            "Epoch 78/100\n",
            "1152/1152 [==============================] - 1s 1ms/step - loss: 0.5097 - accuracy: 0.8116 - val_loss: 2.3714 - val_accuracy: 0.5278\n",
            "Epoch 79/100\n",
            "1152/1152 [==============================] - 1s 1ms/step - loss: 0.5413 - accuracy: 0.8186 - val_loss: 2.3500 - val_accuracy: 0.5312\n",
            "Epoch 80/100\n",
            "1152/1152 [==============================] - 1s 1ms/step - loss: 0.4997 - accuracy: 0.8264 - val_loss: 2.0054 - val_accuracy: 0.5625\n",
            "Epoch 81/100\n",
            "1152/1152 [==============================] - 1s 1ms/step - loss: 0.5002 - accuracy: 0.8238 - val_loss: 2.2669 - val_accuracy: 0.5694\n",
            "Epoch 82/100\n",
            "1152/1152 [==============================] - 1s 1ms/step - loss: 0.4975 - accuracy: 0.8281 - val_loss: 2.5293 - val_accuracy: 0.5174\n",
            "Epoch 83/100\n",
            "1152/1152 [==============================] - 1s 1ms/step - loss: 0.5150 - accuracy: 0.8125 - val_loss: 2.6718 - val_accuracy: 0.4861\n",
            "Epoch 84/100\n",
            "1152/1152 [==============================] - 1s 1ms/step - loss: 0.4898 - accuracy: 0.8203 - val_loss: 2.5896 - val_accuracy: 0.5486\n",
            "Epoch 85/100\n",
            "1152/1152 [==============================] - 1s 1ms/step - loss: 0.4850 - accuracy: 0.8307 - val_loss: 2.3165 - val_accuracy: 0.5278\n",
            "Epoch 86/100\n",
            "1152/1152 [==============================] - 1s 1ms/step - loss: 0.4227 - accuracy: 0.8394 - val_loss: 2.5392 - val_accuracy: 0.5243\n",
            "Epoch 87/100\n",
            "1152/1152 [==============================] - 1s 1ms/step - loss: 0.4212 - accuracy: 0.8498 - val_loss: 2.3081 - val_accuracy: 0.5799\n",
            "Epoch 88/100\n",
            "1152/1152 [==============================] - 1s 1ms/step - loss: 0.5312 - accuracy: 0.8177 - val_loss: 2.6750 - val_accuracy: 0.5069\n",
            "Epoch 89/100\n",
            "1152/1152 [==============================] - 1s 1ms/step - loss: 0.4634 - accuracy: 0.8264 - val_loss: 2.4452 - val_accuracy: 0.5382\n",
            "Epoch 90/100\n",
            "1152/1152 [==============================] - 1s 1ms/step - loss: 0.4541 - accuracy: 0.8385 - val_loss: 2.3531 - val_accuracy: 0.5556\n",
            "Epoch 91/100\n",
            "1152/1152 [==============================] - 1s 1ms/step - loss: 0.4929 - accuracy: 0.8229 - val_loss: 3.0748 - val_accuracy: 0.5104\n",
            "Epoch 92/100\n",
            "1152/1152 [==============================] - 1s 1ms/step - loss: 0.4479 - accuracy: 0.8516 - val_loss: 2.5214 - val_accuracy: 0.5451\n",
            "Epoch 93/100\n",
            "1152/1152 [==============================] - 1s 1ms/step - loss: 0.4146 - accuracy: 0.8507 - val_loss: 2.8595 - val_accuracy: 0.5139\n",
            "Epoch 94/100\n",
            "1152/1152 [==============================] - 1s 1ms/step - loss: 0.4982 - accuracy: 0.8264 - val_loss: 2.5264 - val_accuracy: 0.5278\n",
            "Epoch 95/100\n",
            "1152/1152 [==============================] - 1s 1ms/step - loss: 0.4376 - accuracy: 0.8490 - val_loss: 2.9673 - val_accuracy: 0.5069\n",
            "Epoch 96/100\n",
            "1152/1152 [==============================] - 1s 1ms/step - loss: 0.4604 - accuracy: 0.8394 - val_loss: 2.4790 - val_accuracy: 0.5069\n",
            "Epoch 97/100\n",
            "1152/1152 [==============================] - 1s 1ms/step - loss: 0.4662 - accuracy: 0.8247 - val_loss: 2.2978 - val_accuracy: 0.5521\n",
            "Epoch 98/100\n",
            "1152/1152 [==============================] - 1s 1ms/step - loss: 0.4541 - accuracy: 0.8403 - val_loss: 2.8137 - val_accuracy: 0.5312\n",
            "Epoch 99/100\n",
            "1152/1152 [==============================] - 1s 1ms/step - loss: 0.4774 - accuracy: 0.8351 - val_loss: 2.1590 - val_accuracy: 0.5938\n",
            "Epoch 100/100\n",
            "1152/1152 [==============================] - 1s 1ms/step - loss: 0.3985 - accuracy: 0.8646 - val_loss: 2.4760 - val_accuracy: 0.5312\n"
          ],
          "name": "stdout"
        }
      ]
    },
    {
      "cell_type": "markdown",
      "metadata": {
        "id": "TGl60c_J6zOP",
        "colab_type": "text"
      },
      "source": [
        "## Gráficos de accuracy y loss <a class=\"anchor\" id=\"second-bullet4\"></a>"
      ]
    },
    {
      "cell_type": "code",
      "metadata": {
        "id": "uBAZfLRxNqOP",
        "colab_type": "code",
        "colab": {
          "base_uri": "https://localhost:8080/",
          "height": 301
        },
        "outputId": "0126d2c1-dd7f-45c4-9bbe-245db37caadc"
      },
      "source": [
        "import matplotlib.pyplot as plt\n",
        "acc = history.history['accuracy']\n",
        "val_acc = history.history['val_accuracy']\n",
        "loss = history.history['loss']\n",
        "val_loss = history.history['val_loss']\n",
        "\n",
        "epochs = range(len(acc))\n",
        "\n",
        "n_row = 1\n",
        "n_col = 2\n",
        "fig, ax = plt.subplots(n_row, n_col, sharex = False, sharey = False, figsize=(16,4))\n",
        "\n",
        "\n",
        "ax[0].plot(epochs, acc, 'r', label='Training accuracy')\n",
        "ax[0].plot(epochs, val_acc, 'b', label='Validation accuracy')\n",
        "ax[0].legend(fontsize=12,loc=0)\n",
        "ax[0].set_title('Training and Validation Accuracy',fontsize=16)\n",
        "ax[0].set_ylabel('measure',fontsize=14)\n",
        "ax[0].set_xlabel('epoch', fontsize = 14)\n",
        "ax[0].set_xlim([1, len(acc)])\n",
        "\n",
        "ax[1].plot(epochs, loss, 'r', label='Training Loss')\n",
        "ax[1].plot(epochs, val_loss, 'b', label='Validation Loss')\n",
        "ax[1].legend(fontsize=12)\n",
        "ax[1].set_title('Training and Validation Loss',fontsize=16)\n",
        "ax[1].set_ylabel('measure',fontsize=14)\n",
        "ax[1].set_xlabel('epoch', fontsize = 14)\n",
        "ax[1].set_xlim([1, len(acc)])\n",
        "\n",
        "\n",
        "plt.show()"
      ],
      "execution_count": 109,
      "outputs": [
        {
          "output_type": "display_data",
          "data": {
            "image/png": "[encoded data removed]",
            "text/plain": [
              "<Figure size 1152x288 with 2 Axes>"
            ]
          },
          "metadata": {
            "tags": [],
            "needs_background": "light"
          }
        }
      ]
    },
    {
      "cell_type": "markdown",
      "metadata": {
        "id": "Tdogmdo0OH8P",
        "colab_type": "text"
      },
      "source": [
        "# Solo SONG <a class=\"anchor\" id=\"third-bullet\"></a>"
      ]
    },
    {
      "cell_type": "markdown",
      "metadata": {
        "id": "gV9mqtoe65d3",
        "colab_type": "text"
      },
      "source": [
        "## Elección de datos <a class=\"anchor\" id=\"third-bullet1\"></a>"
      ]
    },
    {
      "cell_type": "code",
      "metadata": {
        "id": "O9WpQKtYOJMi",
        "colab_type": "code",
        "colab": {}
      },
      "source": [
        "X2=X[mod=='02']\n",
        "y2=y[mod=='02']"
      ],
      "execution_count": 0,
      "outputs": []
    },
    {
      "cell_type": "code",
      "metadata": {
        "id": "n515E_yjY3tv",
        "colab_type": "code",
        "colab": {
          "base_uri": "https://localhost:8080/",
          "height": 35
        },
        "outputId": "a4683196-7d09-4e51-c139-be7cb2f3b544"
      },
      "source": [
        "X2.shape"
      ],
      "execution_count": 112,
      "outputs": [
        {
          "output_type": "execute_result",
          "data": {
            "text/plain": [
              "(1012, 40)"
            ]
          },
          "metadata": {
            "tags": []
          },
          "execution_count": 112
        }
      ]
    },
    {
      "cell_type": "markdown",
      "metadata": {
        "id": "xgfP6Rte67jH",
        "colab_type": "text"
      },
      "source": [
        "## Separación datos en train y test <a class=\"anchor\" id=\"third-bullet2\"></a>"
      ]
    },
    {
      "cell_type": "code",
      "metadata": {
        "id": "y5cra7aoOLA_",
        "colab_type": "code",
        "colab": {}
      },
      "source": [
        "from sklearn.model_selection import train_test_split\n",
        "\n",
        "X_train, X_test, y_train, y_test = train_test_split(X2, y2, test_size=0.2)"
      ],
      "execution_count": 0,
      "outputs": []
    },
    {
      "cell_type": "markdown",
      "metadata": {
        "id": "Fxpm3xGS6-HH",
        "colab_type": "text"
      },
      "source": [
        "## Definición del modelo <a class=\"anchor\" id=\"third-bullet3\"></a>"
      ]
    },
    {
      "cell_type": "code",
      "metadata": {
        "id": "hHbSc9_GOPPP",
        "colab_type": "code",
        "colab": {}
      },
      "source": [
        "model2 = keras.Sequential([\n",
        "    keras.layers.Dense(128, activation='relu'),\n",
        "    keras.layers.Dense(8, activation='softmax')\n",
        "])"
      ],
      "execution_count": 0,
      "outputs": []
    },
    {
      "cell_type": "code",
      "metadata": {
        "id": "CZ_htKX3ORJn",
        "colab_type": "code",
        "colab": {}
      },
      "source": [
        "model2.compile(optimizer='adam',\n",
        "              loss='sparse_categorical_crossentropy',\n",
        "              metrics=['accuracy'])"
      ],
      "execution_count": 0,
      "outputs": []
    },
    {
      "cell_type": "code",
      "metadata": {
        "id": "VUASIg4ZOS_4",
        "colab_type": "code",
        "colab": {
          "base_uri": "https://localhost:8080/",
          "height": 1000
        },
        "outputId": "a48235e1-ffa4-4fd2-ea09-6fe34651f68a"
      },
      "source": [
        "history=model2.fit(X_train, y_train, batch_size=5, epochs=100,  validation_data=(X_test, y_test))"
      ],
      "execution_count": 94,
      "outputs": [
        {
          "output_type": "stream",
          "text": [
            "Train on 809 samples, validate on 203 samples\n",
            "Epoch 1/100\n",
            "809/809 [==============================] - 0s 325us/step - loss: 8.9838 - accuracy: 0.2534 - val_loss: 3.6402 - val_accuracy: 0.3645\n",
            "Epoch 2/100\n",
            "809/809 [==============================] - 0s 237us/step - loss: 2.0988 - accuracy: 0.4400 - val_loss: 1.6380 - val_accuracy: 0.5172\n",
            "Epoch 3/100\n",
            "809/809 [==============================] - 0s 236us/step - loss: 1.4797 - accuracy: 0.5587 - val_loss: 1.8720 - val_accuracy: 0.4778\n",
            "Epoch 4/100\n",
            "809/809 [==============================] - 0s 256us/step - loss: 1.5117 - accuracy: 0.5871 - val_loss: 1.9103 - val_accuracy: 0.5320\n",
            "Epoch 5/100\n",
            "809/809 [==============================] - 0s 238us/step - loss: 1.1203 - accuracy: 0.6638 - val_loss: 1.5106 - val_accuracy: 0.5468\n",
            "Epoch 6/100\n",
            "809/809 [==============================] - 0s 235us/step - loss: 1.1191 - accuracy: 0.6737 - val_loss: 1.3548 - val_accuracy: 0.6404\n",
            "Epoch 7/100\n",
            "809/809 [==============================] - 0s 240us/step - loss: 0.9250 - accuracy: 0.6996 - val_loss: 1.6187 - val_accuracy: 0.5320\n",
            "Epoch 8/100\n",
            "809/809 [==============================] - 0s 239us/step - loss: 1.0651 - accuracy: 0.6885 - val_loss: 1.0353 - val_accuracy: 0.6798\n",
            "Epoch 9/100\n",
            "809/809 [==============================] - 0s 243us/step - loss: 1.0667 - accuracy: 0.6934 - val_loss: 0.7086 - val_accuracy: 0.7488\n",
            "Epoch 10/100\n",
            "809/809 [==============================] - 0s 236us/step - loss: 0.8547 - accuracy: 0.7244 - val_loss: 0.8298 - val_accuracy: 0.7291\n",
            "Epoch 11/100\n",
            "809/809 [==============================] - 0s 235us/step - loss: 0.8174 - accuracy: 0.7466 - val_loss: 0.9340 - val_accuracy: 0.7241\n",
            "Epoch 12/100\n",
            "809/809 [==============================] - 0s 236us/step - loss: 0.9173 - accuracy: 0.7145 - val_loss: 0.9481 - val_accuracy: 0.6798\n",
            "Epoch 13/100\n",
            "809/809 [==============================] - 0s 229us/step - loss: 0.8966 - accuracy: 0.7404 - val_loss: 0.6413 - val_accuracy: 0.7734\n",
            "Epoch 14/100\n",
            "809/809 [==============================] - 0s 241us/step - loss: 1.0415 - accuracy: 0.7231 - val_loss: 1.0557 - val_accuracy: 0.6404\n",
            "Epoch 15/100\n",
            "809/809 [==============================] - 0s 244us/step - loss: 1.0370 - accuracy: 0.7083 - val_loss: 0.5645 - val_accuracy: 0.8128\n",
            "Epoch 16/100\n",
            "809/809 [==============================] - 0s 235us/step - loss: 0.8190 - accuracy: 0.7478 - val_loss: 1.3926 - val_accuracy: 0.6700\n",
            "Epoch 17/100\n",
            "809/809 [==============================] - 0s 238us/step - loss: 0.7530 - accuracy: 0.7750 - val_loss: 0.8593 - val_accuracy: 0.7438\n",
            "Epoch 18/100\n",
            "809/809 [==============================] - 0s 239us/step - loss: 0.9179 - accuracy: 0.7454 - val_loss: 1.0444 - val_accuracy: 0.7389\n",
            "Epoch 19/100\n",
            "809/809 [==============================] - 0s 238us/step - loss: 0.8126 - accuracy: 0.7639 - val_loss: 0.6079 - val_accuracy: 0.8079\n",
            "Epoch 20/100\n",
            "809/809 [==============================] - 0s 248us/step - loss: 0.8186 - accuracy: 0.7812 - val_loss: 2.9235 - val_accuracy: 0.5961\n",
            "Epoch 21/100\n",
            "809/809 [==============================] - 0s 242us/step - loss: 0.7857 - accuracy: 0.7886 - val_loss: 0.8947 - val_accuracy: 0.7389\n",
            "Epoch 22/100\n",
            "809/809 [==============================] - 0s 244us/step - loss: 0.6599 - accuracy: 0.7899 - val_loss: 0.8102 - val_accuracy: 0.7389\n",
            "Epoch 23/100\n",
            "809/809 [==============================] - 0s 245us/step - loss: 0.9693 - accuracy: 0.7590 - val_loss: 0.8186 - val_accuracy: 0.7241\n",
            "Epoch 24/100\n",
            "809/809 [==============================] - 0s 245us/step - loss: 0.5991 - accuracy: 0.8245 - val_loss: 0.7777 - val_accuracy: 0.7537\n",
            "Epoch 25/100\n",
            "809/809 [==============================] - 0s 239us/step - loss: 0.9191 - accuracy: 0.7639 - val_loss: 1.1194 - val_accuracy: 0.6946\n",
            "Epoch 26/100\n",
            "809/809 [==============================] - 0s 253us/step - loss: 1.1315 - accuracy: 0.7417 - val_loss: 3.3471 - val_accuracy: 0.6355\n",
            "Epoch 27/100\n",
            "809/809 [==============================] - 0s 246us/step - loss: 0.7772 - accuracy: 0.7998 - val_loss: 1.2546 - val_accuracy: 0.6700\n",
            "Epoch 28/100\n",
            "809/809 [==============================] - 0s 252us/step - loss: 1.2147 - accuracy: 0.7231 - val_loss: 0.8268 - val_accuracy: 0.7340\n",
            "Epoch 29/100\n",
            "809/809 [==============================] - 0s 244us/step - loss: 0.9679 - accuracy: 0.7738 - val_loss: 1.0328 - val_accuracy: 0.7143\n",
            "Epoch 30/100\n",
            "809/809 [==============================] - 0s 253us/step - loss: 0.7622 - accuracy: 0.7874 - val_loss: 0.7444 - val_accuracy: 0.7488\n",
            "Epoch 31/100\n",
            "809/809 [==============================] - 0s 244us/step - loss: 0.5942 - accuracy: 0.8195 - val_loss: 1.5918 - val_accuracy: 0.6502\n",
            "Epoch 32/100\n",
            "809/809 [==============================] - 0s 244us/step - loss: 0.6151 - accuracy: 0.8183 - val_loss: 0.6692 - val_accuracy: 0.8473\n",
            "Epoch 33/100\n",
            "809/809 [==============================] - 0s 244us/step - loss: 0.4806 - accuracy: 0.8591 - val_loss: 0.9180 - val_accuracy: 0.7931\n",
            "Epoch 34/100\n",
            "809/809 [==============================] - 0s 246us/step - loss: 0.7561 - accuracy: 0.7874 - val_loss: 1.3043 - val_accuracy: 0.7635\n",
            "Epoch 35/100\n",
            "809/809 [==============================] - 0s 247us/step - loss: 0.7101 - accuracy: 0.7998 - val_loss: 1.0961 - val_accuracy: 0.7291\n",
            "Epoch 36/100\n",
            "809/809 [==============================] - 0s 238us/step - loss: 0.7614 - accuracy: 0.8133 - val_loss: 1.4920 - val_accuracy: 0.7044\n",
            "Epoch 37/100\n",
            "809/809 [==============================] - 0s 234us/step - loss: 0.6387 - accuracy: 0.8245 - val_loss: 0.8297 - val_accuracy: 0.7537\n",
            "Epoch 38/100\n",
            "809/809 [==============================] - 0s 240us/step - loss: 0.6391 - accuracy: 0.8208 - val_loss: 1.5609 - val_accuracy: 0.6650\n",
            "Epoch 39/100\n",
            "809/809 [==============================] - 0s 238us/step - loss: 0.5011 - accuracy: 0.8517 - val_loss: 0.9040 - val_accuracy: 0.7685\n",
            "Epoch 40/100\n",
            "809/809 [==============================] - 0s 254us/step - loss: 0.4391 - accuracy: 0.8554 - val_loss: 0.7772 - val_accuracy: 0.8030\n",
            "Epoch 41/100\n",
            "809/809 [==============================] - 0s 236us/step - loss: 0.4852 - accuracy: 0.8455 - val_loss: 0.7558 - val_accuracy: 0.8079\n",
            "Epoch 42/100\n",
            "809/809 [==============================] - 0s 241us/step - loss: 0.4472 - accuracy: 0.8665 - val_loss: 0.8574 - val_accuracy: 0.7882\n",
            "Epoch 43/100\n",
            "809/809 [==============================] - 0s 236us/step - loss: 0.4943 - accuracy: 0.8665 - val_loss: 0.7312 - val_accuracy: 0.8079\n",
            "Epoch 44/100\n",
            "809/809 [==============================] - 0s 243us/step - loss: 0.3319 - accuracy: 0.8925 - val_loss: 1.0443 - val_accuracy: 0.7143\n",
            "Epoch 45/100\n",
            "809/809 [==============================] - 0s 250us/step - loss: 0.6312 - accuracy: 0.8195 - val_loss: 0.7309 - val_accuracy: 0.8177\n",
            "Epoch 46/100\n",
            "809/809 [==============================] - 0s 241us/step - loss: 0.4083 - accuracy: 0.8677 - val_loss: 1.2480 - val_accuracy: 0.7241\n",
            "Epoch 47/100\n",
            "809/809 [==============================] - 0s 241us/step - loss: 0.4504 - accuracy: 0.8764 - val_loss: 0.7428 - val_accuracy: 0.7734\n",
            "Epoch 48/100\n",
            "809/809 [==============================] - 0s 241us/step - loss: 0.7801 - accuracy: 0.7837 - val_loss: 0.8780 - val_accuracy: 0.7882\n",
            "Epoch 49/100\n",
            "809/809 [==============================] - 0s 247us/step - loss: 0.7453 - accuracy: 0.8158 - val_loss: 0.7786 - val_accuracy: 0.8177\n",
            "Epoch 50/100\n",
            "809/809 [==============================] - 0s 249us/step - loss: 0.4755 - accuracy: 0.8665 - val_loss: 0.5770 - val_accuracy: 0.8177\n",
            "Epoch 51/100\n",
            "809/809 [==============================] - 0s 245us/step - loss: 0.3536 - accuracy: 0.8838 - val_loss: 0.7349 - val_accuracy: 0.8177\n",
            "Epoch 52/100\n",
            "809/809 [==============================] - 0s 239us/step - loss: 0.3641 - accuracy: 0.8776 - val_loss: 0.7367 - val_accuracy: 0.8276\n",
            "Epoch 53/100\n",
            "809/809 [==============================] - 0s 256us/step - loss: 0.4365 - accuracy: 0.8566 - val_loss: 0.5222 - val_accuracy: 0.8473\n",
            "Epoch 54/100\n",
            "809/809 [==============================] - 0s 236us/step - loss: 0.4471 - accuracy: 0.8665 - val_loss: 0.5481 - val_accuracy: 0.8522\n",
            "Epoch 55/100\n",
            "809/809 [==============================] - 0s 253us/step - loss: 0.3662 - accuracy: 0.8850 - val_loss: 0.6388 - val_accuracy: 0.8177\n",
            "Epoch 56/100\n",
            "809/809 [==============================] - 0s 241us/step - loss: 0.5484 - accuracy: 0.8504 - val_loss: 0.6667 - val_accuracy: 0.8621\n",
            "Epoch 57/100\n",
            "809/809 [==============================] - 0s 250us/step - loss: 0.4020 - accuracy: 0.8690 - val_loss: 0.6350 - val_accuracy: 0.8079\n",
            "Epoch 58/100\n",
            "809/809 [==============================] - 0s 244us/step - loss: 0.4940 - accuracy: 0.8492 - val_loss: 0.8675 - val_accuracy: 0.7931\n",
            "Epoch 59/100\n",
            "809/809 [==============================] - 0s 245us/step - loss: 0.3415 - accuracy: 0.8900 - val_loss: 0.5957 - val_accuracy: 0.8128\n",
            "Epoch 60/100\n",
            "809/809 [==============================] - 0s 246us/step - loss: 0.4375 - accuracy: 0.8702 - val_loss: 0.6198 - val_accuracy: 0.8473\n",
            "Epoch 61/100\n",
            "809/809 [==============================] - 0s 242us/step - loss: 0.3296 - accuracy: 0.8900 - val_loss: 0.5174 - val_accuracy: 0.8325\n",
            "Epoch 62/100\n",
            "809/809 [==============================] - 0s 238us/step - loss: 0.3921 - accuracy: 0.8714 - val_loss: 0.8231 - val_accuracy: 0.7980\n",
            "Epoch 63/100\n",
            "809/809 [==============================] - 0s 239us/step - loss: 0.3838 - accuracy: 0.8789 - val_loss: 0.7620 - val_accuracy: 0.7980\n",
            "Epoch 64/100\n",
            "809/809 [==============================] - 0s 241us/step - loss: 0.4259 - accuracy: 0.8776 - val_loss: 1.1350 - val_accuracy: 0.7389\n",
            "Epoch 65/100\n",
            "809/809 [==============================] - 0s 245us/step - loss: 0.3226 - accuracy: 0.8863 - val_loss: 1.5396 - val_accuracy: 0.6946\n",
            "Epoch 66/100\n",
            "809/809 [==============================] - 0s 251us/step - loss: 0.4265 - accuracy: 0.8665 - val_loss: 0.8366 - val_accuracy: 0.7833\n",
            "Epoch 67/100\n",
            "809/809 [==============================] - 0s 239us/step - loss: 0.3143 - accuracy: 0.8863 - val_loss: 0.5490 - val_accuracy: 0.8374\n",
            "Epoch 68/100\n",
            "809/809 [==============================] - 0s 244us/step - loss: 0.2961 - accuracy: 0.8900 - val_loss: 0.5759 - val_accuracy: 0.8276\n",
            "Epoch 69/100\n",
            "809/809 [==============================] - 0s 239us/step - loss: 0.2305 - accuracy: 0.9283 - val_loss: 0.4870 - val_accuracy: 0.8571\n",
            "Epoch 70/100\n",
            "809/809 [==============================] - 0s 239us/step - loss: 0.2141 - accuracy: 0.9184 - val_loss: 0.5057 - val_accuracy: 0.8670\n",
            "Epoch 71/100\n",
            "809/809 [==============================] - 0s 242us/step - loss: 0.3689 - accuracy: 0.8776 - val_loss: 0.7473 - val_accuracy: 0.7734\n",
            "Epoch 72/100\n",
            "809/809 [==============================] - 0s 240us/step - loss: 0.3700 - accuracy: 0.8962 - val_loss: 0.5683 - val_accuracy: 0.8128\n",
            "Epoch 73/100\n",
            "809/809 [==============================] - 0s 237us/step - loss: 0.2562 - accuracy: 0.9098 - val_loss: 0.5575 - val_accuracy: 0.8374\n",
            "Epoch 74/100\n",
            "809/809 [==============================] - 0s 243us/step - loss: 0.2529 - accuracy: 0.9011 - val_loss: 0.5121 - val_accuracy: 0.8227\n",
            "Epoch 75/100\n",
            "809/809 [==============================] - 0s 241us/step - loss: 0.2758 - accuracy: 0.9061 - val_loss: 0.7047 - val_accuracy: 0.8079\n",
            "Epoch 76/100\n",
            "809/809 [==============================] - 0s 242us/step - loss: 0.2376 - accuracy: 0.9073 - val_loss: 0.7051 - val_accuracy: 0.8424\n",
            "Epoch 77/100\n",
            "809/809 [==============================] - 0s 242us/step - loss: 0.2806 - accuracy: 0.9048 - val_loss: 0.8017 - val_accuracy: 0.7980\n",
            "Epoch 78/100\n",
            "809/809 [==============================] - 0s 249us/step - loss: 0.3383 - accuracy: 0.8875 - val_loss: 0.5498 - val_accuracy: 0.8621\n",
            "Epoch 79/100\n",
            "809/809 [==============================] - 0s 238us/step - loss: 0.2196 - accuracy: 0.9234 - val_loss: 0.4748 - val_accuracy: 0.8670\n",
            "Epoch 80/100\n",
            "809/809 [==============================] - 0s 241us/step - loss: 0.2347 - accuracy: 0.9172 - val_loss: 0.4747 - val_accuracy: 0.8768\n",
            "Epoch 81/100\n",
            "809/809 [==============================] - 0s 242us/step - loss: 0.3023 - accuracy: 0.8962 - val_loss: 0.9200 - val_accuracy: 0.8079\n",
            "Epoch 82/100\n",
            "809/809 [==============================] - 0s 240us/step - loss: 0.2757 - accuracy: 0.9023 - val_loss: 0.5649 - val_accuracy: 0.8424\n",
            "Epoch 83/100\n",
            "809/809 [==============================] - 0s 242us/step - loss: 0.1851 - accuracy: 0.9258 - val_loss: 0.4973 - val_accuracy: 0.8670\n",
            "Epoch 84/100\n",
            "809/809 [==============================] - 0s 240us/step - loss: 0.2021 - accuracy: 0.9197 - val_loss: 0.5483 - val_accuracy: 0.8374\n",
            "Epoch 85/100\n",
            "809/809 [==============================] - 0s 242us/step - loss: 0.1760 - accuracy: 0.9382 - val_loss: 0.7127 - val_accuracy: 0.8079\n",
            "Epoch 86/100\n",
            "809/809 [==============================] - 0s 244us/step - loss: 0.2018 - accuracy: 0.9197 - val_loss: 0.5420 - val_accuracy: 0.8374\n",
            "Epoch 87/100\n",
            "809/809 [==============================] - 0s 245us/step - loss: 0.2390 - accuracy: 0.9172 - val_loss: 0.5618 - val_accuracy: 0.8522\n",
            "Epoch 88/100\n",
            "809/809 [==============================] - 0s 254us/step - loss: 0.1495 - accuracy: 0.9407 - val_loss: 0.4634 - val_accuracy: 0.8719\n",
            "Epoch 89/100\n",
            "809/809 [==============================] - 0s 239us/step - loss: 0.2045 - accuracy: 0.9320 - val_loss: 0.7462 - val_accuracy: 0.8325\n",
            "Epoch 90/100\n",
            "809/809 [==============================] - 0s 242us/step - loss: 0.2402 - accuracy: 0.9085 - val_loss: 0.5235 - val_accuracy: 0.8670\n",
            "Epoch 91/100\n",
            "809/809 [==============================] - 0s 253us/step - loss: 0.2087 - accuracy: 0.9283 - val_loss: 0.5079 - val_accuracy: 0.8473\n",
            "Epoch 92/100\n",
            "809/809 [==============================] - 0s 238us/step - loss: 0.1673 - accuracy: 0.9382 - val_loss: 1.0884 - val_accuracy: 0.8030\n",
            "Epoch 93/100\n",
            "809/809 [==============================] - 0s 241us/step - loss: 0.1610 - accuracy: 0.9370 - val_loss: 0.4362 - val_accuracy: 0.8522\n",
            "Epoch 94/100\n",
            "809/809 [==============================] - 0s 242us/step - loss: 0.1571 - accuracy: 0.9456 - val_loss: 0.5384 - val_accuracy: 0.8670\n",
            "Epoch 95/100\n",
            "809/809 [==============================] - 0s 248us/step - loss: 0.1875 - accuracy: 0.9308 - val_loss: 0.5460 - val_accuracy: 0.8473\n",
            "Epoch 96/100\n",
            "809/809 [==============================] - 0s 249us/step - loss: 0.1911 - accuracy: 0.9295 - val_loss: 0.4752 - val_accuracy: 0.8621\n",
            "Epoch 97/100\n",
            "809/809 [==============================] - 0s 239us/step - loss: 0.1370 - accuracy: 0.9456 - val_loss: 0.6709 - val_accuracy: 0.8424\n",
            "Epoch 98/100\n",
            "809/809 [==============================] - 0s 241us/step - loss: 0.2119 - accuracy: 0.9370 - val_loss: 0.8531 - val_accuracy: 0.7685\n",
            "Epoch 99/100\n",
            "809/809 [==============================] - 0s 249us/step - loss: 0.1669 - accuracy: 0.9431 - val_loss: 0.6951 - val_accuracy: 0.8177\n",
            "Epoch 100/100\n",
            "809/809 [==============================] - 0s 239us/step - loss: 0.2779 - accuracy: 0.9011 - val_loss: 0.5729 - val_accuracy: 0.8670\n"
          ],
          "name": "stdout"
        }
      ]
    },
    {
      "cell_type": "markdown",
      "metadata": {
        "id": "7VxfzqQj7Az-",
        "colab_type": "text"
      },
      "source": [
        "## Gráficos de accuracy y loss <a class=\"anchor\" id=\"third-bullet4\"></a>"
      ]
    },
    {
      "cell_type": "code",
      "metadata": {
        "id": "ego8eejHOdg-",
        "colab_type": "code",
        "colab": {
          "base_uri": "https://localhost:8080/",
          "height": 301
        },
        "outputId": "59415dcf-4449-4df8-9933-761783cf805e"
      },
      "source": [
        "import matplotlib.pyplot as plt\n",
        "acc = history.history['accuracy']\n",
        "val_acc = history.history['val_accuracy']\n",
        "loss = history.history['loss']\n",
        "val_loss = history.history['val_loss']\n",
        "\n",
        "epochs = range(len(acc))\n",
        "\n",
        "n_row = 1\n",
        "n_col = 2\n",
        "fig, ax = plt.subplots(n_row, n_col, sharex = False, sharey = False, figsize=(16,4))\n",
        "\n",
        "\n",
        "ax[0].plot(epochs, acc, 'r', label='Training accuracy')\n",
        "ax[0].plot(epochs, val_acc, 'b', label='Validation accuracy')\n",
        "ax[0].legend(fontsize=12,loc=0)\n",
        "ax[0].set_title('Training and Validation Accuracy',fontsize=16)\n",
        "ax[0].set_ylabel('measure',fontsize=14)\n",
        "ax[0].set_xlabel('epoch', fontsize = 14)\n",
        "ax[0].set_xlim([1, len(acc)])\n",
        "\n",
        "ax[1].plot(epochs, loss, 'r', label='Training Loss')\n",
        "ax[1].plot(epochs, val_loss, 'b', label='Validation Loss')\n",
        "ax[1].legend(fontsize=12)\n",
        "ax[1].set_title('Training and Validation Loss',fontsize=16)\n",
        "ax[1].set_ylabel('measure',fontsize=14)\n",
        "ax[1].set_xlabel('epoch', fontsize = 14)\n",
        "ax[1].set_xlim([1, len(acc)])\n",
        "\n",
        "\n",
        "plt.show()"
      ],
      "execution_count": 95,
      "outputs": [
        {
          "output_type": "display_data",
          "data": {
            "image/png": "[encoded data removed]",
            "text/plain": [
              "<Figure size 1152x288 with 2 Axes>"
            ]
          },
          "metadata": {
            "tags": [],
            "needs_background": "light"
          }
        }
      ]
    }
  ]
}