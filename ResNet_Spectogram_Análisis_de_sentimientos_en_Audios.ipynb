{
  "nbformat": 4,
  "nbformat_minor": 0,
  "metadata": {
    "colab": {
      "name": "ResNet Spectogram: Análisis de sentimientos en Audios.ipynb",
      "provenance": [],
      "authorship_tag": "ABX9TyNefF5vqXYM9DqRV7YowET7",
      "include_colab_link": true
    },
    "kernelspec": {
      "name": "python3",
      "display_name": "Python 3"
    }
  },
  "cells": [
    {
      "cell_type": "markdown",
      "metadata": {
        "id": "view-in-github",
        "colab_type": "text"
      },
      "source": [
        "<a href=\"https://colab.research.google.com/github/mafeacero/Reconocimiento-emociones-con-Redes-Neuronales/blob/master/ResNet_Spectogram_An%C3%A1lisis_de_sentimientos_en_Audios.ipynb\" target=\"_parent\"><img src=\"https://colab.research.google.com/assets/colab-badge.svg\" alt=\"Open In Colab\"/></a>"
      ]
    },
    {
      "cell_type": "markdown",
      "metadata": {
        "id": "obW1TzVZ50ia",
        "colab_type": "text"
      },
      "source": [
        "# ResNet50 para los espectrogramas de los audios\n"
      ]
    },
    {
      "cell_type": "markdown",
      "metadata": {
        "id": "xzCjxUTM56a3",
        "colab_type": "text"
      },
      "source": [
        "## Carga de los datos"
      ]
    },
    {
      "cell_type": "code",
      "metadata": {
        "id": "zBQO1yxF8fO8",
        "colab_type": "code",
        "outputId": "371b9f64-0876-4de6-de18-960b86759630",
        "colab": {
          "base_uri": "https://localhost:8080/",
          "height": 33
        }
      },
      "source": [
        "from google.colab import drive #Conexión con Drive\n",
        "drive.mount('/content/drive')"
      ],
      "execution_count": 0,
      "outputs": [
        {
          "output_type": "stream",
          "text": [
            "Drive already mounted at /content/drive; to attempt to forcibly remount, call drive.mount(\"/content/drive\", force_remount=True).\n"
          ],
          "name": "stdout"
        }
      ]
    },
    {
      "cell_type": "code",
      "metadata": {
        "id": "272FPez28hwm",
        "colab_type": "code",
        "colab": {}
      },
      "source": [
        "#Ubicación de los datos \n",
        "#PATH = '/content/drive/My Drive/Minería de datos/Proyecto Minería de datos/data/Audio'\n",
        "PATH = '/content/drive/My Drive/Estadistica/Estadistica/Minería de datos/Proyecto Minería de datos/data/Audio'\n",
        "#PATH = 'G:\\Mi unidad\\Estadistica\\Estadistica\\Mineria de datos\\Proyecto Minería de datos\\data\\Audio'"
      ],
      "execution_count": 0,
      "outputs": []
    },
    {
      "cell_type": "code",
      "metadata": {
        "id": "3YIejk6M5wA-",
        "colab_type": "code",
        "colab": {}
      },
      "source": [
        "# Loading saved models\n",
        "import joblib\n",
        "\n",
        "X = joblib.load('/content/drive/My Drive/Estadistica/Estadistica/Mineria de datos/Proyecto Minería de datos/Model_audio_img/X.joblib')\n",
        "y = joblib.load('/content/drive/My Drive/Estadistica/Estadistica/Mineria de datos/Proyecto Minería de datos/Model_audio_img/y.joblib')\n",
        "mod=joblib.load('/content/drive/My Drive/Estadistica/Estadistica/Mineria de datos/Proyecto Minería de datos/Model_audio_img/mod.joblib')"
      ],
      "execution_count": 0,
      "outputs": []
    },
    {
      "cell_type": "code",
      "metadata": {
        "id": "4mVgkORx5xaF",
        "colab_type": "code",
        "colab": {}
      },
      "source": [
        "X1=X[:, 0, :, :]\n"
      ],
      "execution_count": 0,
      "outputs": []
    },
    {
      "cell_type": "code",
      "metadata": {
        "id": "Og598WiQPvBM",
        "colab_type": "code",
        "colab": {}
      },
      "source": [
        "import tensorflow as tf\n",
        "\n",
        "# Assuming X and y are initially NumPy arrays\n",
        "X1 = tf.convert_to_tensor(X1)\n",
        "y = tf.convert_to_tensor(y)\n",
        "# Make random permutation\n",
        "perm = tf.random.shuffle(tf.range(tf.shape(X)[0]))\n",
        "# Reorder according to permutation\n",
        "X1 = tf.gather(X1, perm, axis=0)\n",
        "y = tf.gather(y, perm, axis=0)"
      ],
      "execution_count": 0,
      "outputs": []
    },
    {
      "cell_type": "markdown",
      "metadata": {
        "id": "K8MmyZN059OW",
        "colab_type": "text"
      },
      "source": [
        "## Importar paquetes\n",
        "\n"
      ]
    },
    {
      "cell_type": "code",
      "metadata": {
        "id": "BnhmXDpJ5OX3",
        "colab_type": "code",
        "outputId": "af763508-a79a-437c-b853-b745ae92203d",
        "colab": {
          "base_uri": "https://localhost:8080/",
          "height": 33
        }
      },
      "source": [
        "import numpy as np\n",
        "from keras import layers\n",
        "from keras.layers import Input, Add, Dense, Activation, ZeroPadding2D, BatchNormalization, Flatten, Conv2D, AveragePooling2D, MaxPooling2D, GlobalMaxPooling2D\n",
        "from keras.models import Model, load_model\n",
        "from keras.preprocessing import image\n",
        "from keras.utils import layer_utils\n",
        "from keras.utils.data_utils import get_file\n",
        "from keras.applications.imagenet_utils import preprocess_input\n",
        "import pydot\n",
        "from IPython.display import SVG\n",
        "from keras.utils.vis_utils import model_to_dot\n",
        "from keras.utils import plot_model\n",
        "from keras.initializers import glorot_uniform\n",
        "import scipy.misc\n",
        "from matplotlib.pyplot import imshow\n",
        "%matplotlib inline\n",
        "\n",
        "import keras.backend as K\n",
        "K.set_image_data_format('channels_last')\n",
        "K.set_learning_phase(1)"
      ],
      "execution_count": 0,
      "outputs": [
        {
          "output_type": "stream",
          "text": [
            "Using TensorFlow backend.\n"
          ],
          "name": "stderr"
        }
      ]
    },
    {
      "cell_type": "markdown",
      "metadata": {
        "id": "txtOvRvc6J8W",
        "colab_type": "text"
      },
      "source": [
        "## Carga de funciones importantes"
      ]
    },
    {
      "cell_type": "code",
      "metadata": {
        "id": "MNpxa9gj5ow9",
        "colab_type": "code",
        "colab": {}
      },
      "source": [
        "import os\n",
        "import numpy as np\n",
        "import tensorflow as tf\n",
        "import h5py\n",
        "import math\n",
        "\n",
        "\n",
        "def random_mini_batches(X, Y, mini_batch_size = 64, seed = 0):\n",
        "    \"\"\"\n",
        "    Creates a list of random minibatches from (X, Y)\n",
        "    \n",
        "    Arguments:\n",
        "    X -- input data, of shape (input size, number of examples) (m, Hi, Wi, Ci)\n",
        "    Y -- true \"label\" vector (containing 0 if cat, 1 if non-cat), of shape (1, number of examples) (m, n_y)\n",
        "    mini_batch_size - size of the mini-batches, integer\n",
        "    seed -- this is only for the purpose of grading, so that you're \"random minibatches are the same as ours.\n",
        "    \n",
        "    Returns:\n",
        "    mini_batches -- list of synchronous (mini_batch_X, mini_batch_Y)\n",
        "    \"\"\"\n",
        "    \n",
        "    m = X.shape[0]                  # number of training examples\n",
        "    mini_batches = []\n",
        "    np.random.seed(seed)\n",
        "    \n",
        "    # Step 1: Shuffle (X, Y)\n",
        "    permutation = list(np.random.permutation(m))\n",
        "    shuffled_X = X[permutation,:,:,:]\n",
        "    shuffled_Y = Y[permutation,:]\n",
        "\n",
        "    # Step 2: Partition (shuffled_X, shuffled_Y). Minus the end case.\n",
        "    num_complete_minibatches = math.floor(m/mini_batch_size) # number of mini batches of size mini_batch_size in your partitionning\n",
        "    for k in range(0, num_complete_minibatches):\n",
        "        mini_batch_X = shuffled_X[k * mini_batch_size : k * mini_batch_size + mini_batch_size,:,:,:]\n",
        "        mini_batch_Y = shuffled_Y[k * mini_batch_size : k * mini_batch_size + mini_batch_size,:]\n",
        "        mini_batch = (mini_batch_X, mini_batch_Y)\n",
        "        mini_batches.append(mini_batch)\n",
        "    \n",
        "    # Handling the end case (last mini-batch < mini_batch_size)\n",
        "    if m % mini_batch_size != 0:\n",
        "        mini_batch_X = shuffled_X[num_complete_minibatches * mini_batch_size : m,:,:,:]\n",
        "        mini_batch_Y = shuffled_Y[num_complete_minibatches * mini_batch_size : m,:]\n",
        "        mini_batch = (mini_batch_X, mini_batch_Y)\n",
        "        mini_batches.append(mini_batch)\n",
        "    \n",
        "    return mini_batches\n",
        "\n",
        "\n",
        "def convert_to_one_hot(Y, C):\n",
        "    Y = np.eye(C)[Y.reshape(-1)].T\n",
        "    return Y\n",
        "\n",
        "\n",
        "def forward_propagation_for_predict(X, parameters):\n",
        "    \"\"\"\n",
        "    Implements the forward propagation for the model: LINEAR -> RELU -> LINEAR -> RELU -> LINEAR -> SOFTMAX\n",
        "    \n",
        "    Arguments:\n",
        "    X -- input dataset placeholder, of shape (input size, number of examples)\n",
        "    parameters -- python dictionary containing your parameters \"W1\", \"b1\", \"W2\", \"b2\", \"W3\", \"b3\"\n",
        "                  the shapes are given in initialize_parameters\n",
        "    Returns:\n",
        "    Z3 -- the output of the last LINEAR unit\n",
        "    \"\"\"\n",
        "    \n",
        "    # Retrieve the parameters from the dictionary \"parameters\" \n",
        "    W1 = parameters['W1']\n",
        "    b1 = parameters['b1']\n",
        "    W2 = parameters['W2']\n",
        "    b2 = parameters['b2']\n",
        "    W3 = parameters['W3']\n",
        "    b3 = parameters['b3'] \n",
        "                                                           # Numpy Equivalents:\n",
        "    Z1 = tf.add(tf.matmul(W1, X), b1)                      # Z1 = np.dot(W1, X) + b1\n",
        "    A1 = tf.nn.relu(Z1)                                    # A1 = relu(Z1)\n",
        "    Z2 = tf.add(tf.matmul(W2, A1), b2)                     # Z2 = np.dot(W2, a1) + b2\n",
        "    A2 = tf.nn.relu(Z2)                                    # A2 = relu(Z2)\n",
        "    Z3 = tf.add(tf.matmul(W3, A2), b3)                     # Z3 = np.dot(W3,Z2) + b3\n",
        "    \n",
        "    return Z3\n",
        "\n",
        "def predict(X, parameters):\n",
        "    \n",
        "    W1 = tf.convert_to_tensor(parameters[\"W1\"])\n",
        "    b1 = tf.convert_to_tensor(parameters[\"b1\"])\n",
        "    W2 = tf.convert_to_tensor(parameters[\"W2\"])\n",
        "    b2 = tf.convert_to_tensor(parameters[\"b2\"])\n",
        "    W3 = tf.convert_to_tensor(parameters[\"W3\"])\n",
        "    b3 = tf.convert_to_tensor(parameters[\"b3\"])\n",
        "    \n",
        "    params = {\"W1\": W1,\n",
        "              \"b1\": b1,\n",
        "              \"W2\": W2,\n",
        "              \"b2\": b2,\n",
        "              \"W3\": W3,\n",
        "              \"b3\": b3}\n",
        "    \n",
        "    x = tf.placeholder(\"float\", [12288, 1])\n",
        "    \n",
        "    z3 = forward_propagation_for_predict(x, params)\n",
        "    p = tf.argmax(z3)\n",
        "    \n",
        "    sess = tf.Session()\n",
        "    prediction = sess.run(p, feed_dict = {x: X})\n",
        "        \n",
        "    return prediction"
      ],
      "execution_count": 0,
      "outputs": []
    },
    {
      "cell_type": "code",
      "metadata": {
        "id": "Tlsq4rYy5O8u",
        "colab_type": "code",
        "colab": {}
      },
      "source": [
        "def identity_block(X, f, filters, stage, block):\n",
        "    \"\"\"\n",
        "    Implementation of the identity block as defined in Figure 4\n",
        "    \n",
        "    Arguments:\n",
        "    X -- input tensor of shape (m, n_H_prev, n_W_prev, n_C_prev)\n",
        "    f -- integer, specifying the shape of the middle CONV's window for the main path\n",
        "    filters -- python list of integers, defining the number of filters in the CONV layers of the main path\n",
        "    stage -- integer, used to name the layers, depending on their position in the network\n",
        "    block -- string/character, used to name the layers, depending on their position in the network\n",
        "    \n",
        "    Returns:\n",
        "    X -- output of the identity block, tensor of shape (n_H, n_W, n_C)\n",
        "    \"\"\"\n",
        "    \n",
        "    # defining name basis\n",
        "    conv_name_base = 'res' + str(stage) + block + '_branch'\n",
        "    bn_name_base = 'bn' + str(stage) + block + '_branch'\n",
        "    \n",
        "    # Retrieve Filters\n",
        "    F1, F2, F3 = filters\n",
        "    \n",
        "    # Save the input value. You'll need this later to add back to the main path. \n",
        "    X_shortcut = X\n",
        "    \n",
        "    # First component of main path\n",
        "    X = Conv2D(filters = F1, kernel_size = (1, 1), strides = (1,1), padding = 'valid', name = conv_name_base + '2a', kernel_initializer = glorot_uniform(seed=0))(X)\n",
        "    X = BatchNormalization(axis = 3, name = bn_name_base + '2a')(X)\n",
        "    X = Activation('relu')(X)\n",
        "    \n",
        "    ### START CODE HERE ###\n",
        "    \n",
        "    # Second component of main path (≈3 lines)\n",
        "    X = Conv2D(filters = F2, kernel_size = (f, f), strides = (1,1), padding = 'same', name = conv_name_base + '2b', kernel_initializer = glorot_uniform(seed=0))(X)\n",
        "    X = BatchNormalization(axis = 3, name = bn_name_base + '2b')(X)\n",
        "    X = Activation('relu')(X)\n",
        "\n",
        "    # Third component of main path (≈2 lines)\n",
        "    X = Conv2D(filters = F3, kernel_size = (1, 1), strides = (1,1), padding = 'valid', name = conv_name_base + '2c', kernel_initializer = glorot_uniform(seed=0))(X)\n",
        "    X = BatchNormalization(axis = 3, name = bn_name_base + '2c')(X)\n",
        "\n",
        "    # Final step: Add shortcut value to main path, and pass it through a RELU activation (≈2 lines)\n",
        "    X = Add()([X, X_shortcut])\n",
        "    X = Activation('relu')(X)\n",
        "    \n",
        "    ### END CODE HERE ###\n",
        "    \n",
        "    return X"
      ],
      "execution_count": 0,
      "outputs": []
    },
    {
      "cell_type": "code",
      "metadata": {
        "id": "a8JlQ1lP5TGk",
        "colab_type": "code",
        "colab": {}
      },
      "source": [
        "# GRADED FUNCTION: convolutional_block\n",
        "\n",
        "def convolutional_block(X, f, filters, stage, block, s = 2):\n",
        "    \"\"\"\n",
        "    Implementation of the convolutional block as defined in Figure 4\n",
        "    \n",
        "    Arguments:\n",
        "    X -- input tensor of shape (m, n_H_prev, n_W_prev, n_C_prev)\n",
        "    f -- integer, specifying the shape of the middle CONV's window for the main path\n",
        "    filters -- python list of integers, defining the number of filters in the CONV layers of the main path\n",
        "    stage -- integer, used to name the layers, depending on their position in the network\n",
        "    block -- string/character, used to name the layers, depending on their position in the network\n",
        "    s -- Integer, specifying the stride to be used\n",
        "    \n",
        "    Returns:\n",
        "    X -- output of the convolutional block, tensor of shape (n_H, n_W, n_C)\n",
        "    \"\"\"\n",
        "    \n",
        "    # defining name basis\n",
        "    conv_name_base = 'res' + str(stage) + block + '_branch'\n",
        "    bn_name_base = 'bn' + str(stage) + block + '_branch'\n",
        "    \n",
        "    # Retrieve Filters\n",
        "    F1, F2, F3 = filters\n",
        "    \n",
        "    # Save the input value\n",
        "    X_shortcut = X\n",
        "\n",
        "\n",
        "    ##### MAIN PATH #####\n",
        "    # First component of main path \n",
        "    X = Conv2D(F1, (1, 1), strides = (s,s), name = conv_name_base + '2a', kernel_initializer = glorot_uniform(seed=0))(X)\n",
        "    X = BatchNormalization(axis = 3, name = bn_name_base + '2a')(X)\n",
        "    X = Activation('relu')(X)\n",
        "    \n",
        "    ### START CODE HERE ###\n",
        "\n",
        "    # Second component of main path (≈3 lines)\n",
        "    X = Conv2D(F2, (f, f), strides = (1,1),padding = 'same', name = conv_name_base + '2b', kernel_initializer = glorot_uniform(seed=0))(X)\n",
        "    X = BatchNormalization(axis = 3, name = bn_name_base + '2b')(X)\n",
        "    X = Activation('relu')(X)\n",
        "\n",
        "    # Third component of main path (≈2 lines)\n",
        "    X = Conv2D(F3, (1, 1), strides = (1,1), name = conv_name_base + '2c', kernel_initializer = glorot_uniform(seed=0))(X)\n",
        "    X = BatchNormalization(axis = 3, name = bn_name_base + '2c')(X)\n",
        "   \n",
        "    ##### SHORTCUT PATH #### (≈2 lines)\n",
        "    X_shortcut = Conv2D(F3, (1, 1), strides = (s,s), name = conv_name_base + '1', kernel_initializer = glorot_uniform(seed=0))(X_shortcut)\n",
        "    X_shortcut = BatchNormalization(axis = 3, name = bn_name_base + '1')(X_shortcut)\n",
        "\n",
        "    # Final step: Add shortcut value to main path, and pass it through a RELU activation (≈2 lines)\n",
        "    X = Add()([X, X_shortcut])\n",
        "    X = Activation('relu')(X)\n",
        "    \n",
        "    ### END CODE HERE ###\n",
        "    \n",
        "    return X"
      ],
      "execution_count": 0,
      "outputs": []
    },
    {
      "cell_type": "markdown",
      "metadata": {
        "id": "mRWTFhbM6Nu3",
        "colab_type": "text"
      },
      "source": [
        "## Definición del modelo ResNet50"
      ]
    },
    {
      "cell_type": "code",
      "metadata": {
        "id": "UtNoQ0tU5U71",
        "colab_type": "code",
        "colab": {}
      },
      "source": [
        "# GRADED FUNCTION: ResNet50\n",
        "\n",
        "def ResNet50(input_shape = (64, 64, 3), classes = 6):\n",
        "    \"\"\"\n",
        "    Implementation of the popular ResNet50 the following architecture:\n",
        "    CONV2D -> BATCHNORM -> RELU -> MAXPOOL -> CONVBLOCK -> IDBLOCK*2 -> CONVBLOCK -> IDBLOCK*3\n",
        "    -> CONVBLOCK -> IDBLOCK*5 -> CONVBLOCK -> IDBLOCK*2 -> AVGPOOL -> TOPLAYER\n",
        "\n",
        "    Arguments:\n",
        "    input_shape -- shape of the images of the dataset\n",
        "    classes -- integer, number of classes\n",
        "\n",
        "    Returns:\n",
        "    model -- a Model() instance in Keras\n",
        "    \"\"\"\n",
        "    \n",
        "    # Define the input as a tensor with shape input_shape\n",
        "    X_input = Input(input_shape)\n",
        "\n",
        "    \n",
        "    # Zero-Padding\n",
        "    X = ZeroPadding2D((3, 3))(X_input)\n",
        "    \n",
        "    # Stage 1\n",
        "    X = Conv2D(64, (7, 7), strides = (2, 2), name = 'conv1', kernel_initializer = glorot_uniform(seed=0))(X)\n",
        "    X = BatchNormalization(axis = 3, name = 'bn_conv1')(X)\n",
        "    X = Activation('relu')(X)\n",
        "    X = MaxPooling2D((3, 3), strides=(2, 2))(X)\n",
        "\n",
        "    # Stage 2\n",
        "    X = convolutional_block(X, f = 3, filters = [64, 64, 256], stage = 2, block='a', s = 1)\n",
        "    X = identity_block(X, 3, [64, 64, 256], stage=2, block='b')\n",
        "    X = identity_block(X, 3, [64, 64, 256], stage=2, block='c')\n",
        "\n",
        "    ### START CODE HERE ###\n",
        "\n",
        "    # Stage 3 (≈4 lines)\n",
        "    X = convolutional_block(X, f = 3, filters = [128, 128, 512], stage = 3, block='a', s = 2)\n",
        "    X = identity_block(X, 3, [128, 128, 512], stage=3, block='b')\n",
        "    X = identity_block(X, 3, [128, 128, 512], stage=3, block='c')\n",
        "    X = identity_block(X, 3, [128, 128, 512], stage=3, block='d')\n",
        "\n",
        "    # Stage 4 (≈6 lines)\n",
        "    X = convolutional_block(X, f = 3, filters = [256, 256, 1024], stage = 4, block='a', s = 2)\n",
        "    X = identity_block(X, 3, [256, 256, 1024], stage=4, block='b')\n",
        "    X = identity_block(X, 3, [256, 256, 1024], stage=4, block='c')\n",
        "    X = identity_block(X, 3, [256, 256, 1024], stage=4, block='d')\n",
        "    X = identity_block(X, 3, [256, 256, 1024], stage=4, block='e')\n",
        "    X = identity_block(X, 3, [256, 256, 1024], stage=4, block='f')\n",
        "\n",
        "    # Stage 5 (≈3 lines)\n",
        "    X = convolutional_block(X, f = 3, filters = [512, 512, 2048], stage = 5, block='a', s = 2)\n",
        "    X = identity_block(X, 3, [512, 512, 2048], stage=5, block='b')\n",
        "    X = identity_block(X, 3, [512, 512, 2048], stage=5, block='c')\n",
        "\n",
        "    # AVGPOOL (≈1 line). Use \"X = AveragePooling2D(...)(X)\"\n",
        "    X = AveragePooling2D((2, 2), name='avg_pool')(X)\n",
        "    \n",
        "    ### END CODE HERE ###\n",
        "\n",
        "    # output layer\n",
        "    X = Flatten()(X)\n",
        "    X = Dense(classes, activation='softmax', name='fc' + str(classes), kernel_initializer = glorot_uniform(seed=0))(X)\n",
        "    \n",
        "    \n",
        "    # Create model\n",
        "    model = Model(inputs = X_input, outputs = X, name='ResNet50')\n",
        "\n",
        "    return model"
      ],
      "execution_count": 0,
      "outputs": []
    },
    {
      "cell_type": "markdown",
      "metadata": {
        "id": "dzAM0IGp6Sh3",
        "colab_type": "text"
      },
      "source": [
        "## Aplicar el modelo"
      ]
    },
    {
      "cell_type": "code",
      "metadata": {
        "id": "tX0z87vm5WRf",
        "colab_type": "code",
        "colab": {}
      },
      "source": [
        "model = ResNet50(input_shape = (223, 217, 3), classes = 8)"
      ],
      "execution_count": 0,
      "outputs": []
    },
    {
      "cell_type": "code",
      "metadata": {
        "id": "iwawM5FX5Xet",
        "colab_type": "code",
        "colab": {}
      },
      "source": [
        "model.compile(optimizer='adam', loss='categorical_crossentropy', metrics=['accuracy'])"
      ],
      "execution_count": 0,
      "outputs": []
    },
    {
      "cell_type": "code",
      "metadata": {
        "id": "zV06DlZA5Y2-",
        "colab_type": "code",
        "colab": {}
      },
      "source": [
        "y=[int(i)-1 for i in y]\n"
      ],
      "execution_count": 0,
      "outputs": []
    },
    {
      "cell_type": "code",
      "metadata": {
        "id": "4KY7hAlaQpFS",
        "colab_type": "code",
        "outputId": "890bc971-5fff-479e-fae4-b8012bf8938a",
        "colab": {
          "base_uri": "https://localhost:8080/",
          "height": 33
        }
      },
      "source": [
        "X1=np.array(X1)\n",
        "y=np.array(y)\n",
        "X1.shape\n"
      ],
      "execution_count": 0,
      "outputs": [
        {
          "output_type": "execute_result",
          "data": {
            "text/plain": [
              "(2452, 223, 217, 3)"
            ]
          },
          "metadata": {
            "tags": []
          },
          "execution_count": 28
        }
      ]
    },
    {
      "cell_type": "code",
      "metadata": {
        "id": "ieNhXzYnRfUJ",
        "colab_type": "code",
        "outputId": "aa9c6ff2-495a-4808-82ad-12bcbbaa4539",
        "colab": {
          "base_uri": "https://localhost:8080/",
          "height": 33
        }
      },
      "source": [
        "y"
      ],
      "execution_count": 0,
      "outputs": [
        {
          "output_type": "execute_result",
          "data": {
            "text/plain": [
              "array([6, 2, 5, ..., 0, 2, 0])"
            ]
          },
          "metadata": {
            "tags": []
          },
          "execution_count": 29
        }
      ]
    },
    {
      "cell_type": "code",
      "metadata": {
        "id": "STh7XzIw5ahF",
        "colab_type": "code",
        "colab": {}
      },
      "source": [
        "from sklearn.model_selection import train_test_split\n",
        "\n",
        "X_train_orig, X_test_orig,  Y_train_orig, Y_test_orig=  train_test_split(X1, y, test_size=0.2, random_state=42)\n",
        "\n",
        "X_train_orig=np.array(X_train_orig)\n",
        "Y_train_orig=np.array(Y_train_orig)\n",
        "X_test_orig=np.array(X_test_orig)\n",
        "Y_test_orig=np.array(Y_test_orig)\n",
        "\n"
      ],
      "execution_count": 0,
      "outputs": []
    },
    {
      "cell_type": "code",
      "metadata": {
        "id": "gNTGuB6t5b92",
        "colab_type": "code",
        "outputId": "b8369523-0ed2-4697-d9eb-3688310d12e2",
        "colab": {
          "base_uri": "https://localhost:8080/",
          "height": 33
        }
      },
      "source": [
        "Y_train_orig.shape"
      ],
      "execution_count": 0,
      "outputs": [
        {
          "output_type": "execute_result",
          "data": {
            "text/plain": [
              "(1961,)"
            ]
          },
          "metadata": {
            "tags": []
          },
          "execution_count": 31
        }
      ]
    },
    {
      "cell_type": "code",
      "metadata": {
        "id": "UDh8LHAR5dX-",
        "colab_type": "code",
        "colab": {}
      },
      "source": [
        "Y_train_orig=Y_train_orig.reshape((1, Y_train_orig.shape[0]))\n",
        "Y_test_orig=Y_test_orig.reshape((1, Y_test_orig.shape[0]))"
      ],
      "execution_count": 0,
      "outputs": []
    },
    {
      "cell_type": "code",
      "metadata": {
        "id": "HdrQtlbi5enu",
        "colab_type": "code",
        "colab": {}
      },
      "source": [
        "classes=np.array(list(set(y))) # the list of classes\n"
      ],
      "execution_count": 0,
      "outputs": []
    },
    {
      "cell_type": "code",
      "metadata": {
        "id": "loHxbw0a5f61",
        "colab_type": "code",
        "outputId": "1cb84831-ccd8-41c6-f712-f9e19870fa38",
        "colab": {
          "base_uri": "https://localhost:8080/",
          "height": 117
        }
      },
      "source": [
        "# Normalize image vectors\n",
        "X_train = X_train_orig/255.\n",
        "X_test = X_test_orig/255.\n",
        "\n",
        "# Convert training and test labels to one hot matrices\n",
        "Y_train = convert_to_one_hot(Y_train_orig, 8).T\n",
        "Y_test = convert_to_one_hot(Y_test_orig, 8).T\n",
        "\n",
        "print (\"number of training examples = \" + str(X_train.shape[0]))\n",
        "print (\"number of test examples = \" + str(X_test.shape[0]))\n",
        "print (\"X_train shape: \" + str(X_train.shape))\n",
        "print (\"Y_train shape: \" + str(Y_train.shape))\n",
        "print (\"X_test shape: \" + str(X_test.shape))\n",
        "print (\"Y_test shape: \" + str(Y_test.shape))"
      ],
      "execution_count": 0,
      "outputs": [
        {
          "output_type": "stream",
          "text": [
            "number of training examples = 1961\n",
            "number of test examples = 491\n",
            "X_train shape: (1961, 223, 217, 3)\n",
            "Y_train shape: (1961, 8)\n",
            "X_test shape: (491, 223, 217, 3)\n",
            "Y_test shape: (491, 8)\n"
          ],
          "name": "stdout"
        }
      ]
    },
    {
      "cell_type": "code",
      "metadata": {
        "id": "e_IkaKgc5hOO",
        "colab_type": "code",
        "colab": {}
      },
      "source": [
        "import tensorflow as tf\n",
        "\n",
        "# Assuming X and y are initially NumPy arrays\n",
        "X_train = tf.convert_to_tensor(X_train)\n",
        "X_test = tf.convert_to_tensor(X_test)\n",
        "Y_train = tf.convert_to_tensor(Y_train)\n",
        "Y_test = tf.convert_to_tensor(Y_test)\n",
        "\n",
        "# Make random permutation\n",
        "perm1 = tf.random.shuffle(tf.range(tf.shape(X_train)[0]))\n",
        "perm2 = tf.random.shuffle(tf.range(tf.shape(X_test)[0]))\n",
        "\n",
        "# Reorder according to permutation\n",
        "X_train = tf.gather(X_train, perm1, axis=0)\n",
        "X_test =tf.gather(X_test, perm2,  axis=0)\n",
        "Y_train = tf.gather(Y_train, perm1, axis=0)\n",
        "Y_test = tf.gather(Y_test, perm2, axis=0)\n"
      ],
      "execution_count": 0,
      "outputs": []
    },
    {
      "cell_type": "markdown",
      "metadata": {
        "id": "-mAq5M0f6VfI",
        "colab_type": "text"
      },
      "source": [
        "## Ajuste del modelo y predicciones "
      ]
    },
    {
      "cell_type": "code",
      "metadata": {
        "id": "jo_UCbuo5iy2",
        "colab_type": "code",
        "outputId": "d57c42c4-742b-4217-a2f5-016642d050de",
        "colab": {
          "base_uri": "https://localhost:8080/",
          "height": 50
        }
      },
      "source": [
        "history=model.fit(X_train, Y_train, epochs = 21, steps_per_epoch = 32, validation_steps=32, validation_data=(X_test, Y_test))"
      ],
      "execution_count": 0,
      "outputs": [
        {
          "output_type": "stream",
          "text": [
            "Train on 1961 samples, validate on 491 samples\n",
            "Epoch 1/21\n"
          ],
          "name": "stdout"
        }
      ]
    },
    {
      "cell_type": "code",
      "metadata": {
        "id": "_ZU1OjRL5kN_",
        "colab_type": "code",
        "outputId": "cde49be4-696b-4564-9c14-b2fdc507e4eb",
        "colab": {
          "base_uri": "https://localhost:8080/",
          "height": 67
        }
      },
      "source": [
        "preds = model.evaluate(X_test, Y_test)\n",
        "print (\"Loss = \" + str(preds[0]))\n",
        "print (\"Test Accuracy = \" + str(preds[1]))"
      ],
      "execution_count": 0,
      "outputs": [
        {
          "output_type": "stream",
          "text": [
            "491/491 [==============================] - 66s 134ms/step\n",
            "Loss = 1.41494269429302\n",
            "Test Accuracy = 0.6985743641853333\n"
          ],
          "name": "stdout"
        }
      ]
    },
    {
      "cell_type": "code",
      "metadata": {
        "id": "92dweoyO-O2f",
        "colab_type": "code",
        "outputId": "e1f1eed5-1322-4b30-b30a-60f39dd12470",
        "colab": {
          "base_uri": "https://localhost:8080/",
          "height": 301
        }
      },
      "source": [
        "import matplotlib.pyplot as plt\n",
        "acc = history.history['accuracy']\n",
        "val_acc = history.history['val_accuracy']\n",
        "loss = history.history['loss']\n",
        "val_loss = history.history['val_loss']\n",
        "\n",
        "epochs = range(len(acc))\n",
        "\n",
        "n_row = 1\n",
        "n_col = 2\n",
        "fig, ax = plt.subplots(n_row, n_col, sharex = False, sharey = False, figsize=(16,4))\n",
        "\n",
        "\n",
        "ax[0].plot(epochs, acc, 'r', label='Training accuracy')\n",
        "ax[0].plot(epochs, val_acc, 'b', label='Validation accuracy')\n",
        "ax[0].legend(fontsize=12,loc=0)\n",
        "ax[0].set_title('Training and Validation Accuracy',fontsize=16)\n",
        "ax[0].set_ylabel('measure',fontsize=14)\n",
        "ax[0].set_xlabel('epoch', fontsize = 14)\n",
        "ax[0].set_xlim([1, len(acc)])\n",
        "\n",
        "ax[1].plot(epochs, loss, 'r', label='Training Loss')\n",
        "ax[1].plot(epochs, val_loss, 'b', label='Validation Loss')\n",
        "ax[1].legend(fontsize=12)\n",
        "ax[1].set_title('Training and Validation Loss',fontsize=16)\n",
        "ax[1].set_ylabel('measure',fontsize=14)\n",
        "ax[1].set_xlabel('epoch', fontsize = 14)\n",
        "ax[1].set_xlim([1, len(acc)])\n",
        "\n",
        "\n",
        "plt.show()"
      ],
      "execution_count": 0,
      "outputs": [
        {
          "output_type": "display_data",
          "data": {
            "image/png": "[encoded data removed]",
            "text/plain": [
              "<Figure size 1152x288 with 2 Axes>"
            ]
          },
          "metadata": {
            "tags": [],
            "needs_background": "light"
          }
        }
      ]
    },
    {
      "cell_type": "markdown",
      "metadata": {
        "id": "SCn_ouoPAMNp",
        "colab_type": "text"
      },
      "source": [
        "# Solo SPEECH"
      ]
    },
    {
      "cell_type": "code",
      "metadata": {
        "id": "roLmua-FALST",
        "colab_type": "code",
        "colab": {}
      },
      "source": [
        "model = ResNet50(input_shape = (223, 217, 3), classes = 8)"
      ],
      "execution_count": 0,
      "outputs": []
    },
    {
      "cell_type": "code",
      "metadata": {
        "id": "ISFrWb0DDvOP",
        "colab_type": "code",
        "colab": {}
      },
      "source": [
        "model.compile(optimizer='adam', loss='categorical_crossentropy', metrics=['accuracy'])"
      ],
      "execution_count": 0,
      "outputs": []
    },
    {
      "cell_type": "code",
      "metadata": {
        "id": "5KN26RyuEeiS",
        "colab_type": "code",
        "colab": {}
      },
      "source": [
        "y=np.asarray(y)"
      ],
      "execution_count": 0,
      "outputs": []
    },
    {
      "cell_type": "code",
      "metadata": {
        "id": "mbVWaCIUEK5T",
        "colab_type": "code",
        "colab": {}
      },
      "source": [
        "a=[i for i, j in enumerate(mod) if j == '01']"
      ],
      "execution_count": 0,
      "outputs": []
    },
    {
      "cell_type": "code",
      "metadata": {
        "id": "FvKsivmWEH3t",
        "colab_type": "code",
        "colab": {}
      },
      "source": [
        "y=[int(i)-1 for i in y]\n"
      ],
      "execution_count": 0,
      "outputs": []
    },
    {
      "cell_type": "code",
      "metadata": {
        "id": "klm2xzgaE_l6",
        "colab_type": "code",
        "outputId": "42b1f04b-9492-4b37-fdcd-6d6f6dd1d555",
        "colab": {
          "base_uri": "https://localhost:8080/",
          "height": 33
        }
      },
      "source": [
        "y"
      ],
      "execution_count": 0,
      "outputs": [
        {
          "output_type": "execute_result",
          "data": {
            "text/plain": [
              "array([0, 0, 0, ..., 5, 5, 5])"
            ]
          },
          "metadata": {
            "tags": []
          },
          "execution_count": 20
        }
      ]
    },
    {
      "cell_type": "code",
      "metadata": {
        "id": "7Ec_rX3PD8j8",
        "colab_type": "code",
        "colab": {}
      },
      "source": [
        "X_1=X1[a,:,:,:]\n",
        "y1=y[a]"
      ],
      "execution_count": 0,
      "outputs": []
    },
    {
      "cell_type": "code",
      "metadata": {
        "id": "cA-ioCcCDyvb",
        "colab_type": "code",
        "colab": {}
      },
      "source": [
        "from sklearn.model_selection import train_test_split\n",
        "X_train_orig, X_test_orig,  Y_train_orig, Y_test_orig=  train_test_split(X_1, y1, test_size=0.2, random_state=42)\n",
        "X_train_orig=np.array(X_train_orig)\n",
        "Y_train_orig=np.array(Y_train_orig)\n",
        "X_test_orig=np.array(X_test_orig)\n",
        "Y_test_orig=np.array(Y_test_orig)\n"
      ],
      "execution_count": 0,
      "outputs": []
    },
    {
      "cell_type": "code",
      "metadata": {
        "id": "T9kjvLDeD0a5",
        "colab_type": "code",
        "colab": {}
      },
      "source": [
        "Y_train_orig=Y_train_orig.reshape((1, Y_train_orig.shape[0]))\n",
        "Y_test_orig=Y_test_orig.reshape((1, Y_test_orig.shape[0]))"
      ],
      "execution_count": 0,
      "outputs": []
    },
    {
      "cell_type": "code",
      "metadata": {
        "id": "zW-8XsfGD4Yb",
        "colab_type": "code",
        "outputId": "b7f59961-c5a2-4160-c24d-3b5157c25089",
        "colab": {
          "base_uri": "https://localhost:8080/",
          "height": 119
        }
      },
      "source": [
        "#Normalize image vectors\n",
        "X_train = X_train_orig/255.\n",
        "X_test = X_test_orig/255.\n",
        "\n",
        "# Convert training and test labels to one hot matrices\n",
        "Y_train = convert_to_one_hot(Y_train_orig, 8).T\n",
        "Y_test = convert_to_one_hot(Y_test_orig, 8).T\n",
        "\n",
        "print (\"number of training examples = \" + str(X_train.shape[0]))\n",
        "print (\"number of test examples = \" + str(X_test.shape[0]))\n",
        "print (\"X_train shape: \" + str(X_train.shape))\n",
        "print (\"Y_train shape: \" + str(Y_train.shape))\n",
        "print (\"X_test shape: \" + str(X_test.shape))\n",
        "print (\"Y_test shape: \" + str(Y_test.shape))"
      ],
      "execution_count": 0,
      "outputs": [
        {
          "output_type": "stream",
          "text": [
            "number of training examples = 1152\n",
            "number of test examples = 288\n",
            "X_train shape: (1152, 223, 217, 3)\n",
            "Y_train shape: (1152, 8)\n",
            "X_test shape: (288, 223, 217, 3)\n",
            "Y_test shape: (288, 8)\n"
          ],
          "name": "stdout"
        }
      ]
    },
    {
      "cell_type": "code",
      "metadata": {
        "id": "V08D5vQeRMrj",
        "colab_type": "code",
        "outputId": "d7784c19-54ac-4344-d3a5-7fd62a3a48e6",
        "colab": {
          "base_uri": "https://localhost:8080/",
          "height": 748
        }
      },
      "source": [
        "history=model.fit(X_train, Y_train, epochs = 21, batch_size = 32, validation_data=(X_test, Y_test))"
      ],
      "execution_count": 0,
      "outputs": [
        {
          "output_type": "stream",
          "text": [
            "Train on 1152 samples, validate on 288 samples\n",
            "Epoch 1/21\n",
            "1152/1152 [==============================] - 713s 619ms/step - loss: 5.9997 - accuracy: 0.1345 - val_loss: 2.1502 - val_accuracy: 0.1701\n",
            "Epoch 2/21\n",
            "1152/1152 [==============================] - 709s 615ms/step - loss: 2.0200 - accuracy: 0.2083 - val_loss: 2.4041 - val_accuracy: 0.2465\n",
            "Epoch 3/21\n",
            "1152/1152 [==============================] - 726s 630ms/step - loss: 1.8004 - accuracy: 0.3125 - val_loss: 1.8431 - val_accuracy: 0.3576\n",
            "Epoch 4/21\n",
            "1152/1152 [==============================] - 725s 629ms/step - loss: 1.5277 - accuracy: 0.4175 - val_loss: 1.6815 - val_accuracy: 0.3854\n",
            "Epoch 5/21\n",
            "1152/1152 [==============================] - 743s 645ms/step - loss: 1.3278 - accuracy: 0.5061 - val_loss: 1.5025 - val_accuracy: 0.4375\n",
            "Epoch 6/21\n",
            "1152/1152 [==============================] - 747s 648ms/step - loss: 1.1378 - accuracy: 0.5738 - val_loss: 1.4882 - val_accuracy: 0.4722\n",
            "Epoch 7/21\n",
            "1152/1152 [==============================] - 726s 630ms/step - loss: 1.0314 - accuracy: 0.6311 - val_loss: 1.4823 - val_accuracy: 0.4653\n",
            "Epoch 8/21\n",
            "1152/1152 [==============================] - 731s 635ms/step - loss: 0.7748 - accuracy: 0.7309 - val_loss: 1.5507 - val_accuracy: 0.5035\n",
            "Epoch 9/21\n",
            "1152/1152 [==============================] - 737s 640ms/step - loss: 0.7634 - accuracy: 0.7214 - val_loss: 1.6185 - val_accuracy: 0.4375\n",
            "Epoch 10/21\n",
            "1152/1152 [==============================] - 736s 639ms/step - loss: 0.6102 - accuracy: 0.7674 - val_loss: 1.5734 - val_accuracy: 0.5000\n",
            "Epoch 11/21\n",
            "1152/1152 [==============================] - 743s 645ms/step - loss: 0.3910 - accuracy: 0.8620 - val_loss: 1.6870 - val_accuracy: 0.4826\n",
            "Epoch 12/21\n",
            "1152/1152 [==============================] - 737s 640ms/step - loss: 0.4092 - accuracy: 0.8498 - val_loss: 2.2377 - val_accuracy: 0.4757\n",
            "Epoch 13/21\n",
            "1152/1152 [==============================] - 718s 624ms/step - loss: 0.4736 - accuracy: 0.8325 - val_loss: 1.7889 - val_accuracy: 0.5278\n",
            "Epoch 14/21\n",
            "1152/1152 [==============================] - 719s 624ms/step - loss: 0.2424 - accuracy: 0.9149 - val_loss: 1.6084 - val_accuracy: 0.5660\n",
            "Epoch 15/21\n",
            "1152/1152 [==============================] - 725s 629ms/step - loss: 0.1252 - accuracy: 0.9540 - val_loss: 1.7488 - val_accuracy: 0.5764\n",
            "Epoch 16/21\n",
            "1152/1152 [==============================] - 712s 618ms/step - loss: 0.1323 - accuracy: 0.9549 - val_loss: 1.7397 - val_accuracy: 0.5868\n",
            "Epoch 17/21\n",
            "1152/1152 [==============================] - 687s 596ms/step - loss: 0.1590 - accuracy: 0.9444 - val_loss: 1.9082 - val_accuracy: 0.5625\n",
            "Epoch 18/21\n",
            "1152/1152 [==============================] - 698s 606ms/step - loss: 0.1053 - accuracy: 0.9635 - val_loss: 2.1443 - val_accuracy: 0.5486\n",
            "Epoch 19/21\n",
            "1152/1152 [==============================] - 697s 605ms/step - loss: 0.1994 - accuracy: 0.9306 - val_loss: 2.0408 - val_accuracy: 0.5278\n",
            "Epoch 20/21\n",
            "1152/1152 [==============================] - 687s 596ms/step - loss: 0.1502 - accuracy: 0.9444 - val_loss: 2.0546 - val_accuracy: 0.5590\n",
            "Epoch 21/21\n",
            "1152/1152 [==============================] - 685s 594ms/step - loss: 0.1016 - accuracy: 0.9696 - val_loss: 2.0309 - val_accuracy: 0.6076\n"
          ],
          "name": "stdout"
        }
      ]
    },
    {
      "cell_type": "markdown",
      "metadata": {
        "id": "DwfyrMns_mDl",
        "colab_type": "text"
      },
      "source": [
        "# Solo SONG"
      ]
    },
    {
      "cell_type": "code",
      "metadata": {
        "colab_type": "code",
        "id": "t9m8XMes_m7k",
        "colab": {}
      },
      "source": [
        "model2 = ResNet50(input_shape = (223, 217, 3), classes = 8)"
      ],
      "execution_count": 0,
      "outputs": []
    },
    {
      "cell_type": "code",
      "metadata": {
        "colab_type": "code",
        "id": "J9-UuZSe_m7s",
        "colab": {}
      },
      "source": [
        "model2.compile(optimizer='adam', loss='categorical_crossentropy', metrics=['accuracy'])"
      ],
      "execution_count": 0,
      "outputs": []
    },
    {
      "cell_type": "code",
      "metadata": {
        "colab_type": "code",
        "id": "TXpXzKrq_m70",
        "colab": {}
      },
      "source": [
        "a=[i for i, j in enumerate(mod) if j == '02']"
      ],
      "execution_count": 0,
      "outputs": []
    },
    {
      "cell_type": "code",
      "metadata": {
        "colab_type": "code",
        "id": "CEots46I_m73",
        "colab": {}
      },
      "source": [
        "y=[int(i)-1 for i in y]\n"
      ],
      "execution_count": 0,
      "outputs": []
    },
    {
      "cell_type": "code",
      "metadata": {
        "colab_type": "code",
        "id": "Cj2tYN1X_m77",
        "colab": {}
      },
      "source": [
        "y=np.asarray(y)"
      ],
      "execution_count": 0,
      "outputs": []
    },
    {
      "cell_type": "code",
      "metadata": {
        "colab_type": "code",
        "id": "Kwo3bXpq_m8C",
        "colab": {}
      },
      "source": [
        "X_1=X1[a,:,:,:]\n",
        "y1=y[a]"
      ],
      "execution_count": 0,
      "outputs": []
    },
    {
      "cell_type": "code",
      "metadata": {
        "colab_type": "code",
        "id": "1hNy1TA-_m8G",
        "colab": {}
      },
      "source": [
        "from sklearn.model_selection import train_test_split\n",
        "X_train_orig, X_test_orig,  Y_train_orig, Y_test_orig=  train_test_split(X_1, y1, test_size=0.2, random_state=42)\n",
        "X_train_orig=np.array(X_train_orig)\n",
        "Y_train_orig=np.array(Y_train_orig)\n",
        "X_test_orig=np.array(X_test_orig)\n",
        "Y_test_orig=np.array(Y_test_orig)\n"
      ],
      "execution_count": 0,
      "outputs": []
    },
    {
      "cell_type": "code",
      "metadata": {
        "colab_type": "code",
        "id": "TQq_snOw_m8J",
        "colab": {}
      },
      "source": [
        "Y_train_orig=Y_train_orig.reshape((1, Y_train_orig.shape[0]))\n",
        "Y_test_orig=Y_test_orig.reshape((1, Y_test_orig.shape[0]))"
      ],
      "execution_count": 0,
      "outputs": []
    },
    {
      "cell_type": "code",
      "metadata": {
        "colab_type": "code",
        "outputId": "1245952d-e186-42d0-ffe3-2d5157d7dc42",
        "id": "irPhGPoq_m8M",
        "colab": {
          "base_uri": "https://localhost:8080/",
          "height": 119
        }
      },
      "source": [
        "#Normalize image vectors\n",
        "X_train = X_train_orig/255.\n",
        "X_test = X_test_orig/255.\n",
        "\n",
        "# Convert training and test labels to one hot matrices\n",
        "Y_train = convert_to_one_hot(Y_train_orig, 8).T\n",
        "Y_test = convert_to_one_hot(Y_test_orig, 8).T\n",
        "\n",
        "print (\"number of training examples = \" + str(X_train.shape[0]))\n",
        "print (\"number of test examples = \" + str(X_test.shape[0]))\n",
        "print (\"X_train shape: \" + str(X_train.shape))\n",
        "print (\"Y_train shape: \" + str(Y_train.shape))\n",
        "print (\"X_test shape: \" + str(X_test.shape))\n",
        "print (\"Y_test shape: \" + str(Y_test.shape))"
      ],
      "execution_count": 0,
      "outputs": [
        {
          "output_type": "stream",
          "text": [
            "number of training examples = 809\n",
            "number of test examples = 203\n",
            "X_train shape: (809, 223, 217, 3)\n",
            "Y_train shape: (809, 8)\n",
            "X_test shape: (203, 223, 217, 3)\n",
            "Y_test shape: (203, 8)\n"
          ],
          "name": "stdout"
        }
      ]
    },
    {
      "cell_type": "code",
      "metadata": {
        "id": "aX49A8LR3BgY",
        "colab_type": "code",
        "outputId": "69a49ba1-18a3-44ca-8afc-bbc76fd9a2a9",
        "colab": {
          "base_uri": "https://localhost:8080/",
          "height": 748
        }
      },
      "source": [
        "history=model2.fit(X_train, Y_train, epochs = 21, batch_size = 32, validation_data=(X_test, Y_test))"
      ],
      "execution_count": 0,
      "outputs": [
        {
          "output_type": "stream",
          "text": [
            "Train on 809 samples, validate on 203 samples\n",
            "Epoch 1/21\n",
            "809/809 [==============================] - 527s 651ms/step - loss: 7.0865 - accuracy: 0.2027 - val_loss: 1.7448 - val_accuracy: 0.2266\n",
            "Epoch 2/21\n",
            "809/809 [==============================] - 522s 645ms/step - loss: 1.7766 - accuracy: 0.2188 - val_loss: 1.7747 - val_accuracy: 0.1970\n",
            "Epoch 3/21\n",
            "809/809 [==============================] - 514s 636ms/step - loss: 1.7203 - accuracy: 0.2732 - val_loss: 1.7261 - val_accuracy: 0.2167\n",
            "Epoch 4/21\n",
            "809/809 [==============================] - 511s 631ms/step - loss: 1.6676 - accuracy: 0.2880 - val_loss: 1.5741 - val_accuracy: 0.3300\n",
            "Epoch 5/21\n",
            "809/809 [==============================] - 497s 614ms/step - loss: 1.4359 - accuracy: 0.4277 - val_loss: 1.1848 - val_accuracy: 0.5369\n",
            "Epoch 6/21\n",
            "809/809 [==============================] - 506s 625ms/step - loss: 1.1633 - accuracy: 0.5340 - val_loss: 1.1655 - val_accuracy: 0.5271\n",
            "Epoch 7/21\n",
            "809/809 [==============================] - 500s 618ms/step - loss: 0.8984 - accuracy: 0.6378 - val_loss: 1.0996 - val_accuracy: 0.5419\n",
            "Epoch 8/21\n",
            "809/809 [==============================] - 505s 625ms/step - loss: 0.8761 - accuracy: 0.6588 - val_loss: 0.9477 - val_accuracy: 0.6453\n",
            "Epoch 9/21\n",
            "809/809 [==============================] - 503s 622ms/step - loss: 0.4197 - accuracy: 0.8492 - val_loss: 0.9413 - val_accuracy: 0.6995\n",
            "Epoch 10/21\n",
            "809/809 [==============================] - 509s 629ms/step - loss: 0.3587 - accuracy: 0.8640 - val_loss: 0.6404 - val_accuracy: 0.7882\n",
            "Epoch 11/21\n",
            "809/809 [==============================] - 504s 623ms/step - loss: 0.2603 - accuracy: 0.9023 - val_loss: 0.7817 - val_accuracy: 0.7291\n",
            "Epoch 12/21\n",
            "809/809 [==============================] - 496s 613ms/step - loss: 0.2416 - accuracy: 0.9098 - val_loss: 0.9755 - val_accuracy: 0.7094\n",
            "Epoch 13/21\n",
            "809/809 [==============================] - 494s 610ms/step - loss: 0.2370 - accuracy: 0.9085 - val_loss: 0.6113 - val_accuracy: 0.7931\n",
            "Epoch 14/21\n",
            "809/809 [==============================] - 493s 609ms/step - loss: 0.1601 - accuracy: 0.9468 - val_loss: 0.3817 - val_accuracy: 0.8571\n",
            "Epoch 15/21\n",
            "809/809 [==============================] - 499s 617ms/step - loss: 0.1520 - accuracy: 0.9518 - val_loss: 0.7890 - val_accuracy: 0.7586\n",
            "Epoch 16/21\n",
            "809/809 [==============================] - 508s 628ms/step - loss: 0.0878 - accuracy: 0.9691 - val_loss: 0.5751 - val_accuracy: 0.8276\n",
            "Epoch 17/21\n",
            "809/809 [==============================] - 518s 641ms/step - loss: 0.0830 - accuracy: 0.9753 - val_loss: 0.8583 - val_accuracy: 0.7931\n",
            "Epoch 18/21\n",
            "809/809 [==============================] - 523s 646ms/step - loss: 0.0674 - accuracy: 0.9778 - val_loss: 0.5623 - val_accuracy: 0.8424\n",
            "Epoch 19/21\n",
            "809/809 [==============================] - 507s 627ms/step - loss: 0.0448 - accuracy: 0.9839 - val_loss: 0.8080 - val_accuracy: 0.8227\n",
            "Epoch 20/21\n",
            "809/809 [==============================] - 510s 631ms/step - loss: 0.0521 - accuracy: 0.9827 - val_loss: 0.4057 - val_accuracy: 0.8719\n",
            "Epoch 21/21\n",
            "809/809 [==============================] - 502s 620ms/step - loss: 0.0830 - accuracy: 0.9765 - val_loss: 0.4764 - val_accuracy: 0.8325\n"
          ],
          "name": "stdout"
        }
      ]
    },
    {
      "cell_type": "code",
      "metadata": {
        "id": "ZHSatzBHsrJH",
        "colab_type": "code",
        "colab": {}
      },
      "source": [
        "scores = model2.evaluate(X_test,\n",
        "                        y_test,\n",
        "                        batch_size=32)\n",
        "print('Test loss:', scores[0])\n",
        "print('Test accuracy:', scores[1])"
      ],
      "execution_count": 0,
      "outputs": []
    },
    {
      "cell_type": "code",
      "metadata": {
        "id": "H6ddyo06sy1I",
        "colab_type": "code",
        "outputId": "17034d77-18fa-4713-97ec-a00af3bb7195",
        "colab": {
          "base_uri": "https://localhost:8080/",
          "height": 301
        }
      },
      "source": [
        "import matplotlib.pyplot as plt\n",
        "acc = history.history['accuracy']\n",
        "val_acc = history.history['val_accuracy']\n",
        "loss = history.history['loss']\n",
        "val_loss = history.history['val_loss']\n",
        "\n",
        "epochs = range(len(acc))\n",
        "\n",
        "n_row = 1\n",
        "n_col = 2\n",
        "fig, ax = plt.subplots(n_row, n_col, sharex = False, sharey = False, figsize=(16,4))\n",
        "\n",
        "\n",
        "ax[0].plot(epochs, acc, 'r', label='Training accuracy')\n",
        "ax[0].plot(epochs, val_acc, 'b', label='Validation accuracy')\n",
        "ax[0].legend(fontsize=12,loc=0)\n",
        "ax[0].set_title('Training and Validation Accuracy',fontsize=16)\n",
        "ax[0].set_ylabel('measure',fontsize=14)\n",
        "ax[0].set_xlabel('epoch', fontsize = 14)\n",
        "ax[0].set_xlim([1, len(acc)])\n",
        "\n",
        "ax[1].plot(epochs, loss, 'r', label='Training Loss')\n",
        "ax[1].plot(epochs, val_loss, 'b', label='Validation Loss')\n",
        "ax[1].legend(fontsize=12)\n",
        "ax[1].set_title('Training and Validation Loss',fontsize=16)\n",
        "ax[1].set_ylabel('measure',fontsize=14)\n",
        "ax[1].set_xlabel('epoch', fontsize = 14)\n",
        "ax[1].set_xlim([1, len(acc)])\n",
        "\n",
        "\n",
        "plt.show()"
      ],
      "execution_count": 0,
      "outputs": [
        {
          "output_type": "display_data",
          "data": {
            "image/png": "[encoded data removed]",
            "text/plain": [
              "<Figure size 1152x288 with 2 Axes>"
            ]
          },
          "metadata": {
            "tags": [],
            "needs_background": "light"
          }
        }
      ]
    }
  ]
}